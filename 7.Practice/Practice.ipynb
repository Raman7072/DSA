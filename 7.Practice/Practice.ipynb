{
 "cells": [
  {
   "cell_type": "markdown",
   "metadata": {},
   "source": [
    "1. Dynamic Programming\n",
    "2. Recursion in LinkedList"
   ]
  },
  {
   "cell_type": "markdown",
   "metadata": {},
   "source": [
    "### Dynamic Programming"
   ]
  },
  {
   "cell_type": "markdown",
   "metadata": {},
   "source": [
    "    Recursion + Memoization"
   ]
  },
  {
   "cell_type": "code",
   "execution_count": 3,
   "metadata": {},
   "outputs": [],
   "source": [
    "def f(value):\n",
    "    if value > 0:\n",
    "        return value + f(value-1)\n",
    "    return 1"
   ]
  },
  {
   "cell_type": "code",
   "execution_count": 4,
   "metadata": {},
   "outputs": [
    {
     "name": "stdout",
     "output_type": "stream",
     "text": [
      "16\n"
     ]
    }
   ],
   "source": [
    "x = f(5)#\n",
    "# 5 + 4 + 3 + 2 + 1 + 1\n",
    "print(x)"
   ]
  },
  {
   "cell_type": "code",
   "execution_count": 5,
   "metadata": {},
   "outputs": [],
   "source": [
    "def f(value):\n",
    "    if value > 0:\n",
    "        f(value-1)\n",
    "        print(value)"
   ]
  },
  {
   "cell_type": "code",
   "execution_count": 6,
   "metadata": {},
   "outputs": [
    {
     "name": "stdout",
     "output_type": "stream",
     "text": [
      "1\n",
      "2\n",
      "3\n",
      "4\n",
      "5\n"
     ]
    }
   ],
   "source": [
    "f(5)"
   ]
  },
  {
   "cell_type": "code",
   "execution_count": 11,
   "metadata": {},
   "outputs": [],
   "source": [
    "def f(x):\n",
    "    if x > 0:\n",
    "        print(x + f(x-1))\n",
    "        return x\n",
    "    return 10"
   ]
  },
  {
   "cell_type": "code",
   "execution_count": 12,
   "metadata": {},
   "outputs": [
    {
     "name": "stdout",
     "output_type": "stream",
     "text": [
      "11\n",
      "3\n",
      "5\n",
      "7\n",
      "9\n",
      "5\n"
     ]
    }
   ],
   "source": [
    "ans = f(5)\n",
    "print(ans)"
   ]
  },
  {
   "cell_type": "code",
   "execution_count": 13,
   "metadata": {},
   "outputs": [],
   "source": [
    "def f(x):\n",
    "    if x > 0:\n",
    "        return x + f(x-1)\n",
    "    return 10"
   ]
  },
  {
   "cell_type": "code",
   "execution_count": 15,
   "metadata": {},
   "outputs": [
    {
     "name": "stdout",
     "output_type": "stream",
     "text": [
      "25\n"
     ]
    }
   ],
   "source": [
    "ans = f(5)\n",
    "print(ans)"
   ]
  },
  {
   "cell_type": "markdown",
   "metadata": {},
   "source": [
    "### DP\n",
    "\n",
    "    Recursion + Memoization"
   ]
  },
  {
   "cell_type": "markdown",
   "metadata": {},
   "source": [
    "fibnacci, substrings -> string, maze problems, nxm matrix find path, combinations"
   ]
  },
  {
   "cell_type": "markdown",
   "metadata": {},
   "source": [
    "$n^{\\text {th}}$ fibnacci number "
   ]
  },
  {
   "cell_type": "markdown",
   "metadata": {},
   "source": [
    "            n:  0 1 2 3 4 5 6  7 8   9   10  11  12 \n",
    "     fib term:  0 1 1 2 3 5 8 13 21  34  55  89  144"
   ]
  },
  {
   "cell_type": "code",
   "execution_count": 7,
   "metadata": {},
   "outputs": [],
   "source": [
    "def fibnacci(n):\n",
    "    if n == 0:\n",
    "        return 0\n",
    "    if n == 1:\n",
    "        return 1\n",
    "    return fibnacci(n-2) + fibnacci(n-1)\n",
    "\n",
    "# T(n) = C + 2T(n-1)"
   ]
  },
  {
   "cell_type": "code",
   "execution_count": 8,
   "metadata": {},
   "outputs": [
    {
     "data": {
      "text/plain": [
       "5"
      ]
     },
     "execution_count": 8,
     "metadata": {},
     "output_type": "execute_result"
    }
   ],
   "source": [
    "fibnacci(5) # 5"
   ]
  },
  {
   "cell_type": "code",
   "execution_count": 9,
   "metadata": {},
   "outputs": [
    {
     "data": {
      "text/plain": [
       "21"
      ]
     },
     "execution_count": 9,
     "metadata": {},
     "output_type": "execute_result"
    }
   ],
   "source": [
    "fibnacci(8) # 21"
   ]
  },
  {
   "cell_type": "code",
   "execution_count": 10,
   "metadata": {},
   "outputs": [
    {
     "data": {
      "text/plain": [
       "144"
      ]
     },
     "execution_count": 10,
     "metadata": {},
     "output_type": "execute_result"
    }
   ],
   "source": [
    "fibnacci(12) # 144"
   ]
  },
  {
   "cell_type": "code",
   "execution_count": null,
   "metadata": {},
   "outputs": [],
   "source": [
    "fibnacci(100)"
   ]
  },
  {
   "cell_type": "code",
   "execution_count": 16,
   "metadata": {},
   "outputs": [],
   "source": [
    "# size, indexes\n",
    "fib_nums = [ 0, 1, 1 ]\n",
    "#            0  1   2\n",
    "def fib(n):\n",
    "    if n < len(fib_nums):\n",
    "        return fib_nums[n]\n",
    "    else:\n",
    "        val = fib(n-2) + fib(n-1)\n",
    "        fib_nums.append(val)\n",
    "        return val\n",
    "        "
   ]
  },
  {
   "cell_type": "code",
   "execution_count": 20,
   "metadata": {},
   "outputs": [
    {
     "data": {
      "text/plain": [
       "8"
      ]
     },
     "execution_count": 20,
     "metadata": {},
     "output_type": "execute_result"
    }
   ],
   "source": [
    "fib(6)"
   ]
  },
  {
   "cell_type": "code",
   "execution_count": 22,
   "metadata": {},
   "outputs": [
    {
     "data": {
      "text/plain": [
       "354224848179261915075"
      ]
     },
     "execution_count": 22,
     "metadata": {},
     "output_type": "execute_result"
    }
   ],
   "source": [
    "fib(100)"
   ]
  },
  {
   "cell_type": "code",
   "execution_count": 24,
   "metadata": {},
   "outputs": [],
   "source": [
    "#fib_nums"
   ]
  },
  {
   "cell_type": "code",
   "execution_count": 25,
   "metadata": {},
   "outputs": [],
   "source": [
    "memory = { 0: 0, 1: 1, 2: 1}\n",
    "\n",
    "def fib(n):\n",
    "    if n in memory.keys():\n",
    "        return memory[n]\n",
    "    else:\n",
    "        val = fib(n-1) + fib(n-2)\n",
    "        memory[n] = val\n",
    "        return val"
   ]
  },
  {
   "cell_type": "code",
   "execution_count": 26,
   "metadata": {},
   "outputs": [
    {
     "name": "stdout",
     "output_type": "stream",
     "text": [
      "{0: 0, 1: 1, 2: 1}\n"
     ]
    }
   ],
   "source": [
    "print(memory)"
   ]
  },
  {
   "cell_type": "code",
   "execution_count": 27,
   "metadata": {},
   "outputs": [
    {
     "data": {
      "text/plain": [
       "13"
      ]
     },
     "execution_count": 27,
     "metadata": {},
     "output_type": "execute_result"
    }
   ],
   "source": [
    "fib(7)"
   ]
  },
  {
   "cell_type": "code",
   "execution_count": 28,
   "metadata": {},
   "outputs": [
    {
     "name": "stdout",
     "output_type": "stream",
     "text": [
      "{0: 0, 1: 1, 2: 1, 3: 2, 4: 3, 5: 5, 6: 8, 7: 13}\n"
     ]
    }
   ],
   "source": [
    "print(memory)"
   ]
  },
  {
   "cell_type": "code",
   "execution_count": 29,
   "metadata": {},
   "outputs": [
    {
     "data": {
      "text/plain": [
       "354224848179261915075"
      ]
     },
     "execution_count": 29,
     "metadata": {},
     "output_type": "execute_result"
    }
   ],
   "source": [
    "fib(100)"
   ]
  },
  {
   "cell_type": "markdown",
   "metadata": {},
   "source": [
    "#### Memoization / Memorization"
   ]
  },
  {
   "cell_type": "code",
   "execution_count": 82,
   "metadata": {},
   "outputs": [],
   "source": [
    "class NestedIterator:\n",
    "    def __init__(self, nestedList):\n",
    "        self.nestedList = nestedList[::-1]\n",
    "        self.gen = self.__next__()\n",
    "    def __next__(self):\n",
    "        while self.hasNext():\n",
    "            top = self.nestedList.pop()# [1, 2]\n",
    "            if type(top) == list:\n",
    "                top = top[::-1] # top=[2, 1]\n",
    "                while len(top) > 0:\n",
    "                    item = top.pop() # 1\n",
    "                    if len(top) > 0:\n",
    "                        self.nestedList.append(top[::-1])\n",
    "                    yield item\n",
    "            else:\n",
    "                yield top\n",
    "    def next(self) -> int:\n",
    "        # [ [3, 4], 2, [1, 2]]\n",
    "        try:\n",
    "            print(self.nestedList)\n",
    "            v = next(self.gen)\n",
    "        except StopIteration:\n",
    "            v = None\n",
    "        return v\n",
    "        \n",
    "    def hasNext(self) -> bool:\n",
    "        return len(self.nestedList) > 0"
   ]
  },
  {
   "cell_type": "code",
   "execution_count": 83,
   "metadata": {},
   "outputs": [],
   "source": [
    "i, r = NestedIterator([[1, 2], 2, [3, 4]]), []"
   ]
  },
  {
   "cell_type": "code",
   "execution_count": 84,
   "metadata": {},
   "outputs": [
    {
     "name": "stdout",
     "output_type": "stream",
     "text": [
      "[[3, 4], 2, [1, 2]]\n",
      "[[3, 4], 2, [2]]\n",
      "[[3, 4], 2, [2]]\n",
      "[[3, 4], 2]\n",
      "[[3, 4]]\n",
      "[[4]]\n",
      "[[4]]\n"
     ]
    }
   ],
   "source": [
    "while i.hasNext():\n",
    "    r.append(i.next())"
   ]
  },
  {
   "cell_type": "code",
   "execution_count": 85,
   "metadata": {},
   "outputs": [
    {
     "data": {
      "text/plain": [
       "[1, 2, 2, 2, 3, 4, 4]"
      ]
     },
     "execution_count": 85,
     "metadata": {},
     "output_type": "execute_result"
    }
   ],
   "source": [
    "r"
   ]
  },
  {
   "cell_type": "code",
   "execution_count": 86,
   "metadata": {},
   "outputs": [],
   "source": [
    "lst = [ [1, 2], 2, [3, 4, 5]]\n",
    "l"
   ]
  },
  {
   "cell_type": "code",
   "execution_count": 88,
   "metadata": {},
   "outputs": [],
   "source": [
    "class NestedIterator:\n",
    "    def __init__(self, nestedList):\n",
    "        self.nestedList = nestedList[::-1]\n",
    "    \n",
    "    def next(self) -> int:\n",
    "        top = self.nestedList.pop() \n",
    "        if type(top) == list:\n",
    "            value = top.pop(0) \n",
    "            if len(top) > 0:\n",
    "                self.nestedList.append(top)\n",
    "            return value\n",
    "        return top\n",
    "            \n",
    "    def hasNext(self) -> bool:\n",
    "        return len(self.nestedList) > 0"
   ]
  },
  {
   "cell_type": "code",
   "execution_count": 89,
   "metadata": {},
   "outputs": [],
   "source": [
    "i, r = NestedIterator([[1, 2], 2, [3, 4]]), []"
   ]
  },
  {
   "cell_type": "code",
   "execution_count": 92,
   "metadata": {},
   "outputs": [],
   "source": [
    "while i.hasNext(): r.append(i.next())"
   ]
  },
  {
   "cell_type": "code",
   "execution_count": 93,
   "metadata": {},
   "outputs": [
    {
     "data": {
      "text/plain": [
       "[1, 2, 2, 3, 4]"
      ]
     },
     "execution_count": 93,
     "metadata": {},
     "output_type": "execute_result"
    }
   ],
   "source": [
    "r"
   ]
  },
  {
   "cell_type": "code",
   "execution_count": 95,
   "metadata": {},
   "outputs": [],
   "source": [
    "i, r = NestedIterator([[1, 2, 3], 4, [5, 6, 7], [8, 9], 10 ]), []"
   ]
  },
  {
   "cell_type": "code",
   "execution_count": 96,
   "metadata": {},
   "outputs": [],
   "source": [
    "while i.hasNext(): r.append(i.next())"
   ]
  },
  {
   "cell_type": "code",
   "execution_count": 97,
   "metadata": {},
   "outputs": [
    {
     "name": "stdout",
     "output_type": "stream",
     "text": [
      "[1, 2, 3, 4, 5, 6, 7, 8, 9, 10]\n"
     ]
    }
   ],
   "source": [
    "print(r)"
   ]
  },
  {
   "cell_type": "code",
   "execution_count": 108,
   "metadata": {},
   "outputs": [],
   "source": [
    "def function(a: int, b: int) -> int:\n",
    "    return a + b"
   ]
  },
  {
   "cell_type": "code",
   "execution_count": null,
   "metadata": {},
   "outputs": [],
   "source": []
  },
  {
   "cell_type": "markdown",
   "metadata": {},
   "source": [
    "### Shallow copy\n",
    "\n",
    "##### Call by refrence "
   ]
  },
  {
   "cell_type": "code",
   "execution_count": 226,
   "metadata": {},
   "outputs": [],
   "source": [
    "class NestedIterator:\n",
    "    def __init__(self, nestedList):\n",
    "        self.nestedList = nestedList[::-1]\n",
    "        self.iter = self.iterator(self.nestedList)\n",
    "        self.curr = self.nestedList\n",
    "    def iterator(self, lst):\n",
    "        self.curr = lst\n",
    "        while len(lst) > 0:\n",
    "            item = lst.pop()\n",
    "            if type(item) == list:\n",
    "                for value in iterator(item):\n",
    "                    yield value\n",
    "            else:\n",
    "                yield item\n",
    "\n",
    "    def next(self):\n",
    "        return next(self.iter)\n",
    "              \n",
    "    def hasNext(self) -> bool:\n",
    "        print(self.curr)\n",
    "        return len(self.curr) > 0\n",
    "         "
   ]
  },
  {
   "cell_type": "code",
   "execution_count": 227,
   "metadata": {},
   "outputs": [
    {
     "name": "stdout",
     "output_type": "stream",
     "text": [
      "[[1, 1], 2, [1, 1]]\n",
      "[[1, 1], 2]\n",
      "[[1, 1], 2]\n",
      "[[1, 1]]\n",
      "[]\n",
      "[[1, 1], 2, [1, 1]]\n",
      "[1, 1, 2, 1]\n",
      "--------------------\n",
      "[[4, [6, 2]], 1]\n",
      "[[4, [6, 2]]]\n",
      "[]\n",
      "[1, [4, [6, 2]]]\n",
      "[1, 4]\n",
      "--------------------\n"
     ]
    }
   ],
   "source": [
    "ip = [ [[1,1],2,[1,1]], [1,[4,[6, 2]]] ]\n",
    "for lst in ip:\n",
    "    i, r = NestedIterator(lst), []\n",
    "    while i.hasNext(): r.append(i.next())\n",
    "    print(lst)\n",
    "    print(r)\n",
    "    print('-'*20)"
   ]
  },
  {
   "cell_type": "code",
   "execution_count": 216,
   "metadata": {},
   "outputs": [
    {
     "data": {
      "text/plain": [
       "6"
      ]
     },
     "execution_count": 216,
     "metadata": {},
     "output_type": "execute_result"
    }
   ],
   "source": [
    "i.next()"
   ]
  },
  {
   "cell_type": "code",
   "execution_count": 213,
   "metadata": {},
   "outputs": [],
   "source": [
    "i, r = NestedIterator([[1, 2, 3], 4, [5, 6, 7], [8, 9], 10 ]), []\n",
    "while i.hasNext():\n",
    "    r.append(i.next())"
   ]
  },
  {
   "cell_type": "code",
   "execution_count": 214,
   "metadata": {},
   "outputs": [
    {
     "data": {
      "text/plain": [
       "[1, 2, 3, 4, 5, 6, 7, 8, 9, 10]"
      ]
     },
     "execution_count": 214,
     "metadata": {},
     "output_type": "execute_result"
    }
   ],
   "source": [
    "r"
   ]
  },
  {
   "cell_type": "code",
   "execution_count": null,
   "metadata": {},
   "outputs": [],
   "source": []
  },
  {
   "cell_type": "markdown",
   "metadata": {},
   "source": [
    "n*m\n",
    "\n",
    "n -> length of main list\n",
    "\n",
    "m -> length of largest sublist"
   ]
  },
  {
   "cell_type": "code",
   "execution_count": 185,
   "metadata": {},
   "outputs": [],
   "source": [
    "def f():\n",
    "    yield 1\n",
    "    print(\"hello\")\n",
    "    yield 2\n",
    "    print(\"hi\")\n",
    "    yield 3"
   ]
  },
  {
   "cell_type": "code",
   "execution_count": 187,
   "metadata": {},
   "outputs": [
    {
     "name": "stdout",
     "output_type": "stream",
     "text": [
      "<generator object f at 0x000001A353416B30>\n"
     ]
    }
   ],
   "source": [
    "i = f()\n",
    "print(i)"
   ]
  },
  {
   "cell_type": "code",
   "execution_count": 188,
   "metadata": {},
   "outputs": [
    {
     "data": {
      "text/plain": [
       "1"
      ]
     },
     "execution_count": 188,
     "metadata": {},
     "output_type": "execute_result"
    }
   ],
   "source": [
    "next(i)"
   ]
  },
  {
   "cell_type": "code",
   "execution_count": 189,
   "metadata": {},
   "outputs": [
    {
     "name": "stdout",
     "output_type": "stream",
     "text": [
      "hello\n"
     ]
    },
    {
     "data": {
      "text/plain": [
       "2"
      ]
     },
     "execution_count": 189,
     "metadata": {},
     "output_type": "execute_result"
    }
   ],
   "source": [
    "next(i)"
   ]
  },
  {
   "cell_type": "code",
   "execution_count": 190,
   "metadata": {},
   "outputs": [
    {
     "name": "stdout",
     "output_type": "stream",
     "text": [
      "hi\n"
     ]
    },
    {
     "data": {
      "text/plain": [
       "3"
      ]
     },
     "execution_count": 190,
     "metadata": {},
     "output_type": "execute_result"
    }
   ],
   "source": [
    "next(i)"
   ]
  },
  {
   "cell_type": "code",
   "execution_count": 191,
   "metadata": {},
   "outputs": [
    {
     "ename": "StopIteration",
     "evalue": "",
     "output_type": "error",
     "traceback": [
      "\u001b[1;31m---------------------------------------------------------------------------\u001b[0m",
      "\u001b[1;31mStopIteration\u001b[0m                             Traceback (most recent call last)",
      "\u001b[1;32m<ipython-input-191-a883b34d6d8a>\u001b[0m in \u001b[0;36m<module>\u001b[1;34m\u001b[0m\n\u001b[1;32m----> 1\u001b[1;33m \u001b[0mnext\u001b[0m\u001b[1;33m(\u001b[0m\u001b[0mi\u001b[0m\u001b[1;33m)\u001b[0m\u001b[1;33m\u001b[0m\u001b[1;33m\u001b[0m\u001b[0m\n\u001b[0m",
      "\u001b[1;31mStopIteration\u001b[0m: "
     ]
    }
   ],
   "source": [
    "next(i)"
   ]
  },
  {
   "cell_type": "code",
   "execution_count": 174,
   "metadata": {},
   "outputs": [],
   "source": [
    "def iterator(lst):\n",
    "    lst = lst[::-1]\n",
    "    while len(lst) > 0:\n",
    "        item = lst.pop()\n",
    "        if type(item) == list:\n",
    "            for value in iterator(item):\n",
    "                yield value\n",
    "        else:\n",
    "            yield item"
   ]
  },
  {
   "cell_type": "code",
   "execution_count": 184,
   "metadata": {},
   "outputs": [
    {
     "name": "stdout",
     "output_type": "stream",
     "text": [
      "[1, 2, 3, 4, 5, 6, 7, 8, 9, 10]\n"
     ]
    }
   ],
   "source": [
    "t  = [[1, 2, 3], 4, [5, 6, 7], [8, 9], 10 ]\n",
    "r = []\n",
    "i= iterator(t)\n",
    "for v in i:\n",
    "    r.append(v)\n",
    "print(r)"
   ]
  },
  {
   "cell_type": "code",
   "execution_count": 166,
   "metadata": {},
   "outputs": [],
   "source": [
    "def iterator(lst):\n",
    "    for item in lst:\n",
    "        if type(item) == list:\n",
    "            iterator(item)\n",
    "        else:\n",
    "            r.append(item)"
   ]
  },
  {
   "cell_type": "code",
   "execution_count": 126,
   "metadata": {},
   "outputs": [
    {
     "name": "stdout",
     "output_type": "stream",
     "text": [
      "[1, 2, 5, 3, 4, 5, 6, 7, 8, 9, 10]\n"
     ]
    }
   ],
   "source": [
    "r = []\n",
    "iterator([[1, [[[2], 5], 3]], 4, [5, 6, 7], [8, 9], 10 ])\n",
    "print(r)"
   ]
  },
  {
   "cell_type": "code",
   "execution_count": 102,
   "metadata": {},
   "outputs": [
    {
     "name": "stdout",
     "output_type": "stream",
     "text": [
      "[1, 2, 3, 4, 5, 6, 7, 8, 9, 10]\n"
     ]
    }
   ],
   "source": [
    "iterator = NestedIterator([[1, 2, 3], 4, [5, 6, 7], [8, 9], 10 ])\n",
    "res = []\n",
    "while iterator.hasNext():\n",
    "    res.append(iterator.next())\n",
    "print(res)"
   ]
  },
  {
   "cell_type": "code",
   "execution_count": 100,
   "metadata": {},
   "outputs": [
    {
     "name": "stdout",
     "output_type": "stream",
     "text": [
      "[1, 2, 3, 4, 5, 6, 7, 8, 9, 10]\n"
     ]
    }
   ],
   "source": [
    "i, r = NestedIterator([[1, 2, 3], 4, [5, 6, 7], [8, 9], 10 ]), []\n",
    "while i.hasNext(): r.append(i.next())\n",
    "print(r)"
   ]
  },
  {
   "cell_type": "code",
   "execution_count": 103,
   "metadata": {},
   "outputs": [
    {
     "name": "stdout",
     "output_type": "stream",
     "text": [
      "[1, 1, 2, 1, 1]\n"
     ]
    }
   ],
   "source": [
    "i, r = NestedIterator([[1,1],2,[1,1]]), []\n",
    "while i.hasNext(): r.append(i.next())\n",
    "print(r)"
   ]
  },
  {
   "cell_type": "code",
   "execution_count": 105,
   "metadata": {},
   "outputs": [
    {
     "name": "stdout",
     "output_type": "stream",
     "text": [
      "[1, 4, [6, 2, 3]]\n"
     ]
    }
   ],
   "source": [
    "i, r = NestedIterator([1,[4,[6, 2, 3]]]), []\n",
    "while i.hasNext(): r.append(i.next())\n",
    "print(r)\n"
   ]
  },
  {
   "cell_type": "code",
   "execution_count": null,
   "metadata": {},
   "outputs": [],
   "source": [
    "[[1,1],2,[1,1]]\n",
    "[1,[4,[6]]]"
   ]
  },
  {
   "cell_type": "code",
   "execution_count": 1,
   "metadata": {},
   "outputs": [],
   "source": [
    "class NestedIterator:\n",
    "    def __init__(self, nestedList):\n",
    "        self.nestedList = nestedList[::-1]\n",
    "        self.iter = self.iterator(self.nestedList)\n",
    "    def iterator(self, lst):\n",
    "        while len(lst) > 0:\n",
    "            value = lst.pop()\n",
    "            if type(value) == list:\n",
    "                for value in self.iterator(value):\n",
    "                    yield value\n",
    "            else:\n",
    "                yield value\n",
    "    def next(self) -> int:\n",
    "        return next(self.iter)\n",
    "    \n",
    "    def hasNext(self) -> bool:\n",
    "          return len(self.nestedList) > 0\n"
   ]
  },
  {
   "cell_type": "code",
   "execution_count": 2,
   "metadata": {},
   "outputs": [],
   "source": [
    "i, r = NestedIterator([[1,1],2,[1,1]]), []\n",
    "while i.hasNext(): r.append(i.next())"
   ]
  },
  {
   "cell_type": "code",
   "execution_count": 3,
   "metadata": {},
   "outputs": [
    {
     "name": "stdout",
     "output_type": "stream",
     "text": [
      "[1, 1, 2, 1]\n"
     ]
    }
   ],
   "source": [
    "print(r)"
   ]
  },
  {
   "cell_type": "code",
   "execution_count": 7,
   "metadata": {},
   "outputs": [
    {
     "name": "stdout",
     "output_type": "stream",
     "text": [
      "[[1, 2], 3, [4, [5, 6]], 7, [8, 9, 10]]\n",
      "[1, 2, 3, 4, 5, 6, 7, 8, 9, 10]\n"
     ]
    }
   ],
   "source": [
    "lst = [ [1, 2], 3, [4, [5, 6]], 7, [8, 9, 10]]\n",
    "#\n",
    "\n",
    "def flat(lst):\n",
    "    i = 0\n",
    "    while i < len(lst):\n",
    "        item = lst[i]\n",
    "        if type(item) is list:\n",
    "            lst.pop(i)\n",
    "            for v in reversed(item):\n",
    "                lst.insert(i, v)\n",
    "        i += 1\n",
    "        \n",
    "# O(n*m)\n",
    "print(lst)\n",
    "flat(lst)\n",
    "print(lst)\n",
    "        "
   ]
  },
  {
   "cell_type": "code",
   "execution_count": 76,
   "metadata": {},
   "outputs": [
    {
     "name": "stdout",
     "output_type": "stream",
     "text": [
      "[[1, 2], 3, [4, [5, 6]], 7, [8, 9, 10]]\n",
      "[1, 2, 3, 4, 5, 6, 7, 8, 9, 10]\n"
     ]
    }
   ],
   "source": [
    "lst = [ [1, 2], 3, [4, [5, 6]], 7, [8, 9, 10]]\n",
    "\n",
    "result = []\n",
    "def flat(lst):\n",
    "    if len(lst) > 0:\n",
    "        for item in lst:\n",
    "            if type(item) is list:\n",
    "                flat(item)\n",
    "            else:\n",
    "                result.append(item)        \n",
    "# O(n*m)\n",
    "                \n",
    "print(lst)\n",
    "flat(lst)\n",
    "print(result)\n",
    "        "
   ]
  },
  {
   "cell_type": "code",
   "execution_count": 27,
   "metadata": {},
   "outputs": [],
   "source": [
    "class NestedInteger:\n",
    "    def __init__(self, val):\n",
    "        self.value = val\n",
    "    def isInteger(self) -> bool:\n",
    "        return type(self.value) is int\n",
    "\n",
    "    def getInteger(self) -> int:\n",
    "        return self.value\n",
    "\n",
    "    def getList(self):\n",
    "        return self.value\n",
    "    def __repr__(self):\n",
    "        return f\"NestedInteger({self.value})\""
   ]
  },
  {
   "cell_type": "code",
   "execution_count": 35,
   "metadata": {},
   "outputs": [],
   "source": [
    "lst = [ \n",
    "    NestedInteger([NestedInteger(1), \n",
    "                   NestedInteger(2)]),\n",
    "    NestedInteger(3),\n",
    "    NestedInteger([ NestedInteger(4),\n",
    "                   NestedInteger([NestedInteger(5), \n",
    "                                  NestedInteger(6)])]),\n",
    "    NestedInteger(7),\n",
    "    NestedInteger([\n",
    "        NestedInteger(8),\n",
    "        NestedInteger(\n",
    "        [NestedInteger(9),\n",
    "        NestedInteger(10)]\n",
    "        )])\n",
    "]"
   ]
  },
  {
   "cell_type": "code",
   "execution_count": null,
   "metadata": {},
   "outputs": [],
   "source": [
    "lst"
   ]
  },
  {
   "cell_type": "code",
   "execution_count": 56,
   "metadata": {},
   "outputs": [
    {
     "name": "stdout",
     "output_type": "stream",
     "text": [
      "[1, 2, 3, 4, 5, 6, 7, 8, 9, 10]\n"
     ]
    }
   ],
   "source": [
    "lst = [ \n",
    "    NestedInteger([NestedInteger(1), \n",
    "                   NestedInteger(2)]),\n",
    "    NestedInteger(3),\n",
    "    NestedInteger([ NestedInteger(4),\n",
    "                   NestedInteger([NestedInteger(5), \n",
    "                                  NestedInteger(6)])]),\n",
    "    NestedInteger(7),\n",
    "    NestedInteger([\n",
    "        NestedInteger(8),\n",
    "        NestedInteger(\n",
    "        [NestedInteger(9),\n",
    "        NestedInteger(10)]\n",
    "        )])\n",
    "]\n",
    "def flat(lst):\n",
    "    i = 0\n",
    "    while i < len(lst):\n",
    "        #print(lst[i], i)\n",
    "        if type(lst[i]) is int:\n",
    "            i += 1\n",
    "        elif lst[i].isInteger():\n",
    "            lst[i] = lst[i].getInteger()\n",
    "            i += 1\n",
    "        else: # i = \n",
    "            item = lst.pop(i)# [ ns(1), ns(2)]\n",
    "            for v in reversed(item.getList()):\n",
    "                #print(i, v)\n",
    "                lst.insert(i, v)\n",
    "# O(n*m)\n",
    "#print(lst)\n",
    "flat(lst)\n",
    "print(lst)\n",
    "        "
   ]
  },
  {
   "cell_type": "code",
   "execution_count": 73,
   "metadata": {},
   "outputs": [],
   "source": [
    "class NestedIterator:\n",
    "    def __init__(self, lst):\n",
    "        i = 0\n",
    "        while i < len(lst):\n",
    "        #print(lst[i], i)\n",
    "            if type(lst[i]) is int:\n",
    "                i += 1\n",
    "            elif lst[i].isInteger():\n",
    "                lst[i] = lst[i].getInteger()\n",
    "                i += 1\n",
    "            else: # i = \n",
    "                item = lst.pop(i)# [ ns(1), ns(2)]\n",
    "                for v in reversed(item.getList()):\n",
    "                    #print(i, v)\n",
    "                    lst.insert(i, v)\n",
    "        self.nestedList = lst\n",
    "        self._next = None\n",
    "        self.index = 0\n",
    "\n",
    "    def next(self):\n",
    "        return self._next\n",
    "\n",
    "    def hasNext(self) -> bool:\n",
    "        if self.index < len(self.nestedList):\n",
    "            self._next = self.nestedList[self.index]\n",
    "            self.index += 1\n",
    "            return True\n",
    "        return False"
   ]
  },
  {
   "cell_type": "code",
   "execution_count": 74,
   "metadata": {},
   "outputs": [],
   "source": [
    "lst = [ \n",
    "    NestedInteger([NestedInteger(1), \n",
    "                   NestedInteger(2)]),\n",
    "    NestedInteger(3),\n",
    "    NestedInteger([ NestedInteger(4),\n",
    "                   NestedInteger([NestedInteger(5), \n",
    "                                  NestedInteger(6)])]),\n",
    "    NestedInteger(7),\n",
    "    NestedInteger([\n",
    "        NestedInteger(8),\n",
    "        NestedInteger(\n",
    "        [NestedInteger(9),\n",
    "        NestedInteger(10)]\n",
    "        )])\n",
    "]\n",
    "\n",
    "i = NestedIterator(lst)"
   ]
  },
  {
   "cell_type": "code",
   "execution_count": 75,
   "metadata": {},
   "outputs": [
    {
     "name": "stdout",
     "output_type": "stream",
     "text": [
      "[1, 2, 3, 4, 5, 6, 7, 8, 9, 10]\n"
     ]
    }
   ],
   "source": [
    "r = []\n",
    "i = NestedIterator(lst)\n",
    "while i.hasNext(): r.append(i.next())\n",
    "print(r)"
   ]
  },
  {
   "cell_type": "code",
   "execution_count": 66,
   "metadata": {},
   "outputs": [
    {
     "data": {
      "text/plain": [
       "[NestedInteger([NestedInteger(1), NestedInteger(2)]),\n",
       " NestedInteger(3),\n",
       " NestedInteger([NestedInteger(4), NestedInteger([NestedInteger(5), NestedInteger(6)])]),\n",
       " NestedInteger(7),\n",
       " NestedInteger([NestedInteger(8), NestedInteger([NestedInteger(9), NestedInteger(10)])])]"
      ]
     },
     "execution_count": 66,
     "metadata": {},
     "output_type": "execute_result"
    }
   ],
   "source": [
    "lst"
   ]
  },
  {
   "cell_type": "code",
   "execution_count": 67,
   "metadata": {},
   "outputs": [],
   "source": [
    "i = 0\n",
    "while i < len(lst):\n",
    "#print(lst[i], i)\n",
    "    if type(lst[i]) is int:\n",
    "        i += 1\n",
    "    elif lst[i].isInteger():\n",
    "        lst[i] = lst[i].getInteger()\n",
    "        i += 1\n",
    "    else: # i = \n",
    "        item = lst.pop(i)# [ ns(1), ns(2)]\n",
    "        for v in reversed(item.getList()):\n",
    "            #print(i, v)\n",
    "            lst.insert(i, v)"
   ]
  },
  {
   "cell_type": "code",
   "execution_count": 68,
   "metadata": {},
   "outputs": [
    {
     "data": {
      "text/plain": [
       "[1, 2, 3, 4, 5, 6, 7, 8, 9, 10]"
      ]
     },
     "execution_count": 68,
     "metadata": {},
     "output_type": "execute_result"
    }
   ],
   "source": [
    "lst"
   ]
  },
  {
   "cell_type": "code",
   "execution_count": 78,
   "metadata": {},
   "outputs": [
    {
     "name": "stdout",
     "output_type": "stream",
     "text": [
      "[NestedInteger([NestedInteger(1), NestedInteger(2)]), NestedInteger(3), NestedInteger([NestedInteger(4), NestedInteger([NestedInteger(5), NestedInteger(6)])]), NestedInteger(7), NestedInteger([NestedInteger(8), NestedInteger([NestedInteger(9), NestedInteger(10)])])]\n",
      "[1, 2, 3, 4, 5, 6, 7, 8, 9, 10]\n"
     ]
    }
   ],
   "source": [
    "lst = [ \n",
    "    NestedInteger([NestedInteger(1), \n",
    "                   NestedInteger(2)]),\n",
    "    NestedInteger(3),\n",
    "    NestedInteger([ NestedInteger(4),\n",
    "                   NestedInteger([NestedInteger(5), \n",
    "                                  NestedInteger(6)])]),\n",
    "    NestedInteger(7),\n",
    "    NestedInteger([\n",
    "        NestedInteger(8),\n",
    "        NestedInteger(\n",
    "        [NestedInteger(9),\n",
    "        NestedInteger(10)]\n",
    "        )])\n",
    "]\n",
    "\n",
    "\n",
    "result = []\n",
    "def flat(lst):\n",
    "    if len(lst) > 0:\n",
    "        for item in lst:\n",
    "            if not item.isInteger():\n",
    "                flat(item.getList())\n",
    "            else:\n",
    "                result.append(item.getInteger())        \n",
    "# O(n*m)\n",
    "                \n",
    "print(lst)\n",
    "flat(lst)\n",
    "print(result)\n",
    "        "
   ]
  },
  {
   "cell_type": "code",
   "execution_count": 85,
   "metadata": {},
   "outputs": [],
   "source": [
    "class NestedIterator:\n",
    "    def __init__(self, nestedList):\n",
    "        self.flatList = []\n",
    "        self.flat(nestedList)\n",
    "        self._next = None\n",
    "        self.index = 0\n",
    "    def flat(self, lst):\n",
    "        if len(lst) > 0:\n",
    "            for item in lst:\n",
    "                if not item.isInteger():\n",
    "                    self.flat(item.getList())\n",
    "                else:\n",
    "                    self.flatList.append(item.getInteger())  \n",
    "    \n",
    "    def next(self):\n",
    "        return self._next\n",
    "\n",
    "    def hasNext(self) -> bool:\n",
    "        if self.index < len(self.flatList):\n",
    "            self._next = self.flatList[self.index]\n",
    "            self.index += 1\n",
    "            return True\n",
    "        return False"
   ]
  },
  {
   "cell_type": "code",
   "execution_count": 89,
   "metadata": {},
   "outputs": [],
   "source": [
    "lst = [ \n",
    "    NestedInteger([NestedInteger(1), \n",
    "                   NestedInteger(2)]),\n",
    "    NestedInteger(3),\n",
    "    NestedInteger([ NestedInteger(4),\n",
    "                   NestedInteger([NestedInteger(5), \n",
    "                                  NestedInteger(6)])]),\n",
    "    NestedInteger(7),\n",
    "    NestedInteger([\n",
    "        NestedInteger(8),\n",
    "        NestedInteger(\n",
    "        [NestedInteger(9),\n",
    "        NestedInteger(10)]\n",
    "        )])\n",
    "]\n"
   ]
  },
  {
   "cell_type": "code",
   "execution_count": 87,
   "metadata": {},
   "outputs": [
    {
     "name": "stdout",
     "output_type": "stream",
     "text": [
      "[1, 2, 3, 4, 5, 6, 7, 8, 9, 10]\n"
     ]
    }
   ],
   "source": [
    "r = []\n",
    "i = NestedIterator(lst)\n",
    "while i.hasNext(): r.append(i.next())\n",
    "print(r)"
   ]
  },
  {
   "cell_type": "code",
   "execution_count": 92,
   "metadata": {},
   "outputs": [],
   "source": [
    "stack = []\n",
    "def flatlist(lst):\n",
    "    if len(lst) > 0:\n",
    "        top = lst.pop() # 0(1)\n",
    "        if top.isInteger():\n",
    "            stack.append(top.getInteger())\n",
    "        else:\n",
    "            flatlist(top.getList())"
   ]
  },
  {
   "cell_type": "code",
   "execution_count": 90,
   "metadata": {},
   "outputs": [],
   "source": [
    "\n",
    "flatlist(lst)"
   ]
  },
  {
   "cell_type": "code",
   "execution_count": 95,
   "metadata": {},
   "outputs": [],
   "source": [
    "ob = reversed('python')"
   ]
  },
  {
   "cell_type": "code",
   "execution_count": 103,
   "metadata": {},
   "outputs": [
    {
     "ename": "StopIteration",
     "evalue": "",
     "output_type": "error",
     "traceback": [
      "\u001b[1;31m---------------------------------------------------------------------------\u001b[0m",
      "\u001b[1;31mStopIteration\u001b[0m                             Traceback (most recent call last)",
      "\u001b[1;32m<ipython-input-103-41126eab718a>\u001b[0m in \u001b[0;36m<module>\u001b[1;34m\u001b[0m\n\u001b[1;32m----> 1\u001b[1;33m \u001b[0mnext\u001b[0m\u001b[1;33m(\u001b[0m\u001b[0mob\u001b[0m\u001b[1;33m)\u001b[0m\u001b[1;33m\u001b[0m\u001b[1;33m\u001b[0m\u001b[0m\n\u001b[0m",
      "\u001b[1;31mStopIteration\u001b[0m: "
     ]
    }
   ],
   "source": [
    "next(ob)"
   ]
  },
  {
   "cell_type": "code",
   "execution_count": 104,
   "metadata": {},
   "outputs": [
    {
     "data": {
      "text/plain": [
       "[[8, 9, 10], 7, [4, [5, 6]], 3, [1, 2]]"
      ]
     },
     "execution_count": 104,
     "metadata": {},
     "output_type": "execute_result"
    }
   ],
   "source": [
    "lst = [[1, 2], 3, [4, [5, 6]], 7, [8, 9, 10]]\n",
    "\n",
    "lst.reverse() # O(n)\n",
    "\n",
    "lst\n",
    "# 2, 1"
   ]
  },
  {
   "cell_type": "code",
   "execution_count": 122,
   "metadata": {},
   "outputs": [],
   "source": [
    "lst = [ \n",
    "    NestedInteger([NestedInteger(1), \n",
    "                   NestedInteger(2)]),\n",
    "    NestedInteger(3),\n",
    "    NestedInteger([ NestedInteger(4),\n",
    "                   NestedInteger([NestedInteger(5), \n",
    "                                  NestedInteger(6)])]),\n",
    "    NestedInteger(7),\n",
    "    NestedInteger([\n",
    "        NestedInteger(8),\n",
    "        NestedInteger(\n",
    "        [NestedInteger(9),\n",
    "        NestedInteger(10)]\n",
    "        )])\n",
    "]\n"
   ]
  },
  {
   "cell_type": "code",
   "execution_count": 123,
   "metadata": {},
   "outputs": [
    {
     "name": "stdout",
     "output_type": "stream",
     "text": [
      "[1, 2, 3, 4, 5, 6, 7, 8, 9, 10]\n"
     ]
    }
   ],
   "source": [
    "from collections import deque\n",
    "class NestedIterator:\n",
    "    def __init__(self, nestedList):\n",
    "        self.nestedList = deque(nestedList)\n",
    "        self._next = None \n",
    "        \n",
    "    def next(self):\n",
    "        return self._next\n",
    "\n",
    "    def hasNext(self) -> bool:\n",
    "        if len(self.nestedList) > 0:\n",
    "            value = self.nestedList.popleft()\n",
    "            if value.isInteger():\n",
    "                self._next = value.getInteger()\n",
    "                return True\n",
    "            else:\n",
    "                value = value.getList()\n",
    "                self.nestedList.extendleft(reversed(value))\n",
    "                return self.hasNext()\n",
    "        return False\n",
    "                \n",
    "r = []\n",
    "i = NestedIterator(lst)\n",
    "while i.hasNext(): r.append(i.next())\n",
    "print(r)         "
   ]
  },
  {
   "cell_type": "code",
   "execution_count": 121,
   "metadata": {},
   "outputs": [],
   "source": [
    "class NestedIterator:\n",
    "    def __init__(self, nestedList):\n",
    "        self.nestedList = list(reversed(nestedList))\n",
    "        self._next = None \n",
    "        \n",
    "    def next(self):\n",
    "        return self._next\n",
    "\n",
    "    def hasNext(self) -> bool:\n",
    "        if len(self.nestedList) > 0:\n",
    "            value = self.nestedList.pop()\n",
    "            if value.isInteger():\n",
    "                self._next = value.getInteger()\n",
    "                return True\n",
    "            else:\n",
    "                value = value.getList()\n",
    "                while len(value) > 0:\n",
    "                    self.nestedList.append(value.pop())\n",
    "                return self.hasNext()\n",
    "        return False\n",
    "                \n",
    "                "
   ]
  },
  {
   "cell_type": "code",
   "execution_count": 117,
   "metadata": {},
   "outputs": [
    {
     "name": "stdout",
     "output_type": "stream",
     "text": [
      "[1, 2, 3, 4, 5, 6, 7, 8, 9, 10]\n"
     ]
    }
   ],
   "source": [
    "r = []\n",
    "i = NestedIterator(lst)\n",
    "while i.hasNext(): r.append(i.next())\n",
    "print(r)"
   ]
  },
  {
   "cell_type": "code",
   "execution_count": 118,
   "metadata": {},
   "outputs": [],
   "source": [
    "import collections\n",
    "\n",
    "class NestedIterator:\n",
    "    def __init__(self, nestedList: [NestedInteger]):\n",
    "        self.queue = collections.deque(nestedList)\n",
    "        self.nextAns = None\n",
    "    def next(self) -> int:\n",
    "        return self.nextAns\n",
    "    \n",
    "    def hasNext(self) -> bool:\n",
    "        if len(self.queue) ==0: return False\n",
    "        first = self.queue.popleft()\n",
    "        if first.isInteger():\n",
    "            self.nextAns=first.getInteger() # move integer from queue to stack\n",
    "            return True\n",
    "        elif len(first.getList())>0:\n",
    "            self.queue.extendleft(reversed(first.getList())) # flatten list and append to left\n",
    "        return self.hasNext()"
   ]
  },
  {
   "cell_type": "code",
   "execution_count": 124,
   "metadata": {},
   "outputs": [],
   "source": [
    "class NestedIterator:\n",
    "    def __init__(self, nestedList):\n",
    "        self.iter = self.iterator(nestedList[::-1])\n",
    "        self._next = None\n",
    "    def iterator(self, lst):\n",
    "        while len(lst) > 0:\n",
    "            item = lst.pop()\n",
    "            if item.isInteger():\n",
    "                yield item.getInteger()\n",
    "            else:\n",
    "                for value in self.iterator(item.getList()[::-1]):\n",
    "                    yield value\n",
    "\n",
    "    def next(self):\n",
    "        return self._next\n",
    "              \n",
    "    def hasNext(self) -> bool:\n",
    "        try:\n",
    "            value = next(self.iter)\n",
    "            self._next = value\n",
    "            return True\n",
    "        except StopIteration:\n",
    "            return False"
   ]
  },
  {
   "cell_type": "markdown",
   "metadata": {},
   "source": [
    "    Databse Recorded "
   ]
  },
  {
   "cell_type": "markdown",
   "metadata": {},
   "source": [
    "#### HACKER RANK "
   ]
  },
  {
   "cell_type": "code",
   "execution_count": 1,
   "metadata": {},
   "outputs": [],
   "source": [
    "def hourglassSum(arr):\n",
    "    max_value = -100\n",
    "    m = len(arr)\n",
    "    n = len(arr[0])\n",
    "    for row in range(0, m-2):\n",
    "        for col in range(0, n-2):\n",
    "            upper  = sum(arr[row][col:col+3])\n",
    "            middle = arr[row+1][col+1]\n",
    "            bottom = sum(arr[row+2][col:col+3])\n",
    "            value = upper + middle + bottom\n",
    "            if value > max_value:\n",
    "                max_value = value\n",
    "    return max_value\n",
    "            \n",
    "    # Write your code here\n",
    "    "
   ]
  },
  {
   "cell_type": "code",
   "execution_count": null,
   "metadata": {},
   "outputs": [],
   "source": [
    "\n",
    "def arrayManipulation(n, queries):\n",
    "    array = [ 0 ] * (n+2)\n",
    "    for query in queries:\n",
    "        a, b, k = query\n",
    "        array[a] += k\n",
    "        array[b+1] -= k\n",
    "    mx, x = 0, 0\n",
    "    for item in array:\n",
    "        x += item\n",
    "        if x > mx:\n",
    "            mx = x\n",
    "    return mx"
   ]
  },
  {
   "cell_type": "code",
   "execution_count": 2,
   "metadata": {},
   "outputs": [],
   "source": [
    "n = 10\n",
    "queries = [\n",
    "    #a  b  k\n",
    "    [1, 5, 3],\n",
    "    [4, 8, 7],\n",
    "    [6, 9, 1]\n",
    "]"
   ]
  },
  {
   "cell_type": "code",
   "execution_count": 11,
   "metadata": {},
   "outputs": [],
   "source": [
    "\n",
    "def arrayManipulation(n, queries):\n",
    "    array = [0 ] * (n+1) # array = [ 0, 0, 0, 0, 0, 0, 0, 0, 0, 0, 0]\n",
    "    for query in queries:\n",
    "        a, b, k = query\n",
    "        for i in range(a, b+1):\n",
    "            array[i] += k\n",
    "    mx = 0\n",
    "    for value in array:\n",
    "        if value > mx:\n",
    "            mx = value\n",
    "    return mx\n",
    "    "
   ]
  },
  {
   "cell_type": "code",
   "execution_count": 12,
   "metadata": {},
   "outputs": [
    {
     "data": {
      "text/plain": [
       "10"
      ]
     },
     "execution_count": 12,
     "metadata": {},
     "output_type": "execute_result"
    }
   ],
   "source": [
    "mx_value = arrayManipulation(10, queries)\n",
    "mx_value"
   ]
  },
  {
   "cell_type": "code",
   "execution_count": 13,
   "metadata": {},
   "outputs": [],
   "source": [
    "\n",
    "def arrayManipulation(n, queries):\n",
    "    array = [0 ] * (n+2) # array = [ 0, 0, 0, 0, 0, 0, 0, 0, 0, 0, 0]\n",
    "    for query in queries:\n",
    "        a, b, k = query\n",
    "        array[a] += k\n",
    "        array[b+1] -= k\n",
    "    s = 0\n",
    "    for value in array:\n",
    "        if value > 0:\n",
    "            s += value\n",
    "    return s"
   ]
  },
  {
   "cell_type": "code",
   "execution_count": 14,
   "metadata": {},
   "outputs": [
    {
     "data": {
      "text/plain": [
       "10"
      ]
     },
     "execution_count": 14,
     "metadata": {},
     "output_type": "execute_result"
    }
   ],
   "source": [
    "arrayManipulation(n, queries)"
   ]
  },
  {
   "cell_type": "code",
   "execution_count": 15,
   "metadata": {},
   "outputs": [],
   "source": [
    "\n",
    "def arrayManipulation(n, queries):\n",
    "    array = [0 ] * (n+2)\n",
    "    for query in queries:\n",
    "        a, b, k = query\n",
    "        array[a] += k\n",
    "        array[b+1] -= k\n",
    "    s = 0\n",
    "    mx_value = 0\n",
    "    for value in array:\n",
    "        s += value\n",
    "        if s > mx_value:\n",
    "            mx_value = s \n",
    "    return mx_value\n",
    "    "
   ]
  },
  {
   "cell_type": "markdown",
   "metadata": {},
   "source": [
    "#### Simple Text Editor "
   ]
  },
  {
   "cell_type": "code",
   "execution_count": 8,
   "metadata": {},
   "outputs": [],
   "source": [
    "h = [ 10, 20, 30, 40 , 50]"
   ]
  },
  {
   "cell_type": "code",
   "execution_count": 9,
   "metadata": {},
   "outputs": [],
   "source": [
    "def Area(H):\n",
    "    max_area = 0\n",
    "    for i in range(len(H)):\n",
    "        curr_area = H[i] * (len(H)-i)\n",
    "        if curr_area > max_area:\n",
    "            max_area = curr_area\n",
    "    return max_area"
   ]
  },
  {
   "cell_type": "code",
   "execution_count": 10,
   "metadata": {},
   "outputs": [
    {
     "data": {
      "text/plain": [
       "90"
      ]
     },
     "execution_count": 10,
     "metadata": {},
     "output_type": "execute_result"
    }
   ],
   "source": [
    "Area(h)"
   ]
  },
  {
   "cell_type": "code",
   "execution_count": 37,
   "metadata": {},
   "outputs": [],
   "source": [
    "def count_left(H, i):\n",
    "    j = i - 1\n",
    "    count = 0\n",
    "    while j >= 0 and H[j] >= H[i]:\n",
    "        count += 1\n",
    "        j -= 1\n",
    "    return count\n",
    "\n",
    "def count_right(H, i):\n",
    "    j = i\n",
    "    count = 0\n",
    "    while j < len(H) and H[j] >= H[i]:\n",
    "        count += 1\n",
    "        j += 1\n",
    "    return count\n",
    "        \n",
    "def Area(H):\n",
    "    max_area  = 0\n",
    "    i = 0\n",
    "    while i < len(H):\n",
    "        lf = count_left(H, i)\n",
    "        rf = count_right(H, i)\n",
    "        total = lf + rf\n",
    "        area = total * H[i]\n",
    "        if area > max_area:\n",
    "            max_area = area\n",
    "        i += 1\n",
    "    return max_area"
   ]
  },
  {
   "cell_type": "code",
   "execution_count": 38,
   "metadata": {},
   "outputs": [
    {
     "data": {
      "text/plain": [
       "9"
      ]
     },
     "execution_count": 38,
     "metadata": {},
     "output_type": "execute_result"
    }
   ],
   "source": [
    "Area([1, 2, 3, 4, 5])"
   ]
  },
  {
   "cell_type": "code",
   "execution_count": 39,
   "metadata": {},
   "outputs": [
    {
     "data": {
      "text/plain": [
       "60"
      ]
     },
     "execution_count": 39,
     "metadata": {},
     "output_type": "execute_result"
    }
   ],
   "source": [
    "Area([10, 20, 30, 20, 10])"
   ]
  },
  {
   "cell_type": "code",
   "execution_count": 40,
   "metadata": {},
   "outputs": [],
   "source": [
    "def Area(H):\n",
    "    max_area  = 0\n",
    "    i = 0\n",
    "    while i < len(H):\n",
    "        width = 0\n",
    "        li = i - 1 # start with left building\n",
    "        while li >= 0 and H[li] >= H[i]:\n",
    "            width += 1\n",
    "            li -= 1\n",
    "        ri = i # start with current and go upto right\n",
    "        while ri < len(H) and H[ri] >= H[i]:\n",
    "            width += 1\n",
    "            ri += 1\n",
    "        area = H[i] * width\n",
    "        if area > max_area:\n",
    "            max_area = area\n",
    "        i += 1\n",
    "    return max_area"
   ]
  },
  {
   "cell_type": "code",
   "execution_count": 41,
   "metadata": {},
   "outputs": [
    {
     "data": {
      "text/plain": [
       "60"
      ]
     },
     "execution_count": 41,
     "metadata": {},
     "output_type": "execute_result"
    }
   ],
   "source": [
    "Area([10, 20, 30, 20, 10])"
   ]
  },
  {
   "cell_type": "code",
   "execution_count": null,
   "metadata": {},
   "outputs": [],
   "source": []
  },
  {
   "cell_type": "code",
   "execution_count": null,
   "metadata": {},
   "outputs": [],
   "source": [
    "def largestRectangle(heights):\n",
    "    maxArea = 0\n",
    "    stack = [ ] # pair: (index, height)\n",
    "    for i, h in enumerate(heights):\n",
    "        start = i\n",
    "        while stack and stack[-1][1] > h:\n",
    "            index, height = stack.pop()\n",
    "            maxArea = max(maxArea, height * (i - index))\n",
    "            start = index\n",
    "        stack.append((start, h))\n",
    "    for i, h in stack:\n",
    "        maxArea = max(maxArea, h*(len(heights)-i))\n",
    "    return maxArea"
   ]
  },
  {
   "cell_type": "code",
   "execution_count": 69,
   "metadata": {},
   "outputs": [],
   "source": [
    "def largestRectangle(heights):\n",
    "        stack = []\n",
    "        max_area = 0\n",
    "        for i in range(len(heights)):\n",
    "            if len(stack) == 0:\n",
    "                stack.append( (i, heights[i]) )\n",
    "            elif heights[i] >= stack[-1][1]:\n",
    "                stack.append( (i, heights[i] ) )\n",
    "            else:\n",
    "                while len(stack) > 0 and heights[i] < stack[-1][1]:   \n",
    "                    ix, height = stack.pop() # top\n",
    "                    area = height * (i-ix)\n",
    "                    if area > max_area:\n",
    "                        max_area = area\n",
    "                stack.append( (ix, heights[i]))\n",
    "        for i in range(len(stack)):\n",
    "            area = stack[i][1] * ( len(heights) - stack[i][0] )\n",
    "            if area > max_area:\n",
    "                max_area = area\n",
    "        return max_area\n",
    "            "
   ]
  },
  {
   "cell_type": "code",
   "execution_count": 70,
   "metadata": {},
   "outputs": [
    {
     "data": {
      "text/plain": [
       "10"
      ]
     },
     "execution_count": 70,
     "metadata": {},
     "output_type": "execute_result"
    }
   ],
   "source": [
    "largestRectangle([2,1,5,6,2,3])"
   ]
  },
  {
   "cell_type": "code",
   "execution_count": 71,
   "metadata": {},
   "outputs": [
    {
     "data": {
      "text/plain": [
       "60"
      ]
     },
     "execution_count": 71,
     "metadata": {},
     "output_type": "execute_result"
    }
   ],
   "source": [
    "largestRectangle([10, 20, 30, 20, 10])"
   ]
  },
  {
   "cell_type": "code",
   "execution_count": 72,
   "metadata": {},
   "outputs": [],
   "source": [
    "h = [ 10, 20, 30, 40 , 50]"
   ]
  },
  {
   "cell_type": "code",
   "execution_count": 73,
   "metadata": {},
   "outputs": [
    {
     "data": {
      "text/plain": [
       "90"
      ]
     },
     "execution_count": 73,
     "metadata": {},
     "output_type": "execute_result"
    }
   ],
   "source": [
    "largestRectangle(h)"
   ]
  },
  {
   "cell_type": "code",
   "execution_count": 74,
   "metadata": {},
   "outputs": [
    {
     "data": {
      "text/plain": [
       "10"
      ]
     },
     "execution_count": 74,
     "metadata": {},
     "output_type": "execute_result"
    }
   ],
   "source": [
    "largestRectangle([2,1,5,6,2,3])"
   ]
  },
  {
   "cell_type": "code",
   "execution_count": null,
   "metadata": {},
   "outputs": [],
   "source": []
  }
 ],
 "metadata": {
  "kernelspec": {
   "display_name": "Python 3",
   "language": "python",
   "name": "python3"
  },
  "language_info": {
   "codemirror_mode": {
    "name": "ipython",
    "version": 3
   },
   "file_extension": ".py",
   "mimetype": "text/x-python",
   "name": "python",
   "nbconvert_exporter": "python",
   "pygments_lexer": "ipython3",
   "version": "3.8.3"
  }
 },
 "nbformat": 4,
 "nbformat_minor": 4
}
