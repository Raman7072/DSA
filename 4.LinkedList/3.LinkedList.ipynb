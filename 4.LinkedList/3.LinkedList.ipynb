{
 "cells": [
  {
   "cell_type": "markdown",
   "metadata": {},
   "source": [
    "### Linked List\n",
    "\n",
    "    1. Insertion at the End (append)\n",
    "    2. Insertion Before or After any given element (insert_before, insert_after)\n",
    "    3. Deletion of Last Node (pop)\n",
    "    4. Search and Delete Node (remove)\n",
    "    5. Accessing (display)\n",
    "    6. Searching (search)\n",
    "    7. Sorting "
   ]
  },
  {
   "cell_type": "code",
   "execution_count": 26,
   "metadata": {},
   "outputs": [],
   "source": [
    "class StackUnderflowError(OverflowError):\n",
    "    pass\n",
    "class Node:\n",
    "    def __init__(self, data):\n",
    "        self.data = data\n",
    "        self.next = None\n",
    "\n",
    "class LinkedList:\n",
    "    def __init__(self):\n",
    "        self.head = None\n",
    "        self.tail = None\n",
    "    def display(self):\n",
    "        temp = self.head\n",
    "        while temp != None:\n",
    "            print(temp.data)\n",
    "            temp = temp.next\n",
    "            \n",
    "    def is_empty(self):\n",
    "        if self.head == None:\n",
    "            return True\n",
    "        return False\n",
    "    \n",
    "    def append(self, node): # O(n)\n",
    "        \"\"\"add a new node at the end of linked list\"\"\"\n",
    "        if self.is_empty():\n",
    "            self.head = self.tail = node\n",
    "        else:\n",
    "            self.tail.next = node\n",
    "            self.tail = node\n",
    "            \n",
    "    def pop(self): # O(n)\n",
    "        \"\"\"delete last node from linked list\"\"\"\n",
    "        if self.is_empty():\n",
    "            raise StackUnderflowError(\"No node available\")\n",
    "        if self.head == self.tail:\n",
    "        #if self.head.next == None\n",
    "            item = self.head.data\n",
    "            self.head = self.tail = None \n",
    "        else:\n",
    "            temp = self.head\n",
    "            while temp.next.next != None:\n",
    "                temp = temp.next\n",
    "            item = temp.next.data\n",
    "            temp.next = None\n",
    "            self.tail = temp\n",
    "        return item\n",
    "    \n",
    "    def remove(self, key):\n",
    "        if self.is_empty():\n",
    "            raise StackUnderflowError(\"Item Not Found\")\n",
    "        if self.head.data == key:\n",
    "            node = self.head\n",
    "            self.head = self.head.next\n",
    "            node.next = None\n",
    "            del node\n",
    "            if self.head == None:\n",
    "                self.tail = None\n",
    "        else:\n",
    "            temp = self.head\n",
    "            while temp.next != None and temp.next.data != key:\n",
    "                temp = temp.next\n",
    "            if temp == self.tail:\n",
    "                raise ValueError(\"Item Not Found\")\n",
    "            if temp.next == self.tail:\n",
    "                self.tail = temp\n",
    "            \n",
    "            node = temp.next\n",
    "            temp.next = node.next\n",
    "            node.next = None\n",
    "            del node\n",
    "    def search(self, key):\n",
    "        temp = self.head\n",
    "        while temp != None:\n",
    "            if temp.data == key:\n",
    "                return temp\n",
    "            temp =temp.next\n",
    "        return -1 # not found \n",
    "    \n",
    "    def insert_before(self, key, node):\n",
    "        prev = None\n",
    "        temp = self.head\n",
    "        while temp.data != key:\n",
    "            prev = temp\n",
    "            temp = temp.next\n",
    "            if temp == None:\n",
    "                raise ValueError('No such key in LinkedList')\n",
    "        node.next = temp # node.next = prev.next\n",
    "        if prev == None: # head node\n",
    "            self.head = node\n",
    "        else:\n",
    "            prev.next = node\n",
    "            \n",
    "    def insert_after(self, key, node):\n",
    "        temp = self.head\n",
    "        while temp.data != key:\n",
    "            temp = temp.next\n",
    "            if temp == None:\n",
    "                raise ValueError(f\"no such {key} key in LinkList\")\n",
    "        node.next = temp.next\n",
    "        temp.next = node\n",
    "        if temp == self.tail:\n",
    "            self.tail = node\n",
    "            \n",
    "    def __str__(self):\n",
    "        string = \"\"\n",
    "        temp = self.head\n",
    "        while temp != None:\n",
    "            string += str(temp.data) + ', '\n",
    "            temp = temp.next\n",
    "        string = string[:-2]\n",
    "        return f\"LinkedList([{string}])\""
   ]
  },
  {
   "cell_type": "code",
   "execution_count": 21,
   "metadata": {},
   "outputs": [
    {
     "name": "stdout",
     "output_type": "stream",
     "text": [
      "LinkedList([15, 23, 20, 36, 50])\n"
     ]
    }
   ],
   "source": [
    "import random\n",
    "mylist = LinkedList()\n",
    "for i in range(1, 6):\n",
    "    mylist.append( Node(random.randint(10, 50)))\n",
    "print(mylist)"
   ]
  },
  {
   "cell_type": "code",
   "execution_count": 22,
   "metadata": {},
   "outputs": [
    {
     "name": "stdout",
     "output_type": "stream",
     "text": [
      "LinkedList([25, 15, 23, 20, 36, 50])\n"
     ]
    }
   ],
   "source": [
    "mylist.insert_before(15, Node(25)) # 25->15->23->20->36->50\n",
    "print(mylist)"
   ]
  },
  {
   "cell_type": "code",
   "execution_count": 23,
   "metadata": {},
   "outputs": [
    {
     "name": "stdout",
     "output_type": "stream",
     "text": [
      "LinkedList([25, 15, 23, 20, 36, 100, 50])\n"
     ]
    }
   ],
   "source": [
    "mylist.insert_before(50, Node(100))# 25->15->23->20->36->100->50\n",
    "print(mylist)"
   ]
  },
  {
   "cell_type": "code",
   "execution_count": 24,
   "metadata": {},
   "outputs": [
    {
     "name": "stdout",
     "output_type": "stream",
     "text": [
      "LinkedList([25, 15, 23, 30, 20, 36, 100, 50])\n"
     ]
    }
   ],
   "source": [
    "mylist.insert_before(20, Node(30))\n",
    "print(mylist)"
   ]
  },
  {
   "cell_type": "code",
   "execution_count": 25,
   "metadata": {},
   "outputs": [
    {
     "ename": "ValueError",
     "evalue": "No such key in LinkedList",
     "output_type": "error",
     "traceback": [
      "\u001b[1;31m---------------------------------------------------------------------------\u001b[0m",
      "\u001b[1;31mValueError\u001b[0m                                Traceback (most recent call last)",
      "\u001b[1;32m<ipython-input-25-c631304b1eac>\u001b[0m in \u001b[0;36m<module>\u001b[1;34m\u001b[0m\n\u001b[1;32m----> 1\u001b[1;33m \u001b[0mmylist\u001b[0m\u001b[1;33m.\u001b[0m\u001b[0minsert_before\u001b[0m\u001b[1;33m(\u001b[0m\u001b[1;36m1000\u001b[0m\u001b[1;33m,\u001b[0m \u001b[0mNode\u001b[0m\u001b[1;33m(\u001b[0m\u001b[1;36m35\u001b[0m\u001b[1;33m)\u001b[0m\u001b[1;33m)\u001b[0m\u001b[1;33m\u001b[0m\u001b[1;33m\u001b[0m\u001b[0m\n\u001b[0m",
      "\u001b[1;32m<ipython-input-3-0b58890777c3>\u001b[0m in \u001b[0;36minsert_before\u001b[1;34m(self, key, node)\u001b[0m\n\u001b[0;32m     84\u001b[0m             \u001b[0mtemp\u001b[0m \u001b[1;33m=\u001b[0m \u001b[0mtemp\u001b[0m\u001b[1;33m.\u001b[0m\u001b[0mnext\u001b[0m\u001b[1;33m\u001b[0m\u001b[1;33m\u001b[0m\u001b[0m\n\u001b[0;32m     85\u001b[0m             \u001b[1;32mif\u001b[0m \u001b[0mtemp\u001b[0m \u001b[1;33m==\u001b[0m \u001b[1;32mNone\u001b[0m\u001b[1;33m:\u001b[0m\u001b[1;33m\u001b[0m\u001b[1;33m\u001b[0m\u001b[0m\n\u001b[1;32m---> 86\u001b[1;33m                 \u001b[1;32mraise\u001b[0m \u001b[0mValueError\u001b[0m\u001b[1;33m(\u001b[0m\u001b[1;34m'No such key in LinkedList'\u001b[0m\u001b[1;33m)\u001b[0m\u001b[1;33m\u001b[0m\u001b[1;33m\u001b[0m\u001b[0m\n\u001b[0m\u001b[0;32m     87\u001b[0m         \u001b[0mnode\u001b[0m\u001b[1;33m.\u001b[0m\u001b[0mnext\u001b[0m \u001b[1;33m=\u001b[0m \u001b[0mtemp\u001b[0m \u001b[1;31m# node.next = prev.next\u001b[0m\u001b[1;33m\u001b[0m\u001b[1;33m\u001b[0m\u001b[0m\n\u001b[0;32m     88\u001b[0m         \u001b[1;32mif\u001b[0m \u001b[0mprev\u001b[0m \u001b[1;33m==\u001b[0m \u001b[1;32mNone\u001b[0m\u001b[1;33m:\u001b[0m \u001b[1;31m# head node\u001b[0m\u001b[1;33m\u001b[0m\u001b[1;33m\u001b[0m\u001b[0m\n",
      "\u001b[1;31mValueError\u001b[0m: No such key in LinkedList"
     ]
    }
   ],
   "source": [
    "mylist.insert_before(1000, Node(35))"
   ]
  },
  {
   "cell_type": "code",
   "execution_count": 6,
   "metadata": {},
   "outputs": [],
   "source": [
    "class StackUnderflowError(OverflowError):\n",
    "    pass\n",
    "class Node:\n",
    "    def __init__(self, data):\n",
    "        self.data = data\n",
    "        self.next = None\n",
    "\n",
    "class LinkedList:\n",
    "    def __init__(self):\n",
    "        self.head = None\n",
    "        self.tail = None\n",
    "    def display(self):\n",
    "        temp = self.head\n",
    "        while temp != None:\n",
    "            print(temp.data)\n",
    "            temp = temp.next\n",
    "            \n",
    "    def is_empty(self):\n",
    "        if self.head == None:\n",
    "            return True\n",
    "        return False\n",
    "    \n",
    "    def append(self, node): # O(n)\n",
    "        \"\"\"add a new node at the end of linked list\"\"\"\n",
    "        if self.is_empty():\n",
    "            self.head = self.tail = node\n",
    "        else:\n",
    "            self.tail.next = node\n",
    "            self.tail = node\n",
    "            \n",
    "    def pop(self): # O(n)\n",
    "        \"\"\"delete last node from linked list\"\"\"\n",
    "        if self.is_empty():\n",
    "            raise StackUnderflowError(\"No node available\")\n",
    "        if self.head == self.tail:\n",
    "        #if self.head.next == None\n",
    "            item = self.head.data\n",
    "            self.head = self.tail = None \n",
    "        else:\n",
    "            temp = self.head\n",
    "            while temp.next.next != None:\n",
    "                temp = temp.next\n",
    "            item = temp.next.data\n",
    "            temp.next = None\n",
    "            self.tail = temp\n",
    "        return item\n",
    "    \n",
    "    def remove(self, key):\n",
    "        if self.is_empty():\n",
    "            raise StackUnderflowError(\"Item Not Found\")\n",
    "        if self.head.data == key:\n",
    "            node = self.head\n",
    "            self.head = self.head.next\n",
    "            node.next = None\n",
    "            del node\n",
    "            if self.head == None:\n",
    "                self.tail = None\n",
    "        else:\n",
    "            temp = self.head\n",
    "            while temp.next != None and temp.next.data != key:\n",
    "                temp = temp.next\n",
    "            if temp == self.tail:\n",
    "                raise ValueError(\"Item Not Found\")\n",
    "            if temp.next == self.tail:\n",
    "                self.tail = temp\n",
    "            \n",
    "            node = temp.next\n",
    "            temp.next = node.next\n",
    "            node.next = None\n",
    "            del node\n",
    "    def search(self, key):\n",
    "        temp = self.head\n",
    "        while temp != None:\n",
    "            if temp.data == key:\n",
    "                return temp\n",
    "            temp =temp.next\n",
    "        return -1 # not found \n",
    "    \n",
    "    def insert_before(self, key, node):\n",
    "        prev = None\n",
    "        temp = self.head\n",
    "        while temp.data != key:\n",
    "            prev = temp\n",
    "            temp = temp.next\n",
    "            if temp == None:\n",
    "                raise ValueError('No such key in LinkedList')\n",
    "        node.next = temp # node.next = prev.next\n",
    "        if prev == None: # head node\n",
    "            self.head = node\n",
    "        else:\n",
    "            prev.next = node\n",
    "            \n",
    "    def insert_after(self, key, node):\n",
    "        temp = self.head\n",
    "        while temp.data != key:\n",
    "            temp = temp.next\n",
    "            if temp == None:\n",
    "                raise ValueError(f\"no such {key} key in LinkList\")\n",
    "        node.next = temp.next\n",
    "        temp.next = node\n",
    "        if temp == self.tail:\n",
    "            self.tail = node\n",
    "            \n",
    "    def __str__(self):\n",
    "        string = \"\"\n",
    "        temp = self.head\n",
    "        while temp != None:\n",
    "            string += str(temp.data) + ', '\n",
    "            temp = temp.next\n",
    "        string = string[:-2]\n",
    "        return f\"LinkedList([{string}])\""
   ]
  },
  {
   "cell_type": "code",
   "execution_count": 10,
   "metadata": {},
   "outputs": [
    {
     "name": "stdout",
     "output_type": "stream",
     "text": [
      "LinkedList([31, 47, 44, 21, 25])\n"
     ]
    }
   ],
   "source": [
    "import random\n",
    "mylist = LinkedList()\n",
    "for i in range(1, 6):\n",
    "    mylist.append( Node(random.randint(10, 50)))\n",
    "print(mylist)"
   ]
  },
  {
   "cell_type": "code",
   "execution_count": 11,
   "metadata": {},
   "outputs": [
    {
     "ename": "ValueError",
     "evalue": "no such 14 key in LinkList",
     "output_type": "error",
     "traceback": [
      "\u001b[1;31m---------------------------------------------------------------------------\u001b[0m",
      "\u001b[1;31mValueError\u001b[0m                                Traceback (most recent call last)",
      "\u001b[1;32m<ipython-input-11-db9d5cd2e19c>\u001b[0m in \u001b[0;36m<module>\u001b[1;34m\u001b[0m\n\u001b[1;32m----> 1\u001b[1;33m \u001b[0mmylist\u001b[0m\u001b[1;33m.\u001b[0m\u001b[0minsert_after\u001b[0m\u001b[1;33m(\u001b[0m\u001b[1;36m14\u001b[0m\u001b[1;33m,\u001b[0m \u001b[0mNode\u001b[0m\u001b[1;33m(\u001b[0m\u001b[1;36m30\u001b[0m\u001b[1;33m)\u001b[0m\u001b[1;33m)\u001b[0m\u001b[1;33m\u001b[0m\u001b[1;33m\u001b[0m\u001b[0m\n\u001b[0m\u001b[0;32m      2\u001b[0m \u001b[0mprint\u001b[0m\u001b[1;33m(\u001b[0m\u001b[0mmylist\u001b[0m\u001b[1;33m)\u001b[0m\u001b[1;33m\u001b[0m\u001b[1;33m\u001b[0m\u001b[0m\n",
      "\u001b[1;32m<ipython-input-6-fa480e508162>\u001b[0m in \u001b[0;36minsert_after\u001b[1;34m(self, key, node)\u001b[0m\n\u001b[0;32m     96\u001b[0m             \u001b[0mtemp\u001b[0m \u001b[1;33m=\u001b[0m \u001b[0mtemp\u001b[0m\u001b[1;33m.\u001b[0m\u001b[0mnext\u001b[0m\u001b[1;33m\u001b[0m\u001b[1;33m\u001b[0m\u001b[0m\n\u001b[0;32m     97\u001b[0m             \u001b[1;32mif\u001b[0m \u001b[0mtemp\u001b[0m \u001b[1;33m==\u001b[0m \u001b[1;32mNone\u001b[0m\u001b[1;33m:\u001b[0m\u001b[1;33m\u001b[0m\u001b[1;33m\u001b[0m\u001b[0m\n\u001b[1;32m---> 98\u001b[1;33m                 \u001b[1;32mraise\u001b[0m \u001b[0mValueError\u001b[0m\u001b[1;33m(\u001b[0m\u001b[1;34mf\"no such {key} key in LinkList\"\u001b[0m\u001b[1;33m)\u001b[0m\u001b[1;33m\u001b[0m\u001b[1;33m\u001b[0m\u001b[0m\n\u001b[0m\u001b[0;32m     99\u001b[0m         \u001b[0mnode\u001b[0m\u001b[1;33m.\u001b[0m\u001b[0mnext\u001b[0m \u001b[1;33m=\u001b[0m \u001b[0mtemp\u001b[0m\u001b[1;33m.\u001b[0m\u001b[0mnext\u001b[0m\u001b[1;33m\u001b[0m\u001b[1;33m\u001b[0m\u001b[0m\n\u001b[0;32m    100\u001b[0m         \u001b[0mtemp\u001b[0m\u001b[1;33m.\u001b[0m\u001b[0mnext\u001b[0m \u001b[1;33m=\u001b[0m \u001b[0mnode\u001b[0m\u001b[1;33m\u001b[0m\u001b[1;33m\u001b[0m\u001b[0m\n",
      "\u001b[1;31mValueError\u001b[0m: no such 14 key in LinkList"
     ]
    }
   ],
   "source": [
    "mylist.insert_after(14, Node(30))\n",
    "print(mylist)"
   ]
  },
  {
   "cell_type": "code",
   "execution_count": 9,
   "metadata": {},
   "outputs": [
    {
     "ename": "ValueError",
     "evalue": "no such 42 key in LinkList",
     "output_type": "error",
     "traceback": [
      "\u001b[1;31m---------------------------------------------------------------------------\u001b[0m",
      "\u001b[1;31mValueError\u001b[0m                                Traceback (most recent call last)",
      "\u001b[1;32m<ipython-input-9-c751d3a18ca0>\u001b[0m in \u001b[0;36m<module>\u001b[1;34m\u001b[0m\n\u001b[1;32m----> 1\u001b[1;33m \u001b[0mmylist\u001b[0m\u001b[1;33m.\u001b[0m\u001b[0minsert_after\u001b[0m\u001b[1;33m(\u001b[0m\u001b[1;36m42\u001b[0m\u001b[1;33m,\u001b[0m \u001b[0mNode\u001b[0m\u001b[1;33m(\u001b[0m\u001b[1;36m50\u001b[0m\u001b[1;33m)\u001b[0m\u001b[1;33m)\u001b[0m\u001b[1;33m\u001b[0m\u001b[1;33m\u001b[0m\u001b[0m\n\u001b[0m\u001b[0;32m      2\u001b[0m \u001b[0mprint\u001b[0m\u001b[1;33m(\u001b[0m\u001b[0mmylist\u001b[0m\u001b[1;33m)\u001b[0m\u001b[1;33m\u001b[0m\u001b[1;33m\u001b[0m\u001b[0m\n",
      "\u001b[1;32m<ipython-input-6-fa480e508162>\u001b[0m in \u001b[0;36minsert_after\u001b[1;34m(self, key, node)\u001b[0m\n\u001b[0;32m     96\u001b[0m             \u001b[0mtemp\u001b[0m \u001b[1;33m=\u001b[0m \u001b[0mtemp\u001b[0m\u001b[1;33m.\u001b[0m\u001b[0mnext\u001b[0m\u001b[1;33m\u001b[0m\u001b[1;33m\u001b[0m\u001b[0m\n\u001b[0;32m     97\u001b[0m             \u001b[1;32mif\u001b[0m \u001b[0mtemp\u001b[0m \u001b[1;33m==\u001b[0m \u001b[1;32mNone\u001b[0m\u001b[1;33m:\u001b[0m\u001b[1;33m\u001b[0m\u001b[1;33m\u001b[0m\u001b[0m\n\u001b[1;32m---> 98\u001b[1;33m                 \u001b[1;32mraise\u001b[0m \u001b[0mValueError\u001b[0m\u001b[1;33m(\u001b[0m\u001b[1;34mf\"no such {key} key in LinkList\"\u001b[0m\u001b[1;33m)\u001b[0m\u001b[1;33m\u001b[0m\u001b[1;33m\u001b[0m\u001b[0m\n\u001b[0m\u001b[0;32m     99\u001b[0m         \u001b[0mnode\u001b[0m\u001b[1;33m.\u001b[0m\u001b[0mnext\u001b[0m \u001b[1;33m=\u001b[0m \u001b[0mtemp\u001b[0m\u001b[1;33m.\u001b[0m\u001b[0mnext\u001b[0m\u001b[1;33m\u001b[0m\u001b[1;33m\u001b[0m\u001b[0m\n\u001b[0;32m    100\u001b[0m         \u001b[0mtemp\u001b[0m\u001b[1;33m.\u001b[0m\u001b[0mnext\u001b[0m \u001b[1;33m=\u001b[0m \u001b[0mnode\u001b[0m\u001b[1;33m\u001b[0m\u001b[1;33m\u001b[0m\u001b[0m\n",
      "\u001b[1;31mValueError\u001b[0m: no such 42 key in LinkList"
     ]
    }
   ],
   "source": [
    "mylist.insert_after(42, Node(50))\n",
    "print(mylist)"
   ]
  },
  {
   "cell_type": "code",
   "execution_count": null,
   "metadata": {},
   "outputs": [],
   "source": [
    "mylist.insert_after(24, Node(100))\n",
    "print(mylist)"
   ]
  },
  {
   "cell_type": "code",
   "execution_count": null,
   "metadata": {},
   "outputs": [],
   "source": [
    "mylist.append(Node(200))"
   ]
  },
  {
   "cell_type": "code",
   "execution_count": 5,
   "metadata": {},
   "outputs": [
    {
     "name": "stdout",
     "output_type": "stream",
     "text": [
      "LinkedList([24, 14, 30, 30, 26, 27])\n"
     ]
    }
   ],
   "source": [
    "print(mylist)"
   ]
  },
  {
   "cell_type": "code",
   "execution_count": null,
   "metadata": {},
   "outputs": [],
   "source": []
  }
 ],
 "metadata": {
  "kernelspec": {
   "display_name": "Python 3",
   "language": "python",
   "name": "python3"
  },
  "language_info": {
   "codemirror_mode": {
    "name": "ipython",
    "version": 3
   },
   "file_extension": ".py",
   "mimetype": "text/x-python",
   "name": "python",
   "nbconvert_exporter": "python",
   "pygments_lexer": "ipython3",
   "version": "3.8.3"
  }
 },
 "nbformat": 4,
 "nbformat_minor": 4
}
