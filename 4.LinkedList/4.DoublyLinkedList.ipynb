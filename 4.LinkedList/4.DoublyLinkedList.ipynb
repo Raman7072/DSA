{
 "cells": [
  {
   "cell_type": "markdown",
   "metadata": {},
   "source": [
    "#### Doubly Linked List\n",
    "\n",
    "#### Circlur Linked List\n",
    "\n",
    "#### Stack & Queue\n",
    "\n",
    "#### Search & Sort Algorithm\n",
    "\n",
    "#### Dynamic Programming, Greedy Algorithm, \n",
    "\n",
    "#### Tree & Graph"
   ]
  },
  {
   "cell_type": "markdown",
   "metadata": {},
   "source": [
    "    O(n), O(1)"
   ]
  },
  {
   "cell_type": "markdown",
   "metadata": {},
   "source": [
    "    10 million"
   ]
  },
  {
   "cell_type": "code",
   "execution_count": 64,
   "metadata": {},
   "outputs": [
    {
     "name": "stdout",
     "output_type": "stream",
     "text": [
      "1\n",
      "2\n",
      "3\n",
      "4\n",
      "1\n",
      "4\n",
      "------------------------------------------------------------\n",
      "1\n",
      "2\n",
      "4\n",
      "1\n",
      "2\n",
      "3\n",
      "4\n",
      "5\n",
      "********************\n",
      "2\n",
      "3\n",
      "4\n",
      "5\n",
      "final\n",
      "1\n",
      "2\n",
      "3\n",
      "4\n",
      "5\n"
     ]
    }
   ],
   "source": [
    "#lex_auth_0127438800232038401622\n",
    "\n",
    "class Node:\n",
    "    def __init__(self,data):\n",
    "        self.__data=data\n",
    "        self.__next=None\n",
    "\n",
    "    def get_data(self):\n",
    "        return self.__data\n",
    "\n",
    "    def set_data(self,data):\n",
    "        self.__data=data\n",
    "\n",
    "    def get_next(self):\n",
    "        return self.__next\n",
    "\n",
    "    def set_next(self,next_node):\n",
    "        self.__next=next_node\n",
    "\n",
    "\n",
    "class LinkedList:\n",
    "    def __init__(self):\n",
    "        self.__head=None\n",
    "        self.__tail=None\n",
    "\n",
    "    def get_head(self):\n",
    "        return self.__head\n",
    "\n",
    "    def get_tail(self):\n",
    "        return self.__tail\n",
    "    \n",
    "    def set_head(self, table_number):\n",
    "        node = Node(table_number)\n",
    "        node.set_next(self.__head)\n",
    "        self.__head = node\n",
    "\n",
    "\n",
    "\n",
    "    def add(self,data):\n",
    "        new_node=Node(data)\n",
    "        if(self.__head is None):\n",
    "            self.__head=self.__tail=new_node\n",
    "        else:\n",
    "            self.__tail.set_next(new_node)\n",
    "            self.__tail=new_node\n",
    "\n",
    "    def insert(self,data,data_before):\n",
    "        new_node=Node(data)\n",
    "        if(data_before==None):\n",
    "            new_node.set_next(self.__head)\n",
    "            self.__head=new_node\n",
    "            if(new_node.get_next()==None):\n",
    "                self.__tail=new_node\n",
    "\n",
    "        else:\n",
    "            node_before=self.find_node(data_before)\n",
    "            if(node_before is not None):\n",
    "                new_node.set_next(node_before.get_next())\n",
    "                node_before.set_next(new_node)\n",
    "                if(new_node.get_next() is None):\n",
    "                    self.__tail=new_node\n",
    "            else:\n",
    "                print(data_before,\"is not present in the Linked list\")\n",
    "\n",
    "    def display(self):\n",
    "        temp=self.__head\n",
    "        while(temp is not None):\n",
    "            print(temp.get_data())\n",
    "            temp=temp.get_next()\n",
    "\n",
    "\n",
    "    def find_node(self,data):\n",
    "        temp=self.__head\n",
    "        while(temp is not None):\n",
    "            if(temp.get_data()==data):\n",
    "                return temp\n",
    "            temp=temp.get_next()\n",
    "        return None\n",
    "\n",
    "    def delete(self,data):\n",
    "        node=self.find_node(data)\n",
    "        if(node is not None):\n",
    "            if(node==self.__head):\n",
    "                if(self.__head==self.__tail):\n",
    "                    self.__tail=None\n",
    "                self.__head=node.get_next()\n",
    "            else:\n",
    "                temp=self.__head\n",
    "                while(temp is not None):\n",
    "                    if(temp.get_next()==node):\n",
    "                        temp.set_next(node.get_next())\n",
    "                        if(node==self.__tail):\n",
    "                            self.__tail=temp\n",
    "                        node.set_next(None)\n",
    "                        break\n",
    "                    temp=temp.get_next()\n",
    "        else:\n",
    "            print(data,\"is not present in Linked list\")\n",
    "\n",
    "    #You can use the below __str__() to print the elements of the DS object while debugging\n",
    "    def __str__(self):\n",
    "        temp=self.__head\n",
    "        msg=[]\n",
    "        while(temp is not None):\n",
    "            msg.append(str(temp.get_data()))\n",
    "            temp=temp.get_next()\n",
    "        msg=\" \".join(msg)\n",
    "        msg=\"Linkedlist data(Head to Tail): \"+ msg\n",
    "        return msg\n",
    "\n",
    "class BakeHouse:\n",
    "    def __init__(self):\n",
    "        self.__occupied_table_list=LinkedList()\n",
    "    #Implement other methods here\n",
    "    def get_occupied_table_list(self):\n",
    "        return self.__occupied_table_list\n",
    "    def allocate_table(self):\n",
    "        ll = self.__occupied_table_list\n",
    "        if ll.get_head() == None:\n",
    "            ll.add(1)\n",
    "        else:\n",
    "            table_num = 1\n",
    "            prev = None\n",
    "            curr = ll.get_head()\n",
    "            while curr != None and curr.get_data() == table_num:\n",
    "                prev = curr\n",
    "                curr = curr.get_next()\n",
    "                table_num += 1\n",
    "            \n",
    "            if prev != None:\n",
    "                self.__occupied_table_list.insert(table_num, prev.get_data())\n",
    "            elif curr == None:\n",
    "                self.__occupied_table_list.add(table_num)\n",
    "            else:\n",
    "                self.__occupied_table_list.set_head(table_num)\n",
    "    def deallocate_table(self, table_number):\n",
    "        self.__occupied_table_list.delete(table_number)\n",
    "                \n",
    "                \n",
    "                \n",
    "\n",
    "bakehouse=BakeHouse()\n",
    "#Invoke the methods of BakeHouse class and test the program\n",
    "\n",
    "for i in range(4):\n",
    "    bakehouse.allocate_table()\n",
    "    \n",
    "bakehouse.get_occupied_table_list().display()\n",
    "\n",
    "bakehouse.deallocate_table(2)\n",
    "bakehouse.deallocate_table(3)\n",
    "bakehouse.get_occupied_table_list().display()\n",
    "\n",
    "print('--'*30)\n",
    "\n",
    "bakehouse.allocate_table()\n",
    "bakehouse.get_occupied_table_list().display()\n",
    "\n",
    "bakehouse.allocate_table()\n",
    "bakehouse.allocate_table()\n",
    "\n",
    "bakehouse.get_occupied_table_list().display()\n",
    "\n",
    "\n",
    "bakehouse.deallocate_table(1)\n",
    "\n",
    "print('*'*20)\n",
    "bakehouse.get_occupied_table_list().display()\n",
    "\n",
    "bakehouse.allocate_table()\n",
    "\n",
    "print('final')\n",
    "bakehouse.get_occupied_table_list().display()"
   ]
  },
  {
   "cell_type": "code",
   "execution_count": 65,
   "metadata": {},
   "outputs": [
    {
     "data": {
      "text/plain": [
       "<__main__.BakeHouse at 0x26932845bb0>"
      ]
     },
     "execution_count": 65,
     "metadata": {},
     "output_type": "execute_result"
    }
   ],
   "source": [
    "bakehouse"
   ]
  },
  {
   "cell_type": "code",
   "execution_count": null,
   "metadata": {},
   "outputs": [],
   "source": []
  },
  {
   "cell_type": "code",
   "execution_count": 55,
   "metadata": {},
   "outputs": [],
   "source": [
    "ll = LinkedList()"
   ]
  },
  {
   "cell_type": "code",
   "execution_count": 56,
   "metadata": {},
   "outputs": [],
   "source": [
    "ll.add(10)"
   ]
  },
  {
   "cell_type": "code",
   "execution_count": 57,
   "metadata": {},
   "outputs": [],
   "source": [
    "ll.insert(20, 10)"
   ]
  },
  {
   "cell_type": "code",
   "execution_count": 58,
   "metadata": {},
   "outputs": [
    {
     "name": "stdout",
     "output_type": "stream",
     "text": [
      "Linkedlist data(Head to Tail): 10 20\n"
     ]
    }
   ],
   "source": [
    "print(ll)"
   ]
  },
  {
   "cell_type": "code",
   "execution_count": 59,
   "metadata": {},
   "outputs": [],
   "source": [
    "ll.insert(30, 10)"
   ]
  },
  {
   "cell_type": "code",
   "execution_count": 60,
   "metadata": {},
   "outputs": [
    {
     "name": "stdout",
     "output_type": "stream",
     "text": [
      "Linkedlist data(Head to Tail): 10 30 20\n"
     ]
    }
   ],
   "source": [
    "print(ll)"
   ]
  },
  {
   "cell_type": "code",
   "execution_count": 61,
   "metadata": {},
   "outputs": [
    {
     "name": "stdout",
     "output_type": "stream",
     "text": [
      "10\n",
      "30\n",
      "20\n",
      "100\n"
     ]
    }
   ],
   "source": [
    "ll.set_head(100)"
   ]
  },
  {
   "cell_type": "code",
   "execution_count": 62,
   "metadata": {},
   "outputs": [
    {
     "name": "stdout",
     "output_type": "stream",
     "text": [
      "Linkedlist data(Head to Tail): 100\n"
     ]
    }
   ],
   "source": [
    "print(ll)"
   ]
  },
  {
   "cell_type": "code",
   "execution_count": 63,
   "metadata": {},
   "outputs": [
    {
     "name": "stdout",
     "output_type": "stream",
     "text": [
      "100\n"
     ]
    }
   ],
   "source": [
    "ll.display()"
   ]
  },
  {
   "cell_type": "markdown",
   "metadata": {},
   "source": [
    "#### Doubly Linked LIst\n",
    "#### Circular Linked List\n",
    "##### Stack "
   ]
  },
  {
   "cell_type": "code",
   "execution_count": null,
   "metadata": {},
   "outputs": [],
   "source": []
  }
 ],
 "metadata": {
  "kernelspec": {
   "display_name": "Python 3",
   "language": "python",
   "name": "python3"
  },
  "language_info": {
   "codemirror_mode": {
    "name": "ipython",
    "version": 3
   },
   "file_extension": ".py",
   "mimetype": "text/x-python",
   "name": "python",
   "nbconvert_exporter": "python",
   "pygments_lexer": "ipython3",
   "version": "3.8.3"
  }
 },
 "nbformat": 4,
 "nbformat_minor": 4
}
