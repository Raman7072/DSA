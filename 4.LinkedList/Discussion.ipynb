{
 "cells": [
  {
   "cell_type": "code",
   "execution_count": 6,
   "metadata": {},
   "outputs": [],
   "source": [
    "arr = [ 1, 1, 1, 2, 1, 2, 2, 2 ]"
   ]
  },
  {
   "cell_type": "code",
   "execution_count": 7,
   "metadata": {},
   "outputs": [
    {
     "data": {
      "text/plain": [
       "2"
      ]
     },
     "execution_count": 7,
     "metadata": {},
     "output_type": "execute_result"
    }
   ],
   "source": [
    "round(sum(arr) / len(arr) )"
   ]
  },
  {
   "cell_type": "code",
   "execution_count": 54,
   "metadata": {},
   "outputs": [],
   "source": [
    "class StackUnderflowError(OverflowError):\n",
    "    pass\n",
    "class Node:\n",
    "    def __init__(self, data):\n",
    "        self.data = data\n",
    "        self.next = None\n",
    "\n",
    "class LinkedList:\n",
    "    def __init__(self):\n",
    "        self.head = None\n",
    "        self.tail = None\n",
    "    def display(self):\n",
    "        temp = self.head\n",
    "        while temp != None:\n",
    "            print(temp.data)\n",
    "            temp = temp.next\n",
    "            \n",
    "    def is_empty(self):\n",
    "        if self.head == None:\n",
    "            return True\n",
    "        return False\n",
    "    \n",
    "    def append(self, node): # O(n)\n",
    "        \"\"\"add a new node at the end of linked list\"\"\"\n",
    "        if self.is_empty():\n",
    "            self.head = self.tail = node\n",
    "        else:\n",
    "            self.tail.next = node\n",
    "            self.tail = node\n",
    "            \n",
    "    def pop(self): # O(n)\n",
    "        \"\"\"delete last node from linked list\"\"\"\n",
    "        if self.is_empty():\n",
    "            raise StackUnderflowError(\"No node available\")\n",
    "        if self.head == self.tail:\n",
    "        #if self.head.next == None\n",
    "            item = self.head.data\n",
    "            self.head = self.tail = None \n",
    "        else:\n",
    "            temp = self.head\n",
    "            while temp.next.next != None:\n",
    "                temp = temp.next\n",
    "            item = temp.next.data\n",
    "            temp.next = None\n",
    "            self.tail = temp\n",
    "        return item\n",
    "    \n",
    "    def remove(self, key):\n",
    "        if self.is_empty():\n",
    "            raise StackUnderflowError(\"Item Not Found\")\n",
    "        if self.head.data == key:\n",
    "            node = self.head\n",
    "            self.head = self.head.next\n",
    "            node.next = None\n",
    "            del node\n",
    "            if self.head == None:\n",
    "                self.tail = None\n",
    "        else:\n",
    "            temp = self.head\n",
    "            while temp.next != None and temp.next.data != key:\n",
    "                temp = temp.next\n",
    "            if temp == self.tail:\n",
    "                raise ValueError(\"Item Not Found\")\n",
    "            if temp.next == self.tail:\n",
    "                self.tail = temp\n",
    "            \n",
    "            node = temp.next\n",
    "            temp.next = node.next\n",
    "            node.next = None\n",
    "            del node\n",
    "    def search(self, key):\n",
    "        temp = self.head\n",
    "        while temp != None:\n",
    "            if temp.data == key:\n",
    "                return temp\n",
    "            temp =temp.next\n",
    "        return -1 # not found \n",
    "    \n",
    "    def insert_before(self, key, node):\n",
    "        prev = None\n",
    "        temp = self.head\n",
    "        while temp.data != key:\n",
    "            prev = temp\n",
    "            temp = temp.next\n",
    "            if temp == None:\n",
    "                raise ValueError('No such key in LinkedList')\n",
    "        node.next = temp # node.next = prev.next\n",
    "        if prev == None: # head node\n",
    "            self.head = node\n",
    "        else:\n",
    "            prev.next = node\n",
    "            \n",
    "    def insert_after(self, key, node):\n",
    "        temp = self.head\n",
    "        while temp.data != key:\n",
    "            temp = temp.next\n",
    "            if temp == None:\n",
    "                raise ValueError(f\"no such {key} key in LinkList\")\n",
    "        node.next = temp.next\n",
    "        temp.next = node\n",
    "        if temp == self.tail:\n",
    "            self.tail = node\n",
    "            \n",
    "    def reverse(self):\n",
    "        self.tail = self.head\n",
    "        prev = None\n",
    "        temp = self.head\n",
    "        while temp.next != None:\n",
    "            next_ = temp.next\n",
    "            temp.next = prev\n",
    "            prev = temp\n",
    "            temp = next_\n",
    "        temp.next = prev\n",
    "        self.head = temp\n",
    "    def insertAtPosition(self, position, node):\n",
    "        if self.head == None:\n",
    "            self.head = node\n",
    "        elif position == 0:\n",
    "            node.next = self.head\n",
    "            self.head = node\n",
    "        else:\n",
    "            pos = 1\n",
    "            temp = self.head\n",
    "            while pos < position:\n",
    "                temp = temp.next\n",
    "                pos += 1\n",
    "            node.next = temp.next\n",
    "            temp.next = node\n",
    "            if temp == self.tail:\n",
    "                self.tail = node\n",
    "    def deleteFromPosition(self, position):\n",
    "        if position == 0:\n",
    "            self.head = self.head.next\n",
    "        else:\n",
    "            pos = 1\n",
    "            temp = self.head\n",
    "            while pos < position:\n",
    "                temp = temp.next\n",
    "                pos += 1\n",
    "            if temp.next == self.tail:\n",
    "                self.tail = temp\n",
    "            temp.next = temp.next.next\n",
    "            \n",
    "    def __str__(self):\n",
    "        string = \"\"\n",
    "        temp = self.head\n",
    "        while temp != None:\n",
    "            string += str(temp.data) + ', '\n",
    "            temp = temp.next\n",
    "        string = string[:-2]\n",
    "        return f\"LinkedList([{string}])\""
   ]
  },
  {
   "cell_type": "code",
   "execution_count": 55,
   "metadata": {},
   "outputs": [
    {
     "name": "stdout",
     "output_type": "stream",
     "text": [
      "LinkedList([0, 1, 4, 9, 16])\n"
     ]
    }
   ],
   "source": [
    "mylist = LinkedList()\n",
    "for i in range(5):\n",
    "    mylist.append(Node(i**2))\n",
    "print(mylist)"
   ]
  },
  {
   "cell_type": "code",
   "execution_count": 56,
   "metadata": {},
   "outputs": [],
   "source": [
    "mylist.reverse()"
   ]
  },
  {
   "cell_type": "code",
   "execution_count": 57,
   "metadata": {},
   "outputs": [
    {
     "name": "stdout",
     "output_type": "stream",
     "text": [
      "LinkedList([16, 9, 4, 1, 0])\n"
     ]
    }
   ],
   "source": [
    "print(mylist)"
   ]
  },
  {
   "cell_type": "code",
   "execution_count": 58,
   "metadata": {},
   "outputs": [],
   "source": [
    "mylist.insertAtPosition(0, Node(20))"
   ]
  },
  {
   "cell_type": "code",
   "execution_count": 59,
   "metadata": {},
   "outputs": [
    {
     "name": "stdout",
     "output_type": "stream",
     "text": [
      "LinkedList([20, 16, 9, 4, 1, 0])\n"
     ]
    }
   ],
   "source": [
    "print(mylist)"
   ]
  },
  {
   "cell_type": "code",
   "execution_count": 60,
   "metadata": {},
   "outputs": [],
   "source": [
    "mylist.insertAtPosition(5, Node(100))"
   ]
  },
  {
   "cell_type": "code",
   "execution_count": 61,
   "metadata": {},
   "outputs": [
    {
     "name": "stdout",
     "output_type": "stream",
     "text": [
      "LinkedList([20, 16, 9, 4, 1, 100, 0])\n"
     ]
    }
   ],
   "source": [
    "print(mylist)"
   ]
  },
  {
   "cell_type": "code",
   "execution_count": 62,
   "metadata": {},
   "outputs": [],
   "source": [
    "mylist.insertAtPosition(7, Node(200))"
   ]
  },
  {
   "cell_type": "code",
   "execution_count": 63,
   "metadata": {},
   "outputs": [
    {
     "name": "stdout",
     "output_type": "stream",
     "text": [
      "LinkedList([20, 16, 9, 4, 1, 100, 0, 200])\n"
     ]
    }
   ],
   "source": [
    "print(mylist)"
   ]
  },
  {
   "cell_type": "code",
   "execution_count": 64,
   "metadata": {},
   "outputs": [],
   "source": [
    "mylist.append(Node(300))"
   ]
  },
  {
   "cell_type": "code",
   "execution_count": 65,
   "metadata": {},
   "outputs": [
    {
     "name": "stdout",
     "output_type": "stream",
     "text": [
      "LinkedList([20, 16, 9, 4, 1, 100, 0, 200, 300])\n"
     ]
    }
   ],
   "source": [
    "print(mylist)"
   ]
  },
  {
   "cell_type": "code",
   "execution_count": 66,
   "metadata": {},
   "outputs": [],
   "source": [
    "mylist.insertAtPosition(2, Node(50))"
   ]
  },
  {
   "cell_type": "code",
   "execution_count": 67,
   "metadata": {},
   "outputs": [
    {
     "name": "stdout",
     "output_type": "stream",
     "text": [
      "LinkedList([20, 16, 50, 9, 4, 1, 100, 0, 200, 300])\n"
     ]
    }
   ],
   "source": [
    "print(mylist)"
   ]
  },
  {
   "cell_type": "code",
   "execution_count": 68,
   "metadata": {},
   "outputs": [],
   "source": [
    "mylist.deleteFromPosition(0)"
   ]
  },
  {
   "cell_type": "code",
   "execution_count": 69,
   "metadata": {},
   "outputs": [
    {
     "name": "stdout",
     "output_type": "stream",
     "text": [
      "LinkedList([16, 50, 9, 4, 1, 100, 0, 200, 300])\n"
     ]
    }
   ],
   "source": [
    "print(mylist)"
   ]
  },
  {
   "cell_type": "code",
   "execution_count": 70,
   "metadata": {},
   "outputs": [],
   "source": [
    "mylist.deleteFromPosition(8)"
   ]
  },
  {
   "cell_type": "code",
   "execution_count": 71,
   "metadata": {},
   "outputs": [
    {
     "name": "stdout",
     "output_type": "stream",
     "text": [
      "LinkedList([16, 50, 9, 4, 1, 100, 0, 200])\n"
     ]
    }
   ],
   "source": [
    "print(mylist)"
   ]
  },
  {
   "cell_type": "code",
   "execution_count": 72,
   "metadata": {},
   "outputs": [],
   "source": [
    "mylist.append(Node(500))"
   ]
  },
  {
   "cell_type": "code",
   "execution_count": 73,
   "metadata": {},
   "outputs": [
    {
     "name": "stdout",
     "output_type": "stream",
     "text": [
      "LinkedList([16, 50, 9, 4, 1, 100, 0, 200, 500])\n"
     ]
    }
   ],
   "source": [
    "print(mylist)"
   ]
  },
  {
   "cell_type": "code",
   "execution_count": 74,
   "metadata": {},
   "outputs": [],
   "source": [
    "mylist.deleteFromPosition(3)"
   ]
  },
  {
   "cell_type": "code",
   "execution_count": 75,
   "metadata": {},
   "outputs": [
    {
     "name": "stdout",
     "output_type": "stream",
     "text": [
      "LinkedList([16, 50, 9, 1, 100, 0, 200, 500])\n"
     ]
    }
   ],
   "source": [
    "print(mylist)"
   ]
  },
  {
   "cell_type": "markdown",
   "metadata": {},
   "source": [
    "### InfyTq Questions"
   ]
  },
  {
   "cell_type": "markdown",
   "metadata": {},
   "source": [
    "Problem Statement\n",
    "    \n",
    "    Given two lists, both having String elements, write a python program using python lists to create a new string as per the rule given below:\n",
    "    The first element in list1 should be merged with last element in list2, second element in list1 should be merged with second last element in list2 and so on. If an element in list1/list2 is None, then the corresponding element in the other list should be kept as it is in the merged list. \n",
    "\n",
    "Sample Input\n",
    " \n",
    "    list1=['A', 'app','a', 'd', 'ke', 'th', 'doc', 'awa']\n",
    "\n",
    "     list2=['y','tor','e','eps','ay',None,'le','n']\n",
    "        \n",
    "Expected Output\n",
    "\n",
    "     \"An apple a day keeps the doctor away\""
   ]
  },
  {
   "cell_type": "code",
   "execution_count": 12,
   "metadata": {},
   "outputs": [
    {
     "name": "stdout",
     "output_type": "stream",
     "text": [
      "'An apple a day keeps the doctor away'\n"
     ]
    }
   ],
   "source": [
    "list1=['A', 'app','a', 'd', 'ke', 'th', 'doc', 'awa']\n",
    "list2=['y','tor','e','eps','ay',None,'le','n']\n",
    "# 0\n",
    "# n-1 # (len(str) - 1) - i\n",
    "\n",
    "# 1\n",
    "# n-1 - 1  \n",
    "\n",
    "s = \"\"\n",
    "for a,b in zip(list1, list2[::-1]):\n",
    "    a = a if a is not None else ''\n",
    "    b = b if b is not None else ''\n",
    "    s += (a + b ) + ' '\n",
    "    \n",
    "s = s[:-1]\n",
    "print(repr(s))"
   ]
  },
  {
   "cell_type": "code",
   "execution_count": 11,
   "metadata": {},
   "outputs": [
    {
     "name": "stdout",
     "output_type": "stream",
     "text": [
      "'An apple a day keeps the doctor away'\n"
     ]
    }
   ],
   "source": [
    "#lex_auth_0127426166978887681375\n",
    "\n",
    "def merge_list(list1, list2):\n",
    "    merged_data = [ ]\n",
    "    n = len(list1)\n",
    "    i = 0\n",
    "    while i < n:\n",
    "        e1 = list1[i] if list1[i] is not None else ''\n",
    "        e2 = list2[n-1-i] if list2[n-1-i] is not None else ''\n",
    "        merged_data.append(e1 + e2)\n",
    "        i += 1\n",
    "    resultant_data = \" \".join(merged_data)\n",
    "        \n",
    "    #write your logic here\n",
    "    return resultant_data\n",
    "\n",
    "#Provide different values for the variables and test your program\n",
    "list1=['A', 'app','a', 'd', 'ke', 'th', 'doc', 'awa']\n",
    "list2=['y','tor','e','eps','ay',None,'le','n']\n",
    "merged_data=merge_list(list1,list2)\n",
    "print(repr(merged_data))"
   ]
  },
  {
   "cell_type": "code",
   "execution_count": 13,
   "metadata": {},
   "outputs": [
    {
     "name": "stdout",
     "output_type": "stream",
     "text": [
      "'An apple a day keeps the doctor away'\n"
     ]
    }
   ],
   "source": [
    "#lex_auth_0127426166978887681375\n",
    "\n",
    "def merge_list(list1, list2):\n",
    "    merged_data = [ ]\n",
    "    n = len(list1)\n",
    "    for i in range(n):\n",
    "        e1 = list1[i] if list1[i] is not None else ''\n",
    "        e2 = list2[n-1-i] if list2[n-1-i] is not None else ''\n",
    "        merged_data.append(e1 + e2)\n",
    "    resultant_data = \" \".join(merged_data)\n",
    "        \n",
    "    #write your logic here\n",
    "    return resultant_data\n",
    "\n",
    "#Provide different values for the variables and test your program\n",
    "list1=['A', 'app','a', 'd', 'ke', 'th', 'doc', 'awa']\n",
    "list2=['y','tor','e','eps','ay',None,'le','n']\n",
    "merged_data=merge_list(list1,list2)\n",
    "print(repr(merged_data))"
   ]
  },
  {
   "cell_type": "markdown",
   "metadata": {},
   "source": [
    "Consider a Car class as given in the code. Write a Service class as given in the class diagram below which performs various activities on a list of cars.\n",
    "\n",
    "    Assume that the car_list is sorted by year in ascending order. \n",
    "\n",
    "\n",
    "\n",
    "Method\tDescription\n",
    " \n",
    "     __init__(car_list)\t Initializes the instance variable, car_list.\n",
    " \n",
    "     find_cars_by_year(year)     Finds and returns the list of models of all the cars with   \n",
    "                                 the year as the one passed as the argument. \n",
    "                                 If there are   no cars, return None.\n",
    "                                 \n",
    "    add_cars(new_car_list)\t     The new_car_list should be added to the instance   variable car_list.\n",
    "                                 The car_list should be still sorted such that the years are   in ascending order.\n",
    " \n",
    "     remove_cars_from_karnataka()\t Finds and removes all cars with registration number   beginning with \n",
    "                                     \"KA\" from the car_list.\n",
    " "
   ]
  },
  {
   "cell_type": "code",
   "execution_count": 14,
   "metadata": {},
   "outputs": [],
   "source": [
    "#lex_auth_0127426245709905921377\n",
    "\n",
    "class Car:\n",
    "    def __init__(self,model,year,registration_number):\n",
    "        self.__model=model\n",
    "        self.__year=year\n",
    "        self.__registration_number=registration_number\n",
    "\n",
    "    def get_model(self):\n",
    "        return self.__model\n",
    "\n",
    "    def get_year(self):\n",
    "        return self.__year\n",
    "\n",
    "    def get_registration_number(self):\n",
    "        return self.__registration_number\n",
    "\n",
    "    def __str__(self):\n",
    "        return(self.__model+\" \"+self.__registration_number+\" \"+(str)(self.__year))\n",
    "\n",
    "#Implement Service class here\n",
    "\n",
    "car1=Car(\"WagonR\",2010,\"KA09 3056\")\n",
    "car2=Car(\"Beat\", 2011, \"MH10 6776\")\n",
    "car3=Car(\"Ritz\", 2013,\"KA12 9098\")\n",
    "car4=Car(\"Polo\",2013,\"GJ01 7854\")\n",
    "car5=Car(\"Amaze\",2014,\"KL07 4332\")\n",
    "#Add different values to the list and test the program\n",
    "car_list=[car1, car2, car3, car4,car5]\n",
    "#Create object of Service class, invoke the methods and test your program"
   ]
  },
  {
   "cell_type": "markdown",
   "metadata": {},
   "source": [
    "O(n)\n",
    "\n",
    "    "
   ]
  },
  {
   "cell_type": "markdown",
   "metadata": {},
   "source": [
    "    put all even numbers on even indexes and all odd numbers on odd indexes \n",
    "    \n",
    "    try to solve problem in T(n) = O(n), S(n) = O(1) complexity "
   ]
  },
  {
   "cell_type": "markdown",
   "metadata": {},
   "source": [
    "Constraint in Array \n",
    "\n",
    "    num of even values == num of odd values "
   ]
  },
  {
   "cell_type": "code",
   "execution_count": 15,
   "metadata": {},
   "outputs": [],
   "source": [
    "arr = [ 10, 50, 33, 23, 45, 60, 74, 33, 21, 30 ]\n",
    "#        0,  1,  2,  3,  4,  5,  6,  7,  8,  9\n",
    "\n",
    "# arr = [ 50, 33, 60, 23, 60, 45, 10, 33, 30, 21 ] # ans may very\n",
    "#         0,  1,   2,  3,  4,  5,  6,  7,   8, 9 "
   ]
  },
  {
   "cell_type": "code",
   "execution_count": 16,
   "metadata": {},
   "outputs": [
    {
     "name": "stdout",
     "output_type": "stream",
     "text": [
      "[10, 33, 50, 23, 60, 45, 74, 33, 30, 21]\n"
     ]
    }
   ],
   "source": [
    "arr = [ 10, 50, 33, 23, 45, 60, 74, 33, 21, 30 ]\n",
    "\n",
    "even = [] # n / 2  # S(n) = O(n)\n",
    "odd = [] # n / 2\n",
    "\n",
    "for item in arr: # O(n)\n",
    "    if item % 2 == 0:\n",
    "        even.append(item)\n",
    "    else:\n",
    "        odd.append(item)\n",
    "i = 0\n",
    "for e1, e2 in zip(even, odd): # O(n/2)\n",
    "    arr[i] = e1\n",
    "    arr[i+1] = e2\n",
    "    i += 2\n",
    "print(arr) # O(n)"
   ]
  },
  {
   "cell_type": "code",
   "execution_count": 19,
   "metadata": {},
   "outputs": [],
   "source": [
    "def rearrangeList(a, n):\n",
    "    i, j = 0, 1\n",
    "    while(i < n and j < n):\n",
    "        if a[i] % 2 == 0:\n",
    "            i += 2\n",
    "        if a[j] % 2 == 1:\n",
    "            j += 2\n",
    "\n",
    "        if  (i < n and j < n) and (a[i]%2 == 1 and a[j]%2 == 0):\n",
    "            a[i], a[j] = a[j], a[i]"
   ]
  },
  {
   "cell_type": "code",
   "execution_count": 20,
   "metadata": {},
   "outputs": [
    {
     "name": "stdout",
     "output_type": "stream",
     "text": [
      "[10, 50, 33, 23, 45, 60, 74, 33, 21, 30]\n"
     ]
    }
   ],
   "source": [
    "arr = [ 10, 50, 33, 23, 45, 60, 74, 33, 21, 30 ]\n",
    "print(arr)"
   ]
  },
  {
   "cell_type": "markdown",
   "metadata": {},
   "source": [
    "    Infytq , Hackerrank, general channel doubts, other plateform"
   ]
  },
  {
   "cell_type": "code",
   "execution_count": 87,
   "metadata": {},
   "outputs": [],
   "source": [
    "def rearrange(arr, n):\n",
    "    ei = 0\n",
    "    i = 0\n",
    "    while i < n:\n",
    "        if i % 2 == 0 and arr[i] % 2 == 0:\n",
    "            if ei == i:\n",
    "                ei += 2\n",
    "            i += 1\n",
    "        elif i % 2 == 1 and arr[i] % 2 == 0:\n",
    "            arr[ei], arr[i] = arr[i], arr[ei]\n",
    "            ei += 2\n",
    "        else:\n",
    "            i += 1\n",
    "            "
   ]
  },
  {
   "cell_type": "code",
   "execution_count": 88,
   "metadata": {},
   "outputs": [
    {
     "name": "stdout",
     "output_type": "stream",
     "text": [
      "[10, 50, 33, 23, 45, 60, 74, 33, 21, 30]\n",
      "[10, 33, 50, 23, 60, 45, 74, 33, 30, 21]\n"
     ]
    }
   ],
   "source": [
    "arr = [ 10, 50, 33, 23, 45, 60, 74, 33, 21, 30 ]\n",
    "print(arr)\n",
    "rearrange(arr, len(arr))\n",
    "print(arr)"
   ]
  },
  {
   "cell_type": "code",
   "execution_count": 102,
   "metadata": {},
   "outputs": [
    {
     "name": "stdout",
     "output_type": "stream",
     "text": [
      "[50, 33, 10, 23, 60, 45, 30, 33, 74, 21]\n"
     ]
    }
   ],
   "source": [
    "\n",
    "def rearrange(arr):\n",
    "    ei = 0\n",
    "    i = 1\n",
    "    while i < len(arr):\n",
    "        if i % 2 != 0 and arr[i] % 2 == 0 and ei != i:\n",
    "            arr[ei], arr[i] = arr[i], arr[ei]\n",
    "            ei += 2\n",
    "        else:\n",
    "            i += 1\n",
    "    \n",
    "arr = [ 10, 50, 33, 23, 45, 60, 74, 33, 21, 30 ]\n",
    "\n",
    "rearrange(arr)\n",
    " \n",
    "print(arr)"
   ]
  },
  {
   "cell_type": "code",
   "execution_count": 103,
   "metadata": {},
   "outputs": [
    {
     "name": "stdout",
     "output_type": "stream",
     "text": [
      "[2, 1, 4, 3, 6, 5, 8, 7, 10, 9]\n"
     ]
    }
   ],
   "source": [
    "arr = [1, 2, 3, 4, 5, 6, 7, 8, 9, 10 ]\n",
    "\n",
    "rearrange(arr)\n",
    " \n",
    "print(arr)"
   ]
  },
  {
   "cell_type": "code",
   "execution_count": 106,
   "metadata": {},
   "outputs": [
    {
     "name": "stdout",
     "output_type": "stream",
     "text": [
      "[4, 1, 2, 5, 6, 3, 8, 7]\n"
     ]
    }
   ],
   "source": [
    "arr = [2, 4, 6, 8, 1, 3, 5, 7 ]\n",
    "\n",
    "rearrange(arr)\n",
    " \n",
    "print(arr)"
   ]
  },
  {
   "cell_type": "code",
   "execution_count": 94,
   "metadata": {},
   "outputs": [
    {
     "ename": "SyntaxError",
     "evalue": "invalid character in identifier (<ipython-input-94-3cb7648f442a>, line 3)",
     "output_type": "error",
     "traceback": [
      "\u001b[1;36m  File \u001b[1;32m\"<ipython-input-94-3cb7648f442a>\"\u001b[1;36m, line \u001b[1;32m3\u001b[0m\n\u001b[1;33m    n = len(a)\u001b[0m\n\u001b[1;37m    ^\u001b[0m\n\u001b[1;31mSyntaxError\u001b[0m\u001b[1;31m:\u001b[0m invalid character in identifier\n"
     ]
    }
   ],
   "source": [
    "# [5:07 PM] Praween Kumar (Guest)\n",
    "def reArrange(a):\n",
    "    n = len(a)\n",
    "    i,j = 0,1\n",
    "    temp1 = -1\n",
    "    temp2 = -1\n",
    "    for _ in range(n):\n",
    "        if i < n and a[i] %2 ==0: # i = 2\n",
    "            i += 2\n",
    "        else:\n",
    "            temp1 = i # 2\n",
    "\n",
    "        if j<n and a[j]%2!=0: # j = 1\n",
    "\n",
    "            j+=2\n",
    "\n",
    "        else:\n",
    "\n",
    "            temp2 = j # 1\n",
    "\n",
    "        if temp1 != -1 and temp2 != -1 and temp1<n and temp2<n:\n",
    "\n",
    "#             print(a[temp1], a[temp2])\n",
    "\n",
    "            a[temp1], a[temp2] = a[temp2], a[temp1]\n",
    "\n",
    "            temp1 = -1\n",
    "\n",
    "            temp2 = -1\n",
    "\n",
    "    print(a)\n",
    "\n",
    "arr = [10, 50, 33, 23, 45, 60, 74, 33, 21, 30]\n",
    "\n"
   ]
  },
  {
   "cell_type": "markdown",
   "metadata": {},
   "source": [
    "temp.next => temp.get_next()\n",
    "\n",
    "temp.next = node => temp.set_next(node)\n",
    "\n",
    "\n",
    "\n",
    "temp.data => temp.get_data()\n",
    "\n",
    "temp.data = new_data => temp.set_data(new_data)"
   ]
  },
  {
   "cell_type": "markdown",
   "metadata": {},
   "source": [
    "self.head => self.get_head()\n",
    "self.tail => self.get_tail()\n",
    "\n",
    "self.head = node => self.set_head(node)\n",
    "self.tail = node => self.set_tail(node)"
   ]
  },
  {
   "cell_type": "code",
   "execution_count": null,
   "metadata": {},
   "outputs": [],
   "source": []
  },
  {
   "cell_type": "code",
   "execution_count": 3,
   "metadata": {},
   "outputs": [
    {
     "name": "stdout",
     "output_type": "stream",
     "text": [
      "'The Sky is Blue'\n"
     ]
    }
   ],
   "source": [
    "#lex_auth_0127438603766333441613\n",
    "\n",
    "class Node:\n",
    "    def __init__(self,data):\n",
    "        self.__data=data\n",
    "        self.__next=None\n",
    "\n",
    "    def get_data(self):\n",
    "        return self.__data\n",
    "\n",
    "    def set_data(self,data):\n",
    "        self.__data=data\n",
    "\n",
    "    def get_next(self):\n",
    "        return self.__next\n",
    "\n",
    "    def set_next(self,next_node):\n",
    "        self.__next=next_node\n",
    "\n",
    "\n",
    "class LinkedList:\n",
    "    def __init__(self):\n",
    "        self.__head=None\n",
    "        self.__tail=None\n",
    "\n",
    "    def get_head(self):\n",
    "        return self.__head\n",
    "\n",
    "    def get_tail(self):\n",
    "        return self.__tail\n",
    "\n",
    "\n",
    "    def add(self,data):\n",
    "        new_node=Node(data)\n",
    "        if(self.__head is None):\n",
    "            self.__head=self.__tail=new_node\n",
    "        else:\n",
    "            self.__tail.set_next(new_node)\n",
    "            self.__tail=new_node\n",
    "\n",
    "    def insert(self,data,data_before):\n",
    "        new_node=Node(data)\n",
    "        if(data_before==None):\n",
    "            new_node.set_next(self.__head)\n",
    "            self.__head=new_node\n",
    "            if(new_node.get_next()==None):\n",
    "                self.__tail=new_node\n",
    "\n",
    "        else:\n",
    "            node_before=self.find_node(data_before)\n",
    "            if(node_before is not None):\n",
    "                new_node.set_next(node_before.get_next())\n",
    "                node_before.set_next(new_node)\n",
    "                if(new_node.get_next() is None):\n",
    "                    self.__tail=new_node\n",
    "            else:\n",
    "                print(data_before,\"is not present in the Linked list\")\n",
    "\n",
    "    def display(self):\n",
    "        temp=self.__head\n",
    "        while(temp is not None):\n",
    "            print(temp.get_data())\n",
    "            temp=temp.get_next()\n",
    "\n",
    "\n",
    "    def find_node(self,data):\n",
    "        temp=self.__head\n",
    "        while(temp is not None):\n",
    "            if(temp.get_data()==data):\n",
    "                return temp\n",
    "            temp=temp.get_next()\n",
    "        return None\n",
    "\n",
    "    def delete(self,data):\n",
    "        node=self.find_node(data)\n",
    "        if(node is not None):\n",
    "            if(node==self.__head):\n",
    "                if(self.__head==self.__tail):\n",
    "                    self.__tail=None\n",
    "                self.__head=node.get_next()\n",
    "            else:\n",
    "                temp=self.__head\n",
    "                while(temp is not None):\n",
    "                    if(temp.get_next()==node):\n",
    "                        temp.set_next(node.get_next())\n",
    "                        if(node==self.__tail):\n",
    "                            self.__tail=temp\n",
    "                        node.set_next(None)\n",
    "                        break\n",
    "                    temp=temp.get_next()\n",
    "        else:\n",
    "            print(data,\"is not present in Linked list\")\n",
    "\n",
    "    #You can use the below __str__() to print the elements of the DS object while debugging\n",
    "    def __str__(self):\n",
    "        temp=self.__head\n",
    "        msg=[]\n",
    "        while(temp is not None):\n",
    "            msg.append(str(temp.get_data()))\n",
    "            temp=temp.get_next()\n",
    "        msg=\" \".join(msg)\n",
    "        msg=\"Linkedlist data(Head to Tail): \"+ msg\n",
    "        return msg\n",
    "\n",
    "\n",
    "def create_new_sentence(word_list):\n",
    "    new_sentence=\"\"\n",
    "    temp = word_list.get_head()\n",
    "    while temp is not None:\n",
    "        char = temp.get_data()\n",
    "        if char != '*' and char != '/':\n",
    "            new_sentence += char\n",
    "        else:\n",
    "            char = temp.get_next().get_data()\n",
    "            if char in [ '*', '/']:\n",
    "                # char == '*' or char == '/'\n",
    "                # * -> * -> d -> e -> \n",
    "                temp = temp.get_next().get_next()\n",
    "                char = \" \" + temp.get_data().upper() # D\n",
    "                new_sentence += char\n",
    "            else:\n",
    "                new_sentence += \" \"\n",
    "        temp = temp.get_next()\n",
    "    return new_sentence\n",
    "\n",
    "word_list=LinkedList()\n",
    "word_list.add(\"T\")\n",
    "word_list.add(\"h\")\n",
    "word_list.add(\"e\")\n",
    "word_list.add(\"/\")\n",
    "word_list.add(\"*\")\n",
    "word_list.add(\"s\")\n",
    "word_list.add(\"k\")\n",
    "word_list.add(\"y\")\n",
    "word_list.add(\"*\")\n",
    "word_list.add(\"i\")\n",
    "word_list.add(\"s\")\n",
    "word_list.add(\"/\")\n",
    "word_list.add(\"/\")\n",
    "word_list.add(\"b\")\n",
    "word_list.add(\"l\")\n",
    "word_list.add(\"u\")\n",
    "word_list.add(\"e\")\n",
    "result=create_new_sentence(word_list)\n",
    "print(repr(result))"
   ]
  },
  {
   "cell_type": "code",
   "execution_count": 4,
   "metadata": {},
   "outputs": [],
   "source": [
    "word_list = ['A', '*', 'b', 'i', 'r', 'd', '*', '*', 'i', 's', '/', 'f', 'l', 'y', 'i', 'n', 'g']\n",
    "\n",
    "ll = LinkedList()\n",
    "\n",
    "for char in word_list:\n",
    "    ll.add(char)"
   ]
  },
  {
   "cell_type": "code",
   "execution_count": 7,
   "metadata": {},
   "outputs": [
    {
     "name": "stdout",
     "output_type": "stream",
     "text": [
      "'A bird Is flying'\n"
     ]
    }
   ],
   "source": [
    "op = create_new_sentence(ll)\n",
    "print(repr(op))"
   ]
  },
  {
   "cell_type": "code",
   "execution_count": 8,
   "metadata": {},
   "outputs": [
    {
     "name": "stdout",
     "output_type": "stream",
     "text": [
      "'Look At Him'\n"
     ]
    }
   ],
   "source": [
    "word_list = ['L', 'o', 'o', 'k', '/', '/', 'a', 't', '*', '/', 'h', 'i', 'm']\n",
    "ll = LinkedList()\n",
    "for char in word_list:\n",
    "    ll.add(char)\n",
    "op = create_new_sentence(ll)\n",
    "print(repr(op))"
   ]
  },
  {
   "cell_type": "code",
   "execution_count": 13,
   "metadata": {},
   "outputs": [
    {
     "name": "stdout",
     "output_type": "stream",
     "text": [
      "The order in which the children would perform:\n",
      "Rahul solo song\n",
      "Sheema Dance\n",
      "Gitu Plays Flute\n",
      "Tarun Gymnastics\n",
      "Tom MIME\n",
      "\n",
      "After Rahul's performance, the schedule would change to:\n",
      "Rahul solo song\n",
      "Sheema Dance\n",
      "Gitu Plays Flute\n",
      "Rahul solo song\n",
      "Tarun Gymnastics\n",
      "Tom MIME\n",
      "\n",
      "After Swetha has joined, the schedule is:\n",
      "Rahul solo song\n",
      "Sheema Dance\n",
      "Gitu Plays Flute\n",
      "Rahul solo song\n",
      "Tarun Gymnastics\n",
      "Tom MIME\n",
      "Swetha Vote of Thanks\n"
     ]
    }
   ],
   "source": [
    "#lex_auth_0127438667235000321614\n",
    "\n",
    "class Node:\n",
    "    def __init__(self,data):\n",
    "        self.__data=data\n",
    "        self.__next=None\n",
    "\n",
    "    def get_data(self):\n",
    "        return self.__data\n",
    "\n",
    "    def set_data(self,data):\n",
    "        self.__data=data\n",
    "\n",
    "    def get_next(self):\n",
    "        return self.__next\n",
    "\n",
    "    def set_next(self,next_node):\n",
    "        self.__next=next_node\n",
    "\n",
    "\n",
    "class LinkedList:\n",
    "    def __init__(self):\n",
    "        self.__head=None\n",
    "        self.__tail=None\n",
    "\n",
    "    def get_head(self):\n",
    "        return self.__head\n",
    "\n",
    "    def get_tail(self):\n",
    "        return self.__tail\n",
    "\n",
    "\n",
    "    def add(self,data):\n",
    "        new_node=Node(data)\n",
    "        if(self.__head is None):\n",
    "            self.__head=self.__tail=new_node\n",
    "        else:\n",
    "            self.__tail.set_next(new_node)\n",
    "            self.__tail=new_node\n",
    "\n",
    "    def insert(self,data,data_before):\n",
    "        new_node=Node(data)\n",
    "        if(data_before==None):\n",
    "            new_node.set_next(self.__head)\n",
    "            self.__head=new_node\n",
    "            if(new_node.get_next()==None):\n",
    "                self.__tail=new_node\n",
    "\n",
    "        else:\n",
    "            node_before=self.find_node(data_before)\n",
    "            if(node_before is not None):\n",
    "                new_node.set_next(node_before.get_next())\n",
    "                node_before.set_next(new_node)\n",
    "                if(new_node.get_next() is None):\n",
    "                    self.__tail=new_node\n",
    "            else:\n",
    "                print(data_before,\"is not present in the Linked list\")\n",
    "\n",
    "    def display(self):\n",
    "        temp=self.__head\n",
    "        while(temp is not None):\n",
    "            print(temp.get_data())\n",
    "            temp=temp.get_next()\n",
    "\n",
    "\n",
    "    def find_node(self,data):\n",
    "        temp=self.__head\n",
    "        while(temp is not None):\n",
    "            if(temp.get_data()==data):\n",
    "                return temp\n",
    "            temp=temp.get_next()\n",
    "        return None\n",
    "\n",
    "    def delete(self,data):\n",
    "        node=self.find_node(data)\n",
    "        if(node is not None):\n",
    "            if(node==self.__head):\n",
    "                if(self.__head==self.__tail):\n",
    "                    self.__tail=None\n",
    "                self.__head=node.get_next()\n",
    "            else:\n",
    "                temp=self.__head\n",
    "                while(temp is not None):\n",
    "                    if(temp.get_next()==node):\n",
    "                        temp.set_next(node.get_next())\n",
    "                        if(node==self.__tail):\n",
    "                            self.__tail=temp\n",
    "                        node.set_next(None)\n",
    "                        break\n",
    "                    temp=temp.get_next()\n",
    "        else:\n",
    "            print(data,\"is not present in Linked list\")\n",
    "\n",
    "    #You can use the below __str__() to print the elements of the DS object while debugging\n",
    "    def __str__(self):\n",
    "        temp=self.__head\n",
    "        msg=[]\n",
    "        while(temp is not None):\n",
    "            msg.append(str(temp.get_data()))\n",
    "            temp=temp.get_next()\n",
    "        msg=\" \".join(msg)\n",
    "        msg=\"Linkedlist data(Head to Tail): \"+ msg\n",
    "        return msg\n",
    "        \n",
    "class Child:\n",
    "    def __init__(self,name,item_to_perform):\n",
    "        self.__name=name\n",
    "        self.__item_to_perform=item_to_perform\n",
    "\n",
    "    def __str__(self):\n",
    "        return(self.__name+\" \"+self.__item_to_perform)\n",
    "\n",
    "    def get_name(self):\n",
    "        return self.__name\n",
    "\n",
    "    def get_item_to_perform(self):\n",
    "        return self.__item_to_perform\n",
    "\n",
    "\n",
    "#Implement Performance class here\n",
    "class Performance:\n",
    "    \n",
    "    def __init__(self, children_list):\n",
    "        self.__children_list = children_list # ll\n",
    "    \n",
    "    def get_children_list(self):\n",
    "        return self.__children_list\n",
    "    \n",
    "    def add_new_child(self, child):\n",
    "        self.__children_list.add(child)\n",
    "    \n",
    "    def change_position(self, child):\n",
    "        node = Node(child)\n",
    "        count = self.children_count()\n",
    "        pos = ( count + 1 ) // 2\n",
    "        temp = self.__children_list.get_head()\n",
    "        i = 1\n",
    "        while i < pos: # for i in range(pos)\n",
    "            temp = temp.get_next()\n",
    "            i += 1 \n",
    "        \n",
    "        node.set_next(temp.get_next())\n",
    "        temp.set_next(node)\n",
    "        \n",
    "    def children_count(self):\n",
    "        count = 0\n",
    "        temp = self.__children_list.get_head()\n",
    "        while temp is not None:\n",
    "            count += 1\n",
    "            temp = temp.get_next()\n",
    "        return count\n",
    "\n",
    "\n",
    "child1=Child(\"Rahul\",\"solo song\")\n",
    "child2=Child(\"Sheema\",\"Dance\")\n",
    "child3=Child(\"Gitu\",\"Plays Flute\")\n",
    "child4=Child(\"Tarun\",\"Gymnastics\")\n",
    "child5=Child(\"Tom\",\"MIME\")\n",
    "\n",
    "#Add different values to the list and test the program\n",
    "children_list=LinkedList()\n",
    "children_list.add(child1)\n",
    "children_list.add(child2)\n",
    "children_list.add(child3)\n",
    "children_list.add(child4)\n",
    "children_list.add(child5)\n",
    "performance=Performance(children_list)\n",
    "print(\"The order in which the children would perform:\")\n",
    "performance.get_children_list().display()\n",
    "print()\n",
    "print(\"After Rahul's performance, the schedule would change to:\")\n",
    "performance.change_position(child1)\n",
    "performance.get_children_list().display()\n",
    "print()\n",
    "child6=Child(\"Swetha\",\"Vote of Thanks\")\n",
    "print(\"After Swetha has joined, the schedule is:\")\n",
    "performance.add_new_child(child6)\n",
    "performance.get_children_list().display()"
   ]
  },
  {
   "cell_type": "code",
   "execution_count": 14,
   "metadata": {},
   "outputs": [],
   "source": [
    "def reversePrint(head):\n",
    "\n",
    "    previous_ptr=None\n",
    "\n",
    "    curr_ptr=head\n",
    "\n",
    "    while curr_ptr is not None:\n",
    "\n",
    "        next_ptr=curr_ptr.next\n",
    "\n",
    "        curr_ptr.next=previous_ptr\n",
    "\n",
    "        previous_ptr=curr_ptr\n",
    "\n",
    "        curr_ptr=next_ptr\n",
    "\n",
    "    head=previous_ptr\n",
    "    \n",
    "    return head"
   ]
  },
  {
   "cell_type": "code",
   "execution_count": 38,
   "metadata": {},
   "outputs": [],
   "source": [
    "#lex_auth_0127438800232038401622\n",
    "\n",
    "class Node:\n",
    "    def __init__(self,data):\n",
    "        self.__data=data\n",
    "        self.__next=None\n",
    "\n",
    "    def get_data(self):\n",
    "        return self.__data\n",
    "\n",
    "    def set_data(self,data):\n",
    "        self.__data=data\n",
    "\n",
    "    def get_next(self):\n",
    "        return self.__next\n",
    "\n",
    "    def set_next(self,next_node):\n",
    "        self.__next=next_node\n",
    "\n",
    "\n",
    "class LinkedList:\n",
    "    def __init__(self):\n",
    "        self.__head=None\n",
    "        self.__tail=None\n",
    "\n",
    "    def get_head(self):\n",
    "        return self.__head\n",
    "\n",
    "    def get_tail(self):\n",
    "        return self.__tail\n",
    "\n",
    "\n",
    "    def add(self,data):\n",
    "        new_node=Node(data)\n",
    "        if(self.__head is None):\n",
    "            self.__head=self.__tail=new_node\n",
    "        else:\n",
    "            self.__tail.set_next(new_node)\n",
    "            self.__tail=new_node\n",
    "\n",
    "    def insert(self,data,data_before):\n",
    "        new_node=Node(data)\n",
    "        if(data_before==None):\n",
    "            new_node.set_next(self.__head)\n",
    "            self.__head=new_node\n",
    "            if(new_node.get_next()==None):\n",
    "                self.__tail=new_node\n",
    "\n",
    "        else:\n",
    "            node_before=self.find_node(data_before)\n",
    "            if(node_before is not None):\n",
    "                new_node.set_next(node_before.get_next())\n",
    "                node_before.set_next(new_node)\n",
    "                if(new_node.get_next() is None):\n",
    "                    self.__tail=new_node\n",
    "            else:\n",
    "                print(data_before,\"is not present in the Linked list\")\n",
    "\n",
    "    def display(self):\n",
    "        temp=self.__head\n",
    "        while(temp is not None):\n",
    "            print(temp.get_data())\n",
    "            temp=temp.get_next()\n",
    "\n",
    "\n",
    "    def find_node(self,data):\n",
    "        temp=self.__head\n",
    "        while(temp is not None):\n",
    "            if(temp.get_data()==data):\n",
    "                return temp\n",
    "            temp=temp.get_next()\n",
    "        return None\n",
    "\n",
    "    def delete(self, data):\n",
    "        node=self.find_node(data)\n",
    "        if(node is not None):\n",
    "            if(node==self.__head):\n",
    "                if(self.__head==self.__tail):\n",
    "                    self.__tail=None\n",
    "                self.__head=node.get_next()\n",
    "            else:\n",
    "                temp=self.__head\n",
    "                while(temp is not None):\n",
    "                    if(temp.get_next()==node):\n",
    "                        temp.set_next(node.get_next())\n",
    "                        if(node==self.__tail):\n",
    "                            self.__tail=temp\n",
    "                        node.set_next(None)\n",
    "                        break\n",
    "                    temp=temp.get_next()\n",
    "        else:\n",
    "            print(data,\"is not present in Linked list\")\n",
    "\n",
    "    #You can use the below __str__() to print the elements of the DS object while debugging\n",
    "    def __str__(self):\n",
    "        temp=self.__head\n",
    "        msg=[]\n",
    "        while(temp is not None):\n",
    "            msg.append(str(temp.get_data()))\n",
    "            temp=temp.get_next()\n",
    "        msg=\" \".join(msg)\n",
    "        msg=\"Linkedlist data(Head to Tail): \"+ msg\n",
    "        return msg\n",
    "\n",
    "class BakeHouse:\n",
    "    def __init__(self):\n",
    "        self.__occupied_table_list=LinkedList()\n",
    "    def get_occupied_table_list(self):\n",
    "        return self.__occupied_table_list\n",
    "    def allocate_table(self):\n",
    "        # 1 -> 2 -> 3\n",
    "        head = self.__occupied_table_list.get_head()\n",
    "        if head is None:\n",
    "            self.__occupied_table_list.add(1)\n",
    "        else:\n",
    "            temp = self.__occupied_table_list.get_head()\n",
    "            while temp != None and temp.get_next() != None and  (temp.get_data() + 1) == temp.get_next().get_data():\n",
    "                temp = temp.get_next()\n",
    "            data = temp.get_data() + 1\n",
    "            if temp.get_next() == None:\n",
    "                self.__occupied_table_list.add(data)\n",
    "            else:\n",
    "                node = Node(data)\n",
    "                node.set_next(temp.get_next())\n",
    "                temp.set_next(node)\n",
    "    def deallocate_table(self, table_number):\n",
    "        self.__occupied_table_list.delete(table_number)\n",
    "                \n",
    "    #Implement other methods here\n",
    "\n",
    "bakehouse=BakeHouse()\n",
    "#Invoke the methods of BakeHouse class and test the program\n"
   ]
  },
  {
   "cell_type": "code",
   "execution_count": 39,
   "metadata": {},
   "outputs": [],
   "source": [
    "bakehouse.get_occupieed_table_list().display()"
   ]
  },
  {
   "cell_type": "code",
   "execution_count": 40,
   "metadata": {},
   "outputs": [
    {
     "name": "stdout",
     "output_type": "stream",
     "text": [
      "1\n"
     ]
    }
   ],
   "source": [
    "bakehouse.allocate_table()\n",
    "bakehouse.get_occupieed_table_list().display()"
   ]
  },
  {
   "cell_type": "code",
   "execution_count": 41,
   "metadata": {},
   "outputs": [],
   "source": [
    "for _ in range(4):\n",
    "    bakehouse.allocate_table()\n",
    "    "
   ]
  },
  {
   "cell_type": "code",
   "execution_count": 42,
   "metadata": {},
   "outputs": [
    {
     "name": "stdout",
     "output_type": "stream",
     "text": [
      "1\n",
      "2\n",
      "3\n",
      "4\n",
      "5\n"
     ]
    }
   ],
   "source": [
    "bakehouse.get_occupieed_table_list().display()"
   ]
  },
  {
   "cell_type": "code",
   "execution_count": 43,
   "metadata": {},
   "outputs": [
    {
     "name": "stdout",
     "output_type": "stream",
     "text": [
      "1\n",
      "2\n",
      "4\n",
      "5\n"
     ]
    }
   ],
   "source": [
    "bakehouse.deallocate_table(3)\n",
    "bakehouse.get_occupieed_table_list().display()"
   ]
  },
  {
   "cell_type": "code",
   "execution_count": 44,
   "metadata": {},
   "outputs": [
    {
     "name": "stdout",
     "output_type": "stream",
     "text": [
      "1\n",
      "2\n",
      "5\n"
     ]
    }
   ],
   "source": [
    "bakehouse.deallocate_table(4)\n",
    "bakehouse.get_occupieed_table_list().display()"
   ]
  },
  {
   "cell_type": "code",
   "execution_count": 45,
   "metadata": {},
   "outputs": [
    {
     "name": "stdout",
     "output_type": "stream",
     "text": [
      "1\n",
      "2\n",
      "3\n",
      "5\n"
     ]
    }
   ],
   "source": [
    "bakehouse.allocate_table()\n",
    "bakehouse.get_occupieed_table_list().display()"
   ]
  },
  {
   "cell_type": "code",
   "execution_count": 46,
   "metadata": {},
   "outputs": [
    {
     "name": "stdout",
     "output_type": "stream",
     "text": [
      "1\n",
      "2\n",
      "3\n",
      "4\n",
      "5\n"
     ]
    }
   ],
   "source": [
    "bakehouse.allocate_table()\n",
    "bakehouse.get_occupieed_table_list().display()"
   ]
  },
  {
   "cell_type": "code",
   "execution_count": 47,
   "metadata": {},
   "outputs": [
    {
     "name": "stdout",
     "output_type": "stream",
     "text": [
      "1\n",
      "2\n",
      "3\n",
      "4\n",
      "5\n",
      "6\n"
     ]
    }
   ],
   "source": [
    "bakehouse.allocate_table()\n",
    "bakehouse.get_occupieed_table_list().display()"
   ]
  },
  {
   "cell_type": "code",
   "execution_count": 48,
   "metadata": {},
   "outputs": [
    {
     "name": "stdout",
     "output_type": "stream",
     "text": [
      "2\n",
      "3\n",
      "4\n",
      "5\n",
      "6\n"
     ]
    }
   ],
   "source": [
    "bakehouse.deallocate_table(1)\n",
    "bakehouse.get_occupieed_table_list().display()"
   ]
  },
  {
   "cell_type": "code",
   "execution_count": 49,
   "metadata": {},
   "outputs": [
    {
     "name": "stdout",
     "output_type": "stream",
     "text": [
      "2\n",
      "3\n",
      "4\n",
      "5\n",
      "6\n",
      "7\n"
     ]
    }
   ],
   "source": [
    "bakehouse.allocate_table()\n",
    "bakehouse.get_occupieed_table_list().display()"
   ]
  },
  {
   "cell_type": "code",
   "execution_count": 50,
   "metadata": {},
   "outputs": [
    {
     "name": "stdout",
     "output_type": "stream",
     "text": [
      "5\n",
      "6\n",
      "7\n"
     ]
    }
   ],
   "source": [
    "bakehouse.deallocate_table(2)\n",
    "bakehouse.deallocate_table(3)\n",
    "bakehouse.deallocate_table(4)\n",
    "bakehouse.get_occupieed_table_list().display()"
   ]
  },
  {
   "cell_type": "code",
   "execution_count": 51,
   "metadata": {},
   "outputs": [],
   "source": [
    "bakehouse.allocate_table()"
   ]
  },
  {
   "cell_type": "code",
   "execution_count": 52,
   "metadata": {},
   "outputs": [
    {
     "name": "stdout",
     "output_type": "stream",
     "text": [
      "5\n",
      "6\n",
      "7\n",
      "8\n"
     ]
    }
   ],
   "source": [
    "bakehouse.get_occupieed_table_list().display()"
   ]
  },
  {
   "cell_type": "code",
   "execution_count": null,
   "metadata": {},
   "outputs": [],
   "source": []
  }
 ],
 "metadata": {
  "kernelspec": {
   "display_name": "Python 3",
   "language": "python",
   "name": "python3"
  },
  "language_info": {
   "codemirror_mode": {
    "name": "ipython",
    "version": 3
   },
   "file_extension": ".py",
   "mimetype": "text/x-python",
   "name": "python",
   "nbconvert_exporter": "python",
   "pygments_lexer": "ipython3",
   "version": "3.8.3"
  }
 },
 "nbformat": 4,
 "nbformat_minor": 4
}
