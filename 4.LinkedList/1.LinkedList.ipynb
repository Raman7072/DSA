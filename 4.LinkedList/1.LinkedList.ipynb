{
 "cells": [
  {
   "cell_type": "markdown",
   "metadata": {},
   "source": [
    "### LinkedList"
   ]
  },
  {
   "cell_type": "code",
   "execution_count": 23,
   "metadata": {},
   "outputs": [
    {
     "name": "stdout",
     "output_type": "stream",
     "text": [
      "Dhoni 15\n",
      "Virat 10\n",
      "Rohit 12\n",
      "Raina 11\n",
      "Jadeja 13\n",
      "Ishant 9\n",
      "Shikhar 8\n",
      "Axar 7.5\n",
      "Ashwin 6\n",
      "Stuart 7\n",
      "Bhuvneshwar 5\n",
      "------------------------------------------------------------\n",
      "Dhoni 15\n",
      "Jadeja 13\n",
      "Rohit 12\n",
      "Raina 11\n",
      "Virat 10\n",
      "Ishant 9\n",
      "Shikhar 8\n",
      "Axar 7.5\n",
      "Stuart 7\n",
      "Ashwin 6\n",
      "Bhuvneshwar 5\n",
      "------------------------------------------------------------\n",
      "Jadeja 13\n",
      "Rohit 12\n",
      "Raina 11\n",
      "Virat 10\n",
      "Dhoni 15\n",
      "Ishant 9\n",
      "Shikhar 8\n",
      "Axar 7.5\n",
      "Stuart 7\n",
      "Ashwin 6\n",
      "Bhuvneshwar 5\n"
     ]
    }
   ],
   "source": [
    "#lex_auth_0127426391777280001519\n",
    "\n",
    "class Player:\n",
    "    def __init__(self,name,experience):\n",
    "        self.__name=name\n",
    "        self.__experience=experience\n",
    "\n",
    "    def get_name(self):\n",
    "        return self.__name\n",
    "\n",
    "    def get_experience(self):\n",
    "        return self.__experience\n",
    "\n",
    "    def __str__(self):\n",
    "        return(self.__name+\" \"+(str)(self.__experience))\n",
    "# pl = [p1, p2, p3, ... ]\n",
    "#Implement Game class here\n",
    "class Game:\n",
    "    def __init__(self, players_list):\n",
    "        self.__players_list = players_list\n",
    "    def display_player_details(self):\n",
    "        for player in self.__players_list:\n",
    "            print(player)\n",
    "    def sort_players_based_on_experience(self):\n",
    "        self.__players_list.sort(reverse=True,\n",
    "             key = lambda player: player.get_experience())\n",
    "    def shift_player_to_new_position(self, old_index_position, new_index_position):\n",
    "        item = self.__players_list[old_index_position]\n",
    "        while old_index_position < new_index_position:\n",
    "            self.__players_list[old_index_position] = self.__players_list[old_index_position+1]\n",
    "            old_index_position += 1\n",
    "        self.__players_list[old_index_position] = item\n",
    "    \n",
    "player1=Player(\"Dhoni\",15)\n",
    "player2=Player(\"Virat\",10)\n",
    "player3=Player(\"Rohit\",12)\n",
    "player4=Player(\"Raina\",11)\n",
    "player5=Player(\"Jadeja\",13)\n",
    "player6=Player(\"Ishant\",9)\n",
    "player7=Player(\"Shikhar\",8)\n",
    "player8=Player(\"Axar\",7.5)\n",
    "player9=Player(\"Ashwin\",6)\n",
    "player10=Player(\"Stuart\",7)\n",
    "player11=Player(\"Bhuvneshwar\",5)\n",
    "#Add different values to the list and test the program\n",
    "players_list=[player1,player2,player3,player4,player5,player6,player7,player8,player9,player10,player11]\n",
    "\n",
    "cricket = Game(players_list)\n",
    "cricket.display_player_details()\n",
    "#Create object of Game class, invoke the methods and test your program\n",
    "cricket.sort_players_based_on_experience()\n",
    "#print('--'*30)\n",
    "cricket.display_player_details()\n",
    "#print('--'*30)\n",
    "\n",
    "cricket.shift_player_to_new_position(0, 4)\n",
    "cricket.display_player_details()"
   ]
  },
  {
   "cell_type": "code",
   "execution_count": null,
   "metadata": {},
   "outputs": [],
   "source": []
  },
  {
   "cell_type": "code",
   "execution_count": 5,
   "metadata": {},
   "outputs": [],
   "source": [
    "d = [ ['hi', 10], ['hello', 5], ['good', 12], \n",
    "    ['bad', 6]]"
   ]
  },
  {
   "cell_type": "code",
   "execution_count": 6,
   "metadata": {},
   "outputs": [],
   "source": [
    "d.sort(key=lambda v: v[1], reverse=True )"
   ]
  },
  {
   "cell_type": "code",
   "execution_count": 7,
   "metadata": {},
   "outputs": [
    {
     "data": {
      "text/plain": [
       "[['good', 12], ['hi', 10], ['bad', 6], ['hello', 5]]"
      ]
     },
     "execution_count": 7,
     "metadata": {},
     "output_type": "execute_result"
    }
   ],
   "source": [
    "d"
   ]
  },
  {
   "cell_type": "code",
   "execution_count": 11,
   "metadata": {},
   "outputs": [],
   "source": [
    "class A:\n",
    "    def __init__(self, name, age):\n",
    "        self.name = name\n",
    "        self.age = age\n",
    "    def __str__(self):\n",
    "        return f\"{self.name} {self.age}\"\n",
    "    "
   ]
  },
  {
   "cell_type": "code",
   "execution_count": 12,
   "metadata": {},
   "outputs": [],
   "source": [
    "ll = [ \n",
    "    A('sachin', 25), \n",
    "    A('simran', 23),\n",
    "    A('rajat', 35),\n",
    "    A('kushal', 28)\n",
    "     ]"
   ]
  },
  {
   "cell_type": "code",
   "execution_count": 13,
   "metadata": {},
   "outputs": [
    {
     "data": {
      "text/plain": [
       "[<__main__.A at 0x2c4de334b20>,\n",
       " <__main__.A at 0x2c4de627dc0>,\n",
       " <__main__.A at 0x2c4de627040>,\n",
       " <__main__.A at 0x2c4de627e80>]"
      ]
     },
     "execution_count": 13,
     "metadata": {},
     "output_type": "execute_result"
    }
   ],
   "source": [
    "ll"
   ]
  },
  {
   "cell_type": "code",
   "execution_count": 16,
   "metadata": {},
   "outputs": [
    {
     "name": "stdout",
     "output_type": "stream",
     "text": [
      "sachin 25\n",
      "simran 23\n",
      "rajat 35\n",
      "kushal 28\n"
     ]
    }
   ],
   "source": [
    "for item in ll:\n",
    "    print(item)"
   ]
  },
  {
   "cell_type": "code",
   "execution_count": 17,
   "metadata": {},
   "outputs": [],
   "source": [
    "ll.sort(key = lambda obj: obj.age, reverse=True )"
   ]
  },
  {
   "cell_type": "code",
   "execution_count": 18,
   "metadata": {},
   "outputs": [
    {
     "name": "stdout",
     "output_type": "stream",
     "text": [
      "rajat 35\n",
      "kushal 28\n",
      "sachin 25\n",
      "simran 23\n"
     ]
    }
   ],
   "source": [
    "for item in ll:\n",
    "    print(item)"
   ]
  },
  {
   "cell_type": "markdown",
   "metadata": {},
   "source": [
    "## Linked List\n",
    "\n",
    "\n",
    "    linear data structure\n",
    "    \n",
    "    collection of nodes\n",
    "    \n",
    "    node contains two fields\n",
    "        \n",
    "        data field\n",
    "        \n",
    "        link field "
   ]
  },
  {
   "cell_type": "code",
   "execution_count": 24,
   "metadata": {},
   "outputs": [],
   "source": [
    "class Node:\n",
    "    def __init__(self, data):\n",
    "        self.data = data # data part\n",
    "        self.next = None # link part\n",
    "    def __str__(self):\n",
    "        return f\"Node({self.data})\""
   ]
  },
  {
   "cell_type": "code",
   "execution_count": 25,
   "metadata": {},
   "outputs": [],
   "source": [
    "#50, 70, 30, 20\n",
    "\n",
    "a = Node(50)\n",
    "b = Node(70)\n",
    "c = Node(30)\n",
    "d = Node(20)"
   ]
  },
  {
   "cell_type": "code",
   "execution_count": 26,
   "metadata": {},
   "outputs": [
    {
     "name": "stdout",
     "output_type": "stream",
     "text": [
      "Node(50)\n",
      "Node(70)\n",
      "Node(30)\n",
      "Node(20)\n"
     ]
    }
   ],
   "source": [
    "for n in [a, b, c, d]:\n",
    "    print(n)"
   ]
  },
  {
   "cell_type": "code",
   "execution_count": 27,
   "metadata": {},
   "outputs": [],
   "source": [
    "head = a\n",
    "a.next = b\n",
    "b.next = c\n",
    "c.next = d\n",
    "del a, b, c, d"
   ]
  },
  {
   "cell_type": "code",
   "execution_count": 28,
   "metadata": {},
   "outputs": [],
   "source": [
    "def display(head):\n",
    "    temp = head\n",
    "    while temp != None:\n",
    "        print(temp.data)\n",
    "        temp = temp.next\n",
    "        "
   ]
  },
  {
   "cell_type": "code",
   "execution_count": 29,
   "metadata": {},
   "outputs": [
    {
     "name": "stdout",
     "output_type": "stream",
     "text": [
      "50\n",
      "70\n",
      "30\n",
      "20\n"
     ]
    }
   ],
   "source": [
    "display(head)"
   ]
  },
  {
   "cell_type": "code",
   "execution_count": 35,
   "metadata": {},
   "outputs": [],
   "source": [
    "class Node:\n",
    "    def __init__(self, data):\n",
    "        self.__data = data\n",
    "        self.__next = None\n",
    "    # getter methods\n",
    "    def get_data(self):\n",
    "        return self.__data\n",
    "    def get_next(self):\n",
    "        return self.__next\n",
    "    # setter methods\n",
    "    def set_data(self, new_data):\n",
    "        self.__data = new_data\n",
    "    def set_next(self, next_):\n",
    "        self.__next = next_\n",
    "    def __str__(self):\n",
    "        return f\"Node({self.__data})\""
   ]
  },
  {
   "cell_type": "code",
   "execution_count": 40,
   "metadata": {},
   "outputs": [],
   "source": [
    "a = Node(50); b = Node(70); c = Node(30); d = Node(20)\n",
    "a.set_next(b); b.set_next(c); c.set_next(d)\n",
    "head = a\n",
    "del a, b, c, d\n"
   ]
  },
  {
   "cell_type": "code",
   "execution_count": 42,
   "metadata": {},
   "outputs": [
    {
     "name": "stdout",
     "output_type": "stream",
     "text": [
      "50\n",
      "70\n",
      "30\n",
      "20\n"
     ]
    }
   ],
   "source": [
    "def display(head):\n",
    "    temp = head\n",
    "    while temp != None:\n",
    "        print(temp.get_data())\n",
    "        temp = temp.get_next()\n",
    "display(head)"
   ]
  },
  {
   "cell_type": "code",
   "execution_count": null,
   "metadata": {},
   "outputs": [],
   "source": []
  },
  {
   "cell_type": "code",
   "execution_count": 36,
   "metadata": {},
   "outputs": [
    {
     "name": "stdout",
     "output_type": "stream",
     "text": [
      "Node(50)\n"
     ]
    }
   ],
   "source": [
    "n1 = Node(50)\n",
    "print(n1)"
   ]
  },
  {
   "cell_type": "code",
   "execution_count": 38,
   "metadata": {},
   "outputs": [
    {
     "name": "stdout",
     "output_type": "stream",
     "text": [
      "50\n"
     ]
    }
   ],
   "source": [
    "print(n1.get_data())"
   ]
  },
  {
   "cell_type": "code",
   "execution_count": 39,
   "metadata": {},
   "outputs": [
    {
     "name": "stdout",
     "output_type": "stream",
     "text": [
      "None\n"
     ]
    }
   ],
   "source": [
    "print(n1.get_next())"
   ]
  },
  {
   "cell_type": "code",
   "execution_count": 43,
   "metadata": {},
   "outputs": [],
   "source": [
    "class Node:\n",
    "    def __init__(self, data):\n",
    "        self.__data = data\n",
    "        self.__next = None\n",
    "    # getter methods\n",
    "    def get_data(self):\n",
    "        return self.__data\n",
    "    def get_next(self):\n",
    "        return self.__next\n",
    "    # setter methods\n",
    "    def set_data(self, new_data):\n",
    "        self.__data = new_data\n",
    "    def set_next(self, next_):\n",
    "        self.__next = next_\n",
    "    def __str__(self):\n",
    "        return f\"Node({self.__data})\""
   ]
  },
  {
   "cell_type": "code",
   "execution_count": null,
   "metadata": {},
   "outputs": [],
   "source": []
  },
  {
   "cell_type": "code",
   "execution_count": 89,
   "metadata": {},
   "outputs": [],
   "source": [
    "class Node:\n",
    "    def __init__(self, data):\n",
    "        self.data = data\n",
    "        self.next = None\n",
    "        \n",
    "class LinkedList:\n",
    "    def __init__(self):\n",
    "        self.head = None\n",
    "    def display(self):\n",
    "        temp = self.head\n",
    "        while temp != None:\n",
    "            print(temp.data)\n",
    "            #print(temp.data, end=' -> ')\n",
    "            temp = temp.next\n",
    "        #print()\n",
    "    \n",
    "    def is_empty(self):\n",
    "        if self.head == None:\n",
    "            return True\n",
    "        return False\n",
    "    \n",
    "    def append(self, node): # O(n)\n",
    "        if self.is_empty():\n",
    "            self.head = node\n",
    "        else:\n",
    "            temp = self.head\n",
    "            while temp.next != None:\n",
    "                temp = temp.next\n",
    "            temp.next = node"
   ]
  },
  {
   "cell_type": "code",
   "execution_count": 90,
   "metadata": {},
   "outputs": [],
   "source": [
    "mylist = LinkedList()"
   ]
  },
  {
   "cell_type": "code",
   "execution_count": 91,
   "metadata": {},
   "outputs": [],
   "source": [
    "mylist.head"
   ]
  },
  {
   "cell_type": "code",
   "execution_count": 92,
   "metadata": {},
   "outputs": [],
   "source": [
    "mylist.display()"
   ]
  },
  {
   "cell_type": "code",
   "execution_count": 93,
   "metadata": {},
   "outputs": [],
   "source": [
    "mylist.append(Node(50))"
   ]
  },
  {
   "cell_type": "code",
   "execution_count": 94,
   "metadata": {},
   "outputs": [
    {
     "name": "stdout",
     "output_type": "stream",
     "text": [
      "50\n"
     ]
    }
   ],
   "source": [
    "mylist.display()"
   ]
  },
  {
   "cell_type": "code",
   "execution_count": 95,
   "metadata": {},
   "outputs": [],
   "source": [
    "mylist.append(Node(70))\n",
    "mylist.append(Node(30))\n",
    "mylist.append(Node(20))"
   ]
  },
  {
   "cell_type": "code",
   "execution_count": 96,
   "metadata": {},
   "outputs": [
    {
     "name": "stdout",
     "output_type": "stream",
     "text": [
      "50\n",
      "70\n",
      "30\n",
      "20\n"
     ]
    }
   ],
   "source": [
    "mylist.display()"
   ]
  },
  {
   "cell_type": "code",
   "execution_count": null,
   "metadata": {},
   "outputs": [],
   "source": []
  },
  {
   "cell_type": "code",
   "execution_count": 101,
   "metadata": {},
   "outputs": [],
   "source": [
    "class Node:\n",
    "    def __init__(self, data):\n",
    "        self.data = data\n",
    "        self.next = None\n",
    "        \n",
    "class LinkedList:\n",
    "    def __init__(self):\n",
    "        self.head = None\n",
    "        self.tail = None\n",
    "    def display(self):\n",
    "        temp = self.head\n",
    "        while temp != None:\n",
    "            print(temp.data)\n",
    "            #print(temp.data, end=' -> ')\n",
    "            temp = temp.next\n",
    "        #print()\n",
    "    \n",
    "    def is_empty(self):\n",
    "        if self.head == None:\n",
    "            return True\n",
    "        return False\n",
    "    \n",
    "    def append(self, node): # O(n)\n",
    "        if self.is_empty():\n",
    "            self.head = self.tail = node\n",
    "        else:\n",
    "            self.tail.next = node\n",
    "            self.tail = node\n",
    "            \n",
    "    def __str__(self):\n",
    "        string = \"\"\n",
    "        temp = self.head\n",
    "        while temp != None:\n",
    "            string += str(temp.data) + ', '\n",
    "            temp = temp.next\n",
    "        string = string[:-2]\n",
    "        return f\"LinkedList([{string}])\""
   ]
  },
  {
   "cell_type": "code",
   "execution_count": 109,
   "metadata": {},
   "outputs": [],
   "source": [
    "mylist = LinkedList()"
   ]
  },
  {
   "cell_type": "code",
   "execution_count": 110,
   "metadata": {},
   "outputs": [],
   "source": [
    "mylist = LinkedList()\n",
    "for i in range(1, 11):\n",
    "    mylist.append(Node(i**2))"
   ]
  },
  {
   "cell_type": "code",
   "execution_count": 111,
   "metadata": {},
   "outputs": [],
   "source": [
    "#mylist.display()"
   ]
  },
  {
   "cell_type": "code",
   "execution_count": 112,
   "metadata": {},
   "outputs": [
    {
     "name": "stdout",
     "output_type": "stream",
     "text": [
      "LinkedList([1, 4, 9, 16, 25, 36, 49, 64, 81, 100])\n"
     ]
    }
   ],
   "source": [
    "mylist = LinkedList()\n",
    "for i in range(1, 11):\n",
    "    mylist.append(Node(i**2))\n",
    "print(mylist)"
   ]
  },
  {
   "cell_type": "code",
   "execution_count": 113,
   "metadata": {},
   "outputs": [],
   "source": [
    "mylist.append(Node(1000))"
   ]
  },
  {
   "cell_type": "code",
   "execution_count": 114,
   "metadata": {},
   "outputs": [
    {
     "name": "stdout",
     "output_type": "stream",
     "text": [
      "LinkedList([1, 4, 9, 16, 25, 36, 49, 64, 81, 100, 1000])\n"
     ]
    }
   ],
   "source": [
    "print(mylist)"
   ]
  },
  {
   "cell_type": "code",
   "execution_count": null,
   "metadata": {},
   "outputs": [],
   "source": []
  },
  {
   "cell_type": "code",
   "execution_count": null,
   "metadata": {},
   "outputs": [],
   "source": []
  },
  {
   "cell_type": "markdown",
   "metadata": {},
   "source": [
    "#### Data Structure \n",
    "\n",
    "        1. Representation in Memory\n",
    "        2. Operations             \n",
    "            access\n",
    "            insert\n",
    "            delete\n",
    "            sort\n",
    "            search"
   ]
  },
  {
   "cell_type": "code",
   "execution_count": 115,
   "metadata": {},
   "outputs": [],
   "source": [
    "class Node:\n",
    "    def __init__(self, data):\n",
    "        self.__data = data\n",
    "        self.__next = None\n",
    "    def get_data(self):\n",
    "        return self.__data\n",
    "    def set_data(self, new_data):\n",
    "        self.__data = new_data\n",
    "    def get_next(self):\n",
    "        return self.__next\n",
    "    def set_next(self, node):\n",
    "        self.__next = node\n",
    "    def __str__(self):\n",
    "        return f\"Node({self.data})\"\n",
    "        \n",
    "class LinkedList:\n",
    "    def __init__(self):\n",
    "        self.__head = None\n",
    "        self.__tail = None\n",
    "        \n",
    "    def display(self):\n",
    "        node = self.__head\n",
    "        while node != None:\n",
    "            print(node.get_data())\n",
    "            #print(temp.data, end=' -> ')\n",
    "            node = node.get_next()\n",
    "        #print()\n",
    "    \n",
    "    def is_empty(self):\n",
    "        if self.__head == None:\n",
    "            return True\n",
    "        return False\n",
    "    \n",
    "    def append(self, node): # O(n)\n",
    "        if self.is_empty():\n",
    "            self.__head = self.__tail = node\n",
    "        else:\n",
    "            self.__tail.set_next(node)\n",
    "            self.__tail = node\n",
    "            \n",
    "    def __str__(self):\n",
    "        string = \"\"\n",
    "        node = self.__head\n",
    "        while node != None:\n",
    "            string += str(node.get_data()) + ', '\n",
    "            node = node.get_next()\n",
    "        string = string[:-2]\n",
    "        return f\"LinkedList([{string}])\""
   ]
  },
  {
   "cell_type": "code",
   "execution_count": 119,
   "metadata": {},
   "outputs": [
    {
     "name": "stdout",
     "output_type": "stream",
     "text": [
      "LinkedList([1, 4, 9, 16, 25, 36, 49, 64, 81, 100])\n"
     ]
    }
   ],
   "source": [
    "mylist = LinkedList()\n",
    "for i in range(1, 11):\n",
    "    mylist.append(Node(i**2))\n",
    "print(mylist)"
   ]
  },
  {
   "cell_type": "code",
   "execution_count": 120,
   "metadata": {},
   "outputs": [],
   "source": [
    "mylist.append(Node(50))"
   ]
  },
  {
   "cell_type": "code",
   "execution_count": 121,
   "metadata": {},
   "outputs": [
    {
     "name": "stdout",
     "output_type": "stream",
     "text": [
      "LinkedList([1, 4, 9, 16, 25, 36, 49, 64, 81, 100, 50])\n"
     ]
    }
   ],
   "source": [
    "print(mylist)"
   ]
  },
  {
   "cell_type": "code",
   "execution_count": 1,
   "metadata": {},
   "outputs": [
    {
     "name": "stdout",
     "output_type": "stream",
     "text": [
      "[2, 3, 4, 5]\n"
     ]
    }
   ],
   "source": [
    "a = [ 1, 2, 3, 4]\n",
    "\n",
    "def change(a):\n",
    "    a.append(5)\n",
    "    a.pop(0)\n",
    "    \n",
    "change(a)\n",
    "print(a)"
   ]
  },
  {
   "cell_type": "code",
   "execution_count": 2,
   "metadata": {},
   "outputs": [],
   "source": [
    "def reverse(arr, size):\n",
    "    temp = []\n",
    "    i = len(arr) - 1\n",
    "    while i >= 0:\n",
    "        temp.append(arr[i])\n",
    "        i -= 1\n",
    "    return temp\n",
    "    "
   ]
  },
  {
   "cell_type": "code",
   "execution_count": 4,
   "metadata": {},
   "outputs": [
    {
     "name": "stdout",
     "output_type": "stream",
     "text": [
      "[5, 4, 3, 2, 1]\n"
     ]
    }
   ],
   "source": [
    "a = [ 1, 2, 3, 4, 5]\n",
    "b = reverse(a, len(a))\n",
    "print(b)"
   ]
  },
  {
   "cell_type": "code",
   "execution_count": 6,
   "metadata": {},
   "outputs": [],
   "source": [
    "def reverse(arr, size): # inplace\n",
    "    #temp = [ item for item in arr] # copy # T(n) = O(n), S(n) = O(n)\n",
    "    temp = arr[:] # copy O(n), \n",
    "    i = 0\n",
    "    while i < size: # O(n)\n",
    "        arr[i] = temp[(size-1)-i]\n",
    "        i += 1\n",
    "    "
   ]
  },
  {
   "cell_type": "markdown",
   "metadata": {},
   "source": [
    "    x, y = y, x # swap in python\n",
    "    \n",
    "    t = x\n",
    "    x = y\n",
    "    y = t"
   ]
  },
  {
   "cell_type": "markdown",
   "metadata": {},
   "source": [
    "actual run time \n",
    "\n",
    "    2n > n > n/2\n",
    "   \n",
    "Big oh \n",
    "\n",
    "    O(2n) = O(n) = O(n/2) ==> O(n)"
   ]
  },
  {
   "cell_type": "code",
   "execution_count": 14,
   "metadata": {},
   "outputs": [],
   "source": [
    "def reverse(arr, size):\n",
    "    i = 0\n",
    "    mid = size // 2 # mid point\n",
    "    while i < mid:\n",
    "        arr[i], arr[(size-1)-i] = arr[(size-1)-i],  arr[i] # S(n) = O(1), T(n) = O(n)\n",
    "        i += 1\n",
    "        \n",
    "        "
   ]
  },
  {
   "cell_type": "code",
   "execution_count": 19,
   "metadata": {},
   "outputs": [
    {
     "name": "stdout",
     "output_type": "stream",
     "text": [
      "[1, 2, 3, 4, 5, 6, 7, 8, 9, 10, 11, 12, 13] 1490202804608\n",
      "[13, 12, 11, 10, 9, 8, 7, 6, 5, 4, 3, 2, 1] 1490202804608\n"
     ]
    }
   ],
   "source": [
    "a = [ 1, 2, 3, 4, 5, 6, 7, 8, 9, 10, 11, 12, 13]\n",
    "print(a, id(a))\n",
    "reverse(a, len(a))\n",
    "print(a, id(a))"
   ]
  },
  {
   "cell_type": "code",
   "execution_count": null,
   "metadata": {},
   "outputs": [],
   "source": []
  },
  {
   "cell_type": "markdown",
   "metadata": {},
   "source": [
    "## LinkedList"
   ]
  },
  {
   "cell_type": "markdown",
   "metadata": {},
   "source": [
    "#### Deletion in Link List"
   ]
  },
  {
   "cell_type": "code",
   "execution_count": null,
   "metadata": {},
   "outputs": [],
   "source": []
  },
  {
   "cell_type": "code",
   "execution_count": null,
   "metadata": {},
   "outputs": [],
   "source": []
  },
  {
   "cell_type": "code",
   "execution_count": null,
   "metadata": {},
   "outputs": [],
   "source": []
  },
  {
   "cell_type": "code",
   "execution_count": null,
   "metadata": {},
   "outputs": [],
   "source": []
  },
  {
   "cell_type": "code",
   "execution_count": null,
   "metadata": {},
   "outputs": [],
   "source": []
  }
 ],
 "metadata": {
  "kernelspec": {
   "display_name": "Python 3",
   "language": "python",
   "name": "python3"
  },
  "language_info": {
   "codemirror_mode": {
    "name": "ipython",
    "version": 3
   },
   "file_extension": ".py",
   "mimetype": "text/x-python",
   "name": "python",
   "nbconvert_exporter": "python",
   "pygments_lexer": "ipython3",
   "version": "3.8.3"
  }
 },
 "nbformat": 4,
 "nbformat_minor": 4
}
