{
 "cells": [
  {
   "cell_type": "markdown",
   "metadata": {},
   "source": [
    "## Insertion Sort "
   ]
  },
  {
   "cell_type": "markdown",
   "metadata": {},
   "source": [
    "    we pick an element and we set that element to it's preferred location "
   ]
  },
  {
   "cell_type": "code",
   "execution_count": 32,
   "metadata": {},
   "outputs": [
    {
     "name": "stdout",
     "output_type": "stream",
     "text": [
      "[10, 20, 30, 15, 6, 9, 8, 25]\n",
      "[6, 10, 20, 30, 15, 9, 8, 25]\n"
     ]
    }
   ],
   "source": [
    "def insert_item(arr, i):\n",
    "    while i > 0:\n",
    "        if arr[i-1] < arr[i]:\n",
    "            break\n",
    "        else:\n",
    "            arr[i], arr[i-1] = arr[i-1], arr[i] # shift\n",
    "        i = i - 1\n",
    "        \n",
    "arr = [ 10, 20, 30, 15, 6, 9, 8, 25 ]\n",
    "print(arr)\n",
    "insert_item(arr, 4)\n",
    "print(arr)"
   ]
  },
  {
   "cell_type": "code",
   "execution_count": 33,
   "metadata": {},
   "outputs": [
    {
     "name": "stdout",
     "output_type": "stream",
     "text": [
      "[10, 20, 30, 15, 6, 9, 8, 25]\n",
      "[6, 8, 9, 10, 15, 20, 25, 30]\n"
     ]
    }
   ],
   "source": [
    "def insert_item(arr, i):\n",
    "    while i > 0:\n",
    "        if arr[i-1] < arr[i]:\n",
    "            break\n",
    "        else:\n",
    "            arr[i], arr[i-1] = arr[i-1], arr[i] # shift\n",
    "        i = i - 1\n",
    "        \n",
    "def insertion_sort(arr, n):\n",
    "    for i in range(1, n):\n",
    "        insert_item(arr, i)\n",
    "        \n",
    "arr = [ 10, 20, 30, 15, 6, 9, 8, 25 ] # O(n), O(n^2)\n",
    "print(arr)\n",
    "insertion_sort(arr, len(arr))\n",
    "print(arr)"
   ]
  },
  {
   "cell_type": "code",
   "execution_count": 36,
   "metadata": {},
   "outputs": [
    {
     "name": "stdout",
     "output_type": "stream",
     "text": [
      "[29, 27, 11, 11, 44, 6, 72, 75, 11, 65, 79, 92, 47, 6, 53, 4, 75, 93, 61]\n",
      "[4, 6, 6, 11, 11, 11, 27, 29, 44, 47, 53, 61, 65, 72, 75, 75, 79, 92, 93]\n",
      "------------------------------------------------------------\n",
      "[3, 5, 32, 86, 89, 77, 70, 47, 24, 36, 54, 73, 49, 69, 42, 37, 96]\n",
      "[3, 5, 24, 32, 36, 37, 42, 47, 49, 54, 69, 70, 73, 77, 86, 89, 96]\n",
      "------------------------------------------------------------\n",
      "[14, 39, 59, 50, 59, 56, 73, 91, 76, 92, 100, 50]\n",
      "[14, 39, 50, 50, 56, 59, 59, 73, 76, 91, 92, 100]\n",
      "------------------------------------------------------------\n",
      "[59, 41, 22, 7, 58, 52, 35, 57, 100, 11, 52, 41, 20, 27, 5, 21]\n",
      "[5, 7, 11, 20, 21, 22, 27, 35, 41, 41, 52, 52, 57, 58, 59, 100]\n",
      "------------------------------------------------------------\n",
      "[45, 82, 77, 19, 36, 32, 3, 74, 94, 30, 51, 93, 66, 36, 90, 98, 7, 78]\n",
      "[3, 7, 19, 30, 32, 36, 36, 45, 51, 66, 74, 77, 78, 82, 90, 93, 94, 98]\n",
      "------------------------------------------------------------\n",
      "[46, 18, 49, 38, 16, 69, 22, 86, 32, 77, 10, 28, 71, 42, 45, 85, 31]\n",
      "[10, 16, 18, 22, 28, 31, 32, 38, 42, 45, 46, 49, 69, 71, 77, 85, 86]\n",
      "------------------------------------------------------------\n",
      "[33, 94, 99, 67, 96, 97, 2, 96, 72, 52, 27, 15, 22, 59, 76, 11, 18]\n",
      "[2, 11, 15, 18, 22, 27, 33, 52, 59, 67, 72, 76, 94, 96, 96, 97, 99]\n",
      "------------------------------------------------------------\n",
      "[41, 70, 46, 84, 57, 18, 66, 89, 63, 37, 93, 53, 14, 95, 53, 77]\n",
      "[14, 18, 37, 41, 46, 53, 53, 57, 63, 66, 70, 77, 84, 89, 93, 95]\n",
      "------------------------------------------------------------\n",
      "[78, 91, 15, 4, 16, 74, 26, 64, 49, 38, 31]\n",
      "[4, 15, 16, 26, 31, 38, 49, 64, 74, 78, 91]\n",
      "------------------------------------------------------------\n",
      "[5, 79, 52, 16, 52, 14, 97, 39, 27, 86, 47, 93]\n",
      "[5, 14, 16, 27, 39, 47, 52, 52, 79, 86, 93, 97]\n",
      "------------------------------------------------------------\n"
     ]
    }
   ],
   "source": [
    "import random\n",
    "\n",
    "for _ in range(10):\n",
    "    arr = [ random.randint(1, 100) for _ in range(random.randint(10, 20))]\n",
    "    print(arr)\n",
    "    insertion_sort(arr, len(arr))\n",
    "    print(arr)\n",
    "    print('--'*30)"
   ]
  },
  {
   "cell_type": "code",
   "execution_count": 37,
   "metadata": {},
   "outputs": [],
   "source": [
    "arr = [ 5, 3, 6, 7, 4, 9, 2, 10]\n"
   ]
  },
  {
   "cell_type": "code",
   "execution_count": 39,
   "metadata": {},
   "outputs": [
    {
     "name": "stdout",
     "output_type": "stream",
     "text": [
      "[5, 3, 6, 7, 4, 9, 2, 10]\n",
      "[2, 3, 4, 5, 6, 7, 9, 10]\n"
     ]
    }
   ],
   "source": [
    "def insertion_sort(arr, n):\n",
    "    for i in range(1, n):\n",
    "        item = arr[i] # item = 3\n",
    "        j = i - 1\n",
    "        while j >= 0 and item < arr[j]:\n",
    "            arr[j+1] = arr[j]\n",
    "            j = j - 1\n",
    "        arr[j+1] = item\n",
    "            \n",
    "arr = [ 5, 3, 6, 7, 4, 9, 2, 10]\n",
    "print(arr)\n",
    "insertion_sort(arr, len(arr))\n",
    "print(arr)"
   ]
  },
  {
   "cell_type": "code",
   "execution_count": 47,
   "metadata": {},
   "outputs": [
    {
     "name": "stdout",
     "output_type": "stream",
     "text": [
      "[5, 3, 6, 7, 4, 9, 2, 10]\n",
      "[2, 3, 4, 5, 6, 7, 9, 10]\n"
     ]
    }
   ],
   "source": [
    "def insertion_sort(arr, n):\n",
    "    for i in range(1, n):\n",
    "        item = arr[i] # item = 3\n",
    "        i = i - 1\n",
    "        while i >= 0 and item < arr[i]:\n",
    "            arr[i+1] = arr[i]\n",
    "            i = i - 1\n",
    "        arr[i+1] = item\n",
    "            \n",
    "arr = [ 5, 3, 6, 7, 4, 9, 2, 10]\n",
    "print(arr)\n",
    "insertion_sort(arr, len(arr))\n",
    "print(arr)"
   ]
  },
  {
   "cell_type": "code",
   "execution_count": 49,
   "metadata": {},
   "outputs": [
    {
     "name": "stdout",
     "output_type": "stream",
     "text": [
      "[17, 18, 24, 48, 50, 29, 38, 34, 29, 18]\n",
      "[17, 18, 18, 24, 29, 29, 34, 38, 48, 50]\n",
      "Test Case 1 Passed\n",
      "[48, 37, 42, 44, 27, 50, 34, 25, 38, 45]\n",
      "[25, 27, 34, 37, 38, 42, 44, 45, 48, 50]\n",
      "Test Case 2 Passed\n",
      "[23, 11, 33, 16, 29, 16, 43, 39, 38, 18]\n",
      "[11, 16, 16, 18, 23, 29, 33, 38, 39, 43]\n",
      "Test Case 3 Passed\n",
      "[45, 24, 25, 10, 22, 32, 38, 46, 38, 10]\n",
      "[10, 10, 22, 24, 25, 32, 38, 38, 45, 46]\n",
      "Test Case 4 Passed\n",
      "[26, 15, 11, 26, 32, 46, 16, 42, 43, 18]\n",
      "[11, 15, 16, 18, 26, 26, 32, 42, 43, 46]\n",
      "Test Case 5 Passed\n",
      "[46, 36, 27, 26, 30, 13, 31, 27, 17, 27]\n",
      "[13, 17, 26, 27, 27, 27, 30, 31, 36, 46]\n",
      "Test Case 6 Passed\n",
      "[19, 27, 42, 44, 44, 41, 35, 11, 14, 10]\n",
      "[10, 11, 14, 19, 27, 35, 41, 42, 44, 44]\n",
      "Test Case 7 Passed\n",
      "[38, 20, 32, 47, 12, 18, 25, 14, 26, 17]\n",
      "[12, 14, 17, 18, 20, 25, 26, 32, 38, 47]\n",
      "Test Case 8 Passed\n",
      "[32, 29, 28, 11, 37, 34, 32, 24, 11, 32]\n",
      "[11, 11, 24, 28, 29, 32, 32, 32, 34, 37]\n",
      "Test Case 9 Passed\n",
      "[46, 27, 24, 47, 49, 17, 22, 26, 19, 20]\n",
      "[17, 19, 20, 22, 24, 26, 27, 46, 47, 49]\n",
      "Test Case 10 Passed\n"
     ]
    }
   ],
   "source": [
    "import random\n",
    "\n",
    "for _ in range(10):\n",
    "    arr = [ random.randint(10, 50) for _ in range(10)]\n",
    "    err = arr.copy()\n",
    "    org = arr.copy()\n",
    "    org.sort()\n",
    "    print(arr)\n",
    "    insertion_sort(arr, len(arr))\n",
    "    print(arr)\n",
    "    if org == arr:\n",
    "        print(f\"Test Case {_+1} Passed\")\n",
    "    else:\n",
    "        raise StopIteration(f\"Test Case{_+1} has Failed for arr {err}\")"
   ]
  },
  {
   "cell_type": "markdown",
   "metadata": {},
   "source": [
    "### Quick Sort "
   ]
  },
  {
   "cell_type": "markdown",
   "metadata": {},
   "source": [
    "    Write a code to set an element in array such that all elements to it's left are less than to that element are all element to it's right are greater than to that element "
   ]
  },
  {
   "cell_type": "markdown",
   "metadata": {},
   "source": [
    "##### Partition "
   ]
  },
  {
   "cell_type": "code",
   "execution_count": 50,
   "metadata": {},
   "outputs": [],
   "source": [
    "arr = [ 5, 8, 3, 9, 2, 6, 4, 7, 10, 1]"
   ]
  },
  {
   "cell_type": "code",
   "execution_count": 51,
   "metadata": {},
   "outputs": [
    {
     "name": "stdout",
     "output_type": "stream",
     "text": [
      "5\n"
     ]
    }
   ],
   "source": [
    "pivot = arr[0]\n",
    "print(pivot)"
   ]
  },
  {
   "cell_type": "code",
   "execution_count": 53,
   "metadata": {},
   "outputs": [],
   "source": [
    "arr = [ 5, 8, 3, 9, 2, 6, 4, 7, 10, 1]\n",
    "#"
   ]
  },
  {
   "cell_type": "code",
   "execution_count": 55,
   "metadata": {},
   "outputs": [],
   "source": [
    "def partition(arr, start, end):\n",
    "    pivot = arr[start] # \n",
    "    arr.sort()\n",
    "    i = arr.index(pivot)\n",
    "    return i\n",
    "    "
   ]
  },
  {
   "cell_type": "code",
   "execution_count": 56,
   "metadata": {},
   "outputs": [],
   "source": [
    "arr = [ 5, 8, 3, 9, 2, 6, 4, 7, 10, 1]\n",
    "pi = partition(arr, 0, len(arr))\n"
   ]
  },
  {
   "cell_type": "code",
   "execution_count": 57,
   "metadata": {},
   "outputs": [
    {
     "name": "stdout",
     "output_type": "stream",
     "text": [
      "[1, 2, 3, 4, 5, 6, 7, 8, 9, 10]\n",
      "4\n"
     ]
    }
   ],
   "source": [
    "print(arr)\n",
    "print(pi)"
   ]
  },
  {
   "cell_type": "markdown",
   "metadata": {},
   "source": [
    " Tony Hoare \n",
    "    \n",
    " Lomuto partition "
   ]
  },
  {
   "cell_type": "markdown",
   "metadata": {},
   "source": [
    "## Hoare Partition Scheme"
   ]
  },
  {
   "cell_type": "code",
   "execution_count": 65,
   "metadata": {},
   "outputs": [],
   "source": [
    "def partition(array, start, end):\n",
    "    pivot_index = start\n",
    "    pivot = array[pivot_index]\n",
    "    start = start + 1\n",
    "    while start <= end:\n",
    "        while array[start] <= pivot:\n",
    "            start = start + 1\n",
    "        while array[end] > pivot:\n",
    "            end = end - 1\n",
    "        if start < end:\n",
    "            array[start], array[end] = array[end], array[start]\n",
    "    array[pivot_index], array[end] = array[end], array[pivot_index]\n",
    "    return end"
   ]
  },
  {
   "cell_type": "code",
   "execution_count": 67,
   "metadata": {},
   "outputs": [
    {
     "name": "stdout",
     "output_type": "stream",
     "text": [
      "[5, 3, 6, 4, 8, 2, 9, 1, 10]\n",
      "[2, 3, 1, 4, 5, 8, 9, 6, 10]\n"
     ]
    },
    {
     "data": {
      "text/plain": [
       "4"
      ]
     },
     "execution_count": 67,
     "metadata": {},
     "output_type": "execute_result"
    }
   ],
   "source": [
    "arr = [ 5, 3, 6, 4, 8, 2, 9, 1, 10]\n",
    "print(arr)\n",
    "pi = partition(arr, 0, len(arr)-1)\n",
    "print(arr)\n",
    "pi"
   ]
  },
  {
   "cell_type": "code",
   "execution_count": 94,
   "metadata": {},
   "outputs": [],
   "source": [
    "def partition(array, start, end):\n",
    "    pivot_index = start\n",
    "    pivot = array[pivot_index]\n",
    "    start = start + 1\n",
    "    while start <= end:\n",
    "        while start < len(array) and array[start] <= pivot:\n",
    "            start = start + 1\n",
    "        while array[end] > pivot:\n",
    "            end = end - 1\n",
    "        if start < end:\n",
    "            array[start], array[end] = array[end], array[start]\n",
    "    array[pivot_index], array[end] = array[end], array[pivot_index]\n",
    "    return end\n",
    "\n",
    "def quick_sort(array, start, end):\n",
    "    if start < end:\n",
    "        pivot_index = partition(array, start, end)\n",
    "        quick_sort(array, start, pivot_index - 1) # left\n",
    "        quick_sort(array, pivot_index + 1, end) # right\n",
    "        \n",
    "# T(n) = 2T(n/2) + C --> log(n) --> T(n) = nlog(n)"
   ]
  },
  {
   "cell_type": "code",
   "execution_count": 95,
   "metadata": {},
   "outputs": [
    {
     "name": "stdout",
     "output_type": "stream",
     "text": [
      "Test Case 1 has passed\n",
      "Test Case 2 has passed\n",
      "Test Case 3 has passed\n",
      "Test Case 4 has passed\n",
      "Test Case 5 has passed\n"
     ]
    }
   ],
   "source": [
    "for _ in range(5):\n",
    "    arr = [ random.randint(1, 500000) for i in range(200)]\n",
    "    other = arr[:]\n",
    "    org = arr[:]\n",
    "    org.sort()\n",
    "    #print(arr)\n",
    "    quick_sort(arr, 0, len(arr)-1)\n",
    "    #print(arr)\n",
    "    #print(\"__\"*30)\n",
    "    if arr == org:\n",
    "        print(f\"Test Case {_+1} has passed\")\n",
    "    else:\n",
    "        raise AssertionError(f\"Test CAse {_+1} has failed with array {other}\")"
   ]
  },
  {
   "cell_type": "code",
   "execution_count": 96,
   "metadata": {},
   "outputs": [],
   "source": [
    "arr = [ 10, 50, 30, 40, 60, 90, 100, 80, 70]"
   ]
  },
  {
   "cell_type": "code",
   "execution_count": 98,
   "metadata": {},
   "outputs": [],
   "source": [
    "quick_sort(arr, 0, len(arr)-1)"
   ]
  },
  {
   "cell_type": "code",
   "execution_count": 99,
   "metadata": {},
   "outputs": [
    {
     "data": {
      "text/plain": [
       "[10, 30, 40, 50, 60, 70, 80, 90, 100]"
      ]
     },
     "execution_count": 99,
     "metadata": {},
     "output_type": "execute_result"
    }
   ],
   "source": [
    "arr"
   ]
  },
  {
   "cell_type": "markdown",
   "metadata": {},
   "source": [
    "### lomuto Partion Algorithm"
   ]
  },
  {
   "cell_type": "code",
   "execution_count": null,
   "metadata": {},
   "outputs": [],
   "source": []
  }
 ],
 "metadata": {
  "kernelspec": {
   "display_name": "Python 3",
   "language": "python",
   "name": "python3"
  },
  "language_info": {
   "codemirror_mode": {
    "name": "ipython",
    "version": 3
   },
   "file_extension": ".py",
   "mimetype": "text/x-python",
   "name": "python",
   "nbconvert_exporter": "python",
   "pygments_lexer": "ipython3",
   "version": "3.8.3"
  }
 },
 "nbformat": 4,
 "nbformat_minor": 4
}
