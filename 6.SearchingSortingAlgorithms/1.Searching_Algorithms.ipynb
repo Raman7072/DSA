{
 "cells": [
  {
   "cell_type": "markdown",
   "metadata": {},
   "source": [
    "## Searching Algorithms\n",
    "\n",
    "    Linear Search\n",
    "    \n",
    "    Binary Search"
   ]
  },
  {
   "cell_type": "code",
   "execution_count": 1,
   "metadata": {},
   "outputs": [],
   "source": [
    "import random"
   ]
  },
  {
   "cell_type": "code",
   "execution_count": 2,
   "metadata": {},
   "outputs": [],
   "source": [
    "arr = [ random.randint(10, 50) for _ in range(10) ]"
   ]
  },
  {
   "cell_type": "code",
   "execution_count": 3,
   "metadata": {},
   "outputs": [
    {
     "name": "stdout",
     "output_type": "stream",
     "text": [
      "[38, 33, 40, 44, 32, 50, 30, 21, 27, 28]\n"
     ]
    }
   ],
   "source": [
    "print(arr)"
   ]
  },
  {
   "cell_type": "markdown",
   "metadata": {},
   "source": [
    "given a list or arr of elements -> arr\n",
    "no of elements in arr are -> n \n",
    "indexes to accessing elements -> 0, 1, 2, 3, ...., n-1\n",
    "\n",
    "### Linear Search Algorithm\n",
    "\n",
    "    step-1: set i = 0\n",
    "    step-2: if arr[i] == key then return i \n",
    "    step-3: increment i by 1\n",
    "    step-4: repeat step 2 & 3 till i < n\n",
    "    step-5: stop\n",
    "    "
   ]
  },
  {
   "cell_type": "markdown",
   "metadata": {},
   "source": [
    "LinearSearch(arr, size, key)\n",
    "\n",
    "    for (i = 0 ; i < size; i++)\n",
    "        if arr[i] == key\n",
    "        than\n",
    "            return i\n",
    "        i = i + 1\n",
    "    return -1"
   ]
  },
  {
   "cell_type": "code",
   "execution_count": 6,
   "metadata": {},
   "outputs": [],
   "source": [
    "def linear_search(arr, size, key):\n",
    "    for i in range(0, size):\n",
    "        if arr[i] == key:\n",
    "            return i\n",
    "    return -1"
   ]
  },
  {
   "cell_type": "code",
   "execution_count": 5,
   "metadata": {},
   "outputs": [
    {
     "data": {
      "text/plain": [
       "[38, 33, 40, 44, 32, 50, 30, 21, 27, 28]"
      ]
     },
     "execution_count": 5,
     "metadata": {},
     "output_type": "execute_result"
    }
   ],
   "source": [
    "arr"
   ]
  },
  {
   "cell_type": "code",
   "execution_count": 8,
   "metadata": {},
   "outputs": [
    {
     "data": {
      "text/plain": [
       "6"
      ]
     },
     "execution_count": 8,
     "metadata": {},
     "output_type": "execute_result"
    }
   ],
   "source": [
    "linear_search(arr, len(arr), 30)"
   ]
  },
  {
   "cell_type": "code",
   "execution_count": 9,
   "metadata": {},
   "outputs": [
    {
     "data": {
      "text/plain": [
       "-1"
      ]
     },
     "execution_count": 9,
     "metadata": {},
     "output_type": "execute_result"
    }
   ],
   "source": [
    "linear_search(arr, len(arr), 5)"
   ]
  },
  {
   "cell_type": "code",
   "execution_count": 10,
   "metadata": {},
   "outputs": [],
   "source": [
    "def linear_search(head, key):\n",
    "    temp = head\n",
    "    while temp is not None:\n",
    "        if temp.data == key:\n",
    "            return temp\n",
    "        temp = temp.next\n",
    "    return None"
   ]
  },
  {
   "cell_type": "markdown",
   "metadata": {},
   "source": [
    "### O(n)"
   ]
  },
  {
   "cell_type": "markdown",
   "metadata": {},
   "source": [
    "### Binary Search "
   ]
  },
  {
   "cell_type": "markdown",
   "metadata": {},
   "source": [
    "    note: array needs to be sorted"
   ]
  },
  {
   "cell_type": "code",
   "execution_count": 26,
   "metadata": {},
   "outputs": [
    {
     "data": {
      "text/plain": [
       "32768"
      ]
     },
     "execution_count": 26,
     "metadata": {},
     "output_type": "execute_result"
    }
   ],
   "source": [
    "2**15"
   ]
  },
  {
   "cell_type": "code",
   "execution_count": 27,
   "metadata": {},
   "outputs": [
    {
     "data": {
      "text/plain": [
       "49999"
      ]
     },
     "execution_count": 27,
     "metadata": {},
     "output_type": "execute_result"
    }
   ],
   "source": [
    "#int low, high, mid;\n",
    "# -32768 <= mid < 32768\n",
    "#30000\n",
    "\n",
    "#0-29999\n",
    "\n",
    "20000 + 29999  # "
   ]
  },
  {
   "cell_type": "code",
   "execution_count": null,
   "metadata": {},
   "outputs": [],
   "source": []
  },
  {
   "cell_type": "markdown",
   "metadata": {},
   "source": [
    "    low + high "
   ]
  },
  {
   "cell_type": "code",
   "execution_count": 11,
   "metadata": {},
   "outputs": [],
   "source": [
    "def binary_search(arr, low, high, key):\n",
    "    if low > high:\n",
    "        return -1\n",
    "    mid = (low + high) // 2\n",
    "    \n",
    "    if arr[mid] > key:\n",
    "        return binary_search(arr, low, mid-1, key)\n",
    "    elif arr[mid] < key:\n",
    "        return binary_search(arr, mid+1, high, key)\n",
    "    else:\n",
    "        return mid\n",
    "        \n",
    "# T(n) = C + T(n/2)\n",
    "# T(n) = O(log(n))"
   ]
  },
  {
   "cell_type": "code",
   "execution_count": 17,
   "metadata": {},
   "outputs": [],
   "source": [
    "arr = [ 10, 20, 30, 40, 50, 60, 70, 80,  90, 100]\n",
    "#        0,  1,  2, 3,  4,   5,  6,  7,  8"
   ]
  },
  {
   "cell_type": "code",
   "execution_count": 18,
   "metadata": {},
   "outputs": [
    {
     "name": "stdout",
     "output_type": "stream",
     "text": [
      "10 --> 0\n",
      "20 --> 1\n",
      "30 --> 2\n",
      "40 --> 3\n",
      "50 --> 4\n",
      "60 --> 5\n",
      "70 --> 6\n",
      "80 --> 7\n",
      "90 --> 8\n",
      "100 --> 9\n"
     ]
    }
   ],
   "source": [
    "arr = [ 10, 20, 30, 40, 50, 60, 70, 80,  90, 100]\n",
    "#        0,  1,  2, 3,  4,   5,  6,  7,  8\n",
    "for key in arr:\n",
    "    print(key, '-->', binary_search(arr, 0, len(arr)-1, key))"
   ]
  },
  {
   "cell_type": "code",
   "execution_count": 22,
   "metadata": {},
   "outputs": [
    {
     "data": {
      "text/plain": [
       "-1"
      ]
     },
     "execution_count": 22,
     "metadata": {},
     "output_type": "execute_result"
    }
   ],
   "source": [
    "binary_search(arr, 0, len(arr)-1, 1)"
   ]
  },
  {
   "cell_type": "code",
   "execution_count": 30,
   "metadata": {},
   "outputs": [],
   "source": [
    "def binary_search(arr, low, high, key):\n",
    "    if low > high:\n",
    "        return -1\n",
    "    \n",
    "    mid = low + ((high - low) // 2 )\n",
    "    \n",
    "    if arr[mid] > key:\n",
    "        return binary_search(arr, low, mid-1, key)\n",
    "    elif arr[mid] < key:\n",
    "        return binary_search(arr, mid+1, high, key)\n",
    "    else:\n",
    "        return mid\n",
    "        \n",
    "# T(n) = C + T(n/2)\n",
    "# T(n) = O(log(n))"
   ]
  },
  {
   "cell_type": "code",
   "execution_count": 31,
   "metadata": {},
   "outputs": [
    {
     "name": "stdout",
     "output_type": "stream",
     "text": [
      "10 --> 0\n",
      "20 --> 1\n",
      "30 --> 2\n",
      "40 --> 3\n",
      "50 --> 4\n",
      "60 --> 5\n",
      "70 --> 6\n",
      "80 --> 7\n",
      "90 --> 8\n",
      "100 --> 9\n"
     ]
    }
   ],
   "source": [
    "arr = [ 10, 20, 30, 40, 50, 60, 70, 80,  90, 100]\n",
    "#        0,  1,  2, 3,  4,   5,  6,  7,  8\n",
    "for key in arr:\n",
    "    print(key, '-->', binary_search(arr, 0, len(arr)-1, key))"
   ]
  },
  {
   "cell_type": "code",
   "execution_count": 32,
   "metadata": {},
   "outputs": [
    {
     "data": {
      "text/plain": [
       "-1"
      ]
     },
     "execution_count": 32,
     "metadata": {},
     "output_type": "execute_result"
    }
   ],
   "source": [
    " binary_search(arr, 0, len(arr)-1, 200)"
   ]
  },
  {
   "cell_type": "markdown",
   "metadata": {},
   "source": [
    "### Itertative"
   ]
  },
  {
   "cell_type": "code",
   "execution_count": 36,
   "metadata": {},
   "outputs": [],
   "source": [
    "def binary_search(arr, key):\n",
    "    low = 0\n",
    "    high = len(arr) - 1\n",
    "    while low <= high:\n",
    "        mid = low + (high-low)//2\n",
    "        if arr[mid] == key:\n",
    "            return mid\n",
    "        elif arr[mid] > key:\n",
    "            high = mid - 1\n",
    "        else:\n",
    "            low = mid + 1\n",
    "    return -1"
   ]
  },
  {
   "cell_type": "code",
   "execution_count": 38,
   "metadata": {},
   "outputs": [
    {
     "name": "stdout",
     "output_type": "stream",
     "text": [
      "10 --> 0\n",
      "20 --> 1\n",
      "30 --> 2\n",
      "40 --> 3\n",
      "50 --> 4\n",
      "60 --> 5\n",
      "70 --> 6\n",
      "80 --> 7\n",
      "90 --> 8\n",
      "100 --> 9\n"
     ]
    }
   ],
   "source": [
    "arr = [ 10, 20, 30, 40, 50, 60, 70, 80,  90, 100]\n",
    "#        0,  1,  2, 3,  4,   5,  6,  7,  8\n",
    "for key in arr:\n",
    "    print(key, '-->', binary_search(arr, key))"
   ]
  },
  {
   "cell_type": "code",
   "execution_count": 39,
   "metadata": {},
   "outputs": [
    {
     "data": {
      "text/plain": [
       "-1"
      ]
     },
     "execution_count": 39,
     "metadata": {},
     "output_type": "execute_result"
    }
   ],
   "source": [
    "binary_search(arr, 1)"
   ]
  },
  {
   "cell_type": "code",
   "execution_count": 40,
   "metadata": {},
   "outputs": [
    {
     "data": {
      "text/plain": [
       "-1"
      ]
     },
     "execution_count": 40,
     "metadata": {},
     "output_type": "execute_result"
    }
   ],
   "source": [
    "binary_search(arr, 200)"
   ]
  },
  {
   "cell_type": "markdown",
   "metadata": {},
   "source": [
    "    mergesort()\n",
    "\n",
    "    mergesort(l)\n",
    "    mergesort(r)\n",
    "    merge(l, r)"
   ]
  },
  {
   "cell_type": "markdown",
   "metadata": {},
   "source": [
    "T(n) = 2T(n/2) + c"
   ]
  },
  {
   "cell_type": "markdown",
   "metadata": {},
   "source": [
    "### Sorting Algorithms\n",
    "\n",
    "    Bubble sort\n",
    "    \n",
    "    Insertion Sort\n",
    "    \n",
    "    Selection Sort \n",
    "    \n",
    "    Quick Sort\n",
    "    \n",
    "    Merge Sort\n",
    "    \n",
    "    "
   ]
  },
  {
   "cell_type": "markdown",
   "metadata": {},
   "source": [
    "    internship"
   ]
  },
  {
   "cell_type": "markdown",
   "metadata": {},
   "source": [
    "    recommandation\n",
    "    \n",
    "        Data Structure\n",
    "        \n",
    "        ML / DS \n",
    "        \n",
    "        "
   ]
  },
  {
   "cell_type": "code",
   "execution_count": null,
   "metadata": {},
   "outputs": [],
   "source": []
  }
 ],
 "metadata": {
  "kernelspec": {
   "display_name": "Python 3",
   "language": "python",
   "name": "python3"
  },
  "language_info": {
   "codemirror_mode": {
    "name": "ipython",
    "version": 3
   },
   "file_extension": ".py",
   "mimetype": "text/x-python",
   "name": "python",
   "nbconvert_exporter": "python",
   "pygments_lexer": "ipython3",
   "version": "3.8.3"
  }
 },
 "nbformat": 4,
 "nbformat_minor": 4
}
