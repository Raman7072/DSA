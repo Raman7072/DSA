{
 "cells": [
  {
   "cell_type": "markdown",
   "metadata": {},
   "source": [
    "Problem statement 1\n",
    "\n",
    "Given 2 strings to see if they are siamese twins .A siamese twins is when 2 strings can be written using exact same letters (so you can just rearrange the letters to get different phrase or word) For eg : \"public relations\" is a siamese twins of \"crap built on lies\".\n",
    "\n",
    "\n",
    "Problem statement 2\n",
    "\n",
    "Print the value of Pi with N numbers after decimal, where N is passed as a parameter with the script\n",
    "\n",
    "print_pi(4) -> 3.1423\n",
    "\n",
    "Problem statement 3\n",
    "\n",
    "    print first repeating charcter given in an string \n",
    "    \n",
    "    eg. Input -> Hello World\n",
    "        Output -> l\n",
    "        \n",
    "    print first repeating item in an array \n",
    "    \n",
    "       arr =  [ 5, 3, 1, 5, 3 ]\n",
    "       output -> 5\n",
    "        \n",
    "        constraint 1 <= item <= len(arr)"
   ]
  },
  {
   "cell_type": "code",
   "execution_count": 2,
   "metadata": {},
   "outputs": [],
   "source": [
    "chars = [ char for char in list(\"public relations\") if char != ' ' ]"
   ]
  },
  {
   "cell_type": "code",
   "execution_count": 5,
   "metadata": {},
   "outputs": [],
   "source": [
    "import random\n",
    "random.shuffle(chars)"
   ]
  },
  {
   "cell_type": "code",
   "execution_count": 6,
   "metadata": {},
   "outputs": [
    {
     "name": "stdout",
     "output_type": "stream",
     "text": [
      "['e', 's', 'n', 'b', 'i', 'l', 'a', 'i', 'c', 'u', 't', 'o', 'l', 'p', 'r']\n"
     ]
    }
   ],
   "source": [
    "print(chars)"
   ]
  },
  {
   "cell_type": "markdown",
   "metadata": {},
   "source": [
    " \"public relations\" is a siamese twins of \"crap built on lies\"."
   ]
  },
  {
   "cell_type": "markdown",
   "metadata": {},
   "source": [
    "    implement swapcase function from scratch"
   ]
  },
  {
   "cell_type": "code",
   "execution_count": 18,
   "metadata": {},
   "outputs": [
    {
     "name": "stdout",
     "output_type": "stream",
     "text": [
      "['s', 't', 'r', 'i', 'n', 'g', 'c', 'h', 'a', 'r', 's']\n"
     ]
    }
   ],
   "source": [
    "arr = []\n",
    "for char in 'string chars':\n",
    "    if char != ' ' and char != '\\n':\n",
    "        arr.append(char)\n",
    "        \n",
    "        \n",
    "print(arr)"
   ]
  },
  {
   "cell_type": "code",
   "execution_count": 19,
   "metadata": {},
   "outputs": [
    {
     "data": {
      "text/plain": [
       "['h',\n",
       " 'e',\n",
       " 'l',\n",
       " 'l',\n",
       " 'o',\n",
       " 'w',\n",
       " 'o',\n",
       " 'r',\n",
       " 'l',\n",
       " 'd',\n",
       " 'h',\n",
       " 'o',\n",
       " 'w',\n",
       " 'a',\n",
       " 'r',\n",
       " 'e',\n",
       " 'y',\n",
       " 'o',\n",
       " 'u']"
      ]
     },
     "execution_count": 19,
     "metadata": {},
     "output_type": "execute_result"
    }
   ],
   "source": [
    "list(\"hello world how are you\".lower().replace(' ', ''))"
   ]
  },
  {
   "cell_type": "markdown",
   "metadata": {},
   "source": [
    "    dict -> hash map -> look up -> O(1)\n",
    "    \n",
    "    array -> list    -> look up -> O(n)\n"
   ]
  },
  {
   "cell_type": "code",
   "execution_count": 31,
   "metadata": {},
   "outputs": [],
   "source": [
    "def siamese(string1, string2):\n",
    "    array1 = list(string1.lower().replace(' ', ''))\n",
    "    array2 = list(string2.lower().replace(' ', ''))\n",
    "    if len(array1) == len(array2):\n",
    "        for char in array2: # O(n)\n",
    "            if char in array1: \n",
    "                array1.remove(char)\n",
    "            else:\n",
    "                return False\n",
    "        if len(array1) == 0:\n",
    "            return True\n",
    "    return False\n",
    "\n",
    "    "
   ]
  },
  {
   "cell_type": "code",
   "execution_count": 33,
   "metadata": {},
   "outputs": [
    {
     "data": {
      "text/plain": [
       "True"
      ]
     },
     "execution_count": 33,
     "metadata": {},
     "output_type": "execute_result"
    }
   ],
   "source": [
    "siamese(\"public relations\",  \"crap built on lies\")"
   ]
  },
  {
   "cell_type": "code",
   "execution_count": 32,
   "metadata": {},
   "outputs": [
    {
     "data": {
      "text/plain": [
       "False"
      ]
     },
     "execution_count": 32,
     "metadata": {},
     "output_type": "execute_result"
    }
   ],
   "source": [
    "siamese(\"Hello world\", \"do He lower\")"
   ]
  },
  {
   "cell_type": "code",
   "execution_count": 26,
   "metadata": {},
   "outputs": [
    {
     "data": {
      "text/plain": [
       "'do He lower'"
      ]
     },
     "execution_count": 26,
     "metadata": {},
     "output_type": "execute_result"
    }
   ],
   "source": [
    "\"Hello world\"\n",
    "\n",
    "\"do He lower\""
   ]
  },
  {
   "cell_type": "code",
   "execution_count": 27,
   "metadata": {},
   "outputs": [
    {
     "data": {
      "text/plain": [
       "{' ', 'H', 'd', 'e', 'l', 'o', 'r', 'w'}"
      ]
     },
     "execution_count": 27,
     "metadata": {},
     "output_type": "execute_result"
    }
   ],
   "source": [
    "set(\"Hello world\")"
   ]
  },
  {
   "cell_type": "code",
   "execution_count": 29,
   "metadata": {},
   "outputs": [
    {
     "data": {
      "text/plain": [
       "{' ', 'H', 'd', 'e', 'l', 'o', 'r', 'w'}"
      ]
     },
     "execution_count": 29,
     "metadata": {},
     "output_type": "execute_result"
    }
   ],
   "source": [
    "set('do He lower')"
   ]
  },
  {
   "cell_type": "code",
   "execution_count": 41,
   "metadata": {},
   "outputs": [],
   "source": [
    "def siamese(string1, string2):\n",
    "    string1 = string1.lower()\n",
    "    string2 = string2.lower()\n",
    "    corpus = {} # {}\n",
    "    for char in string1:\n",
    "        if char != ' ':\n",
    "            if char in corpus: # O(1)\n",
    "                corpus[char] += 1\n",
    "            else:\n",
    "                corpus[char] = 1\n",
    "    for char in string2:\n",
    "        if char == ' ':\n",
    "            continue\n",
    "        if char in corpus:\n",
    "            corpus[char] -= 1\n",
    "        else:\n",
    "            return False\n",
    "    if sum(corpus.values()) == 0:\n",
    "        return True\n",
    "    return False\n",
    "            \n",
    "\n"
   ]
  },
  {
   "cell_type": "code",
   "execution_count": 42,
   "metadata": {},
   "outputs": [
    {
     "data": {
      "text/plain": [
       "True"
      ]
     },
     "execution_count": 42,
     "metadata": {},
     "output_type": "execute_result"
    }
   ],
   "source": [
    "siamese(\"public relations\",  \"crap built on lies\")"
   ]
  },
  {
   "cell_type": "code",
   "execution_count": 43,
   "metadata": {},
   "outputs": [
    {
     "data": {
      "text/plain": [
       "False"
      ]
     },
     "execution_count": 43,
     "metadata": {},
     "output_type": "execute_result"
    }
   ],
   "source": [
    "siamese(\"Hello world\", \"do He lower\")"
   ]
  },
  {
   "cell_type": "code",
   "execution_count": 47,
   "metadata": {},
   "outputs": [
    {
     "data": {
      "text/plain": [
       "['e', 'h', 'l', 'l', 'o']"
      ]
     },
     "execution_count": 47,
     "metadata": {},
     "output_type": "execute_result"
    }
   ],
   "source": [
    "sorted(list('hello'.replace(' ', '')))"
   ]
  },
  {
   "cell_type": "code",
   "execution_count": 48,
   "metadata": {},
   "outputs": [
    {
     "data": {
      "text/plain": [
       "'ehllo'"
      ]
     },
     "execution_count": 48,
     "metadata": {},
     "output_type": "execute_result"
    }
   ],
   "source": [
    "''.join(sorted([ 'h', 'e', 'l', 'l', 'o']))"
   ]
  },
  {
   "cell_type": "code",
   "execution_count": 52,
   "metadata": {},
   "outputs": [
    {
     "data": {
      "text/plain": [
       "['e', 'h', 'l', 'l', 'o']"
      ]
     },
     "execution_count": 52,
     "metadata": {},
     "output_type": "execute_result"
    }
   ],
   "source": [
    "sorted('hello')"
   ]
  },
  {
   "cell_type": "code",
   "execution_count": 49,
   "metadata": {},
   "outputs": [],
   "source": [
    "def siamese(string1, string2):\n",
    "    string1 = ''.join(sorted(string1.lower().replace(' ', '')))\n",
    "    string2 = ''.join(sorted(string2.lower().replace(' ', '')))\n",
    "    if string1 == string2:\n",
    "        return True\n",
    "    return False"
   ]
  },
  {
   "cell_type": "code",
   "execution_count": 50,
   "metadata": {},
   "outputs": [
    {
     "data": {
      "text/plain": [
       "True"
      ]
     },
     "execution_count": 50,
     "metadata": {},
     "output_type": "execute_result"
    }
   ],
   "source": [
    "siamese(\"public relations\",  \"crap built on lies\")"
   ]
  },
  {
   "cell_type": "code",
   "execution_count": 51,
   "metadata": {},
   "outputs": [
    {
     "data": {
      "text/plain": [
       "False"
      ]
     },
     "execution_count": 51,
     "metadata": {},
     "output_type": "execute_result"
    }
   ],
   "source": [
    "siamese(\"Hello world\", \"do He lower\")"
   ]
  },
  {
   "cell_type": "code",
   "execution_count": 53,
   "metadata": {},
   "outputs": [
    {
     "data": {
      "text/plain": [
       "3.141592653589793"
      ]
     },
     "execution_count": 53,
     "metadata": {},
     "output_type": "execute_result"
    }
   ],
   "source": [
    "import math\n",
    "math.pi"
   ]
  },
  {
   "cell_type": "code",
   "execution_count": 65,
   "metadata": {},
   "outputs": [
    {
     "data": {
      "text/plain": [
       "3.14159"
      ]
     },
     "execution_count": 65,
     "metadata": {},
     "output_type": "execute_result"
    }
   ],
   "source": [
    "round(math.pi, 5)"
   ]
  },
  {
   "cell_type": "code",
   "execution_count": 61,
   "metadata": {},
   "outputs": [
    {
     "data": {
      "text/plain": [
       "'3.1416'"
      ]
     },
     "execution_count": 61,
     "metadata": {},
     "output_type": "execute_result"
    }
   ],
   "source": [
    "pi = math.pi\n",
    "n = 4\n",
    "f\"{pi:.{n}f}\""
   ]
  },
  {
   "cell_type": "code",
   "execution_count": 69,
   "metadata": {},
   "outputs": [],
   "source": [
    "import math\n",
    "def print_pi(n):\n",
    "    pi = math.pi\n",
    "    return float(f\"{pi:.{n}f}\")\n",
    "    "
   ]
  },
  {
   "cell_type": "code",
   "execution_count": 70,
   "metadata": {},
   "outputs": [
    {
     "data": {
      "text/plain": [
       "3.14"
      ]
     },
     "execution_count": 70,
     "metadata": {},
     "output_type": "execute_result"
    }
   ],
   "source": [
    "print_pi(2)"
   ]
  },
  {
   "cell_type": "code",
   "execution_count": 72,
   "metadata": {},
   "outputs": [
    {
     "data": {
      "text/plain": [
       "3.1416"
      ]
     },
     "execution_count": 72,
     "metadata": {},
     "output_type": "execute_result"
    }
   ],
   "source": [
    "print_pi(4)"
   ]
  },
  {
   "cell_type": "code",
   "execution_count": 73,
   "metadata": {},
   "outputs": [],
   "source": [
    "import math\n",
    "def print_pi(n):\n",
    "    pi = math.pi\n",
    "    return round(pi, n)"
   ]
  },
  {
   "cell_type": "code",
   "execution_count": 74,
   "metadata": {},
   "outputs": [
    {
     "data": {
      "text/plain": [
       "3.14"
      ]
     },
     "execution_count": 74,
     "metadata": {},
     "output_type": "execute_result"
    }
   ],
   "source": [
    "print_pi(2)"
   ]
  },
  {
   "cell_type": "code",
   "execution_count": 75,
   "metadata": {},
   "outputs": [
    {
     "data": {
      "text/plain": [
       "3.0"
      ]
     },
     "execution_count": 75,
     "metadata": {},
     "output_type": "execute_result"
    }
   ],
   "source": [
    "print_pi(0)"
   ]
  },
  {
   "cell_type": "code",
   "execution_count": 76,
   "metadata": {},
   "outputs": [
    {
     "data": {
      "text/plain": [
       "3.14159"
      ]
     },
     "execution_count": 76,
     "metadata": {},
     "output_type": "execute_result"
    }
   ],
   "source": [
    "print_pi(5)"
   ]
  },
  {
   "cell_type": "markdown",
   "metadata": {},
   "source": [
    "    n = size of array\n",
    "    1 <= arr[i] <= \n",
    "    n"
   ]
  },
  {
   "cell_type": "code",
   "execution_count": 81,
   "metadata": {},
   "outputs": [],
   "source": [
    "arr = [ 3, 4, 2, 3, 2 ]\n",
    "\n",
    "# look for index values "
   ]
  },
  {
   "cell_type": "markdown",
   "metadata": {},
   "source": [
    "    facebook amzaon Microsoft google\n",
    "    \n",
    "    Advance DSA\n",
    "    \n",
    "    90 % -> TCS, Wipro, IBM, Accentre, Capgemni -> array, string, stack & queue, link list"
   ]
  },
  {
   "cell_type": "code",
   "execution_count": 77,
   "metadata": {},
   "outputs": [],
   "source": [
    "def first_repeat(string):\n",
    "    visted = []\n",
    "    for char in string: # O(n^2)\n",
    "        if char in visted:\n",
    "            return char\n",
    "        else:\n",
    "            visted.append(char) \n",
    "            "
   ]
  },
  {
   "cell_type": "code",
   "execution_count": 78,
   "metadata": {},
   "outputs": [
    {
     "data": {
      "text/plain": [
       "'l'"
      ]
     },
     "execution_count": 78,
     "metadata": {},
     "output_type": "execute_result"
    }
   ],
   "source": [
    "first_repeat('hello world')"
   ]
  },
  {
   "cell_type": "code",
   "execution_count": 79,
   "metadata": {},
   "outputs": [
    {
     "data": {
      "text/plain": [
       "'a'"
      ]
     },
     "execution_count": 79,
     "metadata": {},
     "output_type": "execute_result"
    }
   ],
   "source": [
    "first_repeat('sachin yadav')"
   ]
  },
  {
   "cell_type": "code",
   "execution_count": 80,
   "metadata": {},
   "outputs": [
    {
     "data": {
      "text/plain": [
       "'r'"
      ]
     },
     "execution_count": 80,
     "metadata": {},
     "output_type": "execute_result"
    }
   ],
   "source": [
    "first_repeat('grras')"
   ]
  },
  {
   "cell_type": "code",
   "execution_count": 1,
   "metadata": {},
   "outputs": [],
   "source": [
    "arr = [ 3, 4, 2, 3, 2 ]\n",
    "\n",
    "# look for index values "
   ]
  },
  {
   "cell_type": "code",
   "execution_count": 11,
   "metadata": {},
   "outputs": [],
   "source": [
    "def first_repeat(arr):\n",
    "    visted = [ value for value in range(len(arr)+1)] # O(n)\n",
    "    for i in arr: # O(n)\n",
    "        if visted[i] > 0:\n",
    "            visted[i] = - visted[i]\n",
    "        else:\n",
    "            return i\n",
    "    return -1\n",
    "\n",
    "#T(n) = O(n)\n",
    "#S(n) = O(n)"
   ]
  },
  {
   "cell_type": "raw",
   "metadata": {},
   "source": [
    "first_repeat([4, 6, 5, 3, 7, 1, 2])"
   ]
  },
  {
   "cell_type": "code",
   "execution_count": 16,
   "metadata": {},
   "outputs": [],
   "source": [
    "def first_repeat(arr):\n",
    "    for i in arr:\n",
    "        i = abs(i)\n",
    "        if arr[i-1] < 0:\n",
    "            return i\n",
    "        else:\n",
    "            arr[i-1] = -arr[i-1]\n",
    "    return -1"
   ]
  },
  {
   "cell_type": "markdown",
   "metadata": {},
   "source": [
    "###### Check whether an array contain all unique elements with O(n) Time complexity and O(1) Space Complexity"
   ]
  },
  {
   "cell_type": "code",
   "execution_count": 17,
   "metadata": {},
   "outputs": [
    {
     "data": {
      "text/plain": [
       "-1"
      ]
     },
     "execution_count": 17,
     "metadata": {},
     "output_type": "execute_result"
    }
   ],
   "source": [
    "arr = [ 1, 2, 3, 4,5 , 6,7]\n",
    "first_repeat(arr)"
   ]
  },
  {
   "cell_type": "code",
   "execution_count": 18,
   "metadata": {},
   "outputs": [
    {
     "data": {
      "text/plain": [
       "4"
      ]
     },
     "execution_count": 18,
     "metadata": {},
     "output_type": "execute_result"
    }
   ],
   "source": [
    "arr = [ 4, 6, 3, 4, 3, 6]\n",
    "first_repeat(arr)\n"
   ]
  },
  {
   "cell_type": "code",
   "execution_count": 19,
   "metadata": {},
   "outputs": [
    {
     "data": {
      "text/plain": [
       "2"
      ]
     },
     "execution_count": 19,
     "metadata": {},
     "output_type": "execute_result"
    }
   ],
   "source": [
    "arr = [ 3, 6, 2, 1, 2, 4]\n",
    "first_repeat(arr)"
   ]
  },
  {
   "cell_type": "code",
   "execution_count": 20,
   "metadata": {},
   "outputs": [],
   "source": [
    "array = [\n",
    "    ('sachin', 78),\n",
    "    ('rajat', 67),\n",
    "    ('yadvendra', 90),\n",
    "    ('kushal', 60)\n",
    "]"
   ]
  },
  {
   "cell_type": "code",
   "execution_count": 21,
   "metadata": {},
   "outputs": [
    {
     "data": {
      "text/plain": [
       "[('sachin', 78), ('rajat', 67), ('yadvendra', 90), ('kushal', 60)]"
      ]
     },
     "execution_count": 21,
     "metadata": {},
     "output_type": "execute_result"
    }
   ],
   "source": [
    "array"
   ]
  },
  {
   "cell_type": "code",
   "execution_count": 22,
   "metadata": {},
   "outputs": [],
   "source": [
    "array.sort(key=lambda x:x[1], reverse=True)"
   ]
  },
  {
   "cell_type": "code",
   "execution_count": 23,
   "metadata": {},
   "outputs": [
    {
     "data": {
      "text/plain": [
       "[('yadvendra', 90), ('sachin', 78), ('rajat', 67), ('kushal', 60)]"
      ]
     },
     "execution_count": 23,
     "metadata": {},
     "output_type": "execute_result"
    }
   ],
   "source": [
    "array"
   ]
  },
  {
   "cell_type": "code",
   "execution_count": 26,
   "metadata": {},
   "outputs": [],
   "source": [
    "def merge_sort(array, key=None, reverse=False):\n",
    "    \"\"\"\n",
    "        array -> given array which needs to be sorted\n",
    "        key   -> a function returns item on the basis of which you need to make comparision\n",
    "        reverse -> True then sort in reverse order other wise in ascending order\n",
    "    \"\"\""
   ]
  },
  {
   "cell_type": "code",
   "execution_count": 41,
   "metadata": {},
   "outputs": [],
   "source": [
    "# Python program for flattening a Linked List\n",
    " \n",
    "class Node():\n",
    "    def __init__(self,data):\n",
    "        self.data = data\n",
    "        self.right = None\n",
    "        self.down = None\n",
    " \n",
    "class LinkedList():\n",
    "    def __init__(self):\n",
    " \n",
    "        # head of list\n",
    "        self.head = None\n",
    " \n",
    "    # Utility function to insert a node at beginning of the\n",
    "    #   linked list\n",
    "    def push(self,head_ref,data):\n",
    " \n",
    "        # 1 & 2: Allocate the Node &\n",
    "        # Put in the data\n",
    "        new_node = Node(data)\n",
    " \n",
    "        # Make next of new Node as head\n",
    "        new_node.down = head_ref\n",
    " \n",
    "        # 4. Move the head to point to new Node\n",
    "        head_ref = new_node\n",
    " \n",
    "        # 5. return to link it back\n",
    "        return head_ref\n",
    " \n",
    "    def printList(self):\n",
    " \n",
    "        temp = self.head\n",
    "        while(temp != None):\n",
    "            print(temp.data,end=\" \")\n",
    "            temp = temp.down\n",
    " \n",
    "        print()\n",
    " \n",
    "    # An utility function to merge two sorted linked lists\n",
    "    def merge(self, a, b):\n",
    "        # if first linked list is empty then second\n",
    "        # is the answer\n",
    "        if(a == None):\n",
    "            return b\n",
    "         \n",
    "        # if second linked list is empty then first\n",
    "        # is the result\n",
    "        if(b == None):\n",
    "            return a\n",
    " \n",
    "        # compare the data members of the two linked lists\n",
    "        # and put the larger one in the result\n",
    "        result = None\n",
    " \n",
    "        if (a.data < b.data):\n",
    "            result = a\n",
    "            result.down = self.merge(a.down,b)\n",
    "        else:\n",
    "            result = b\n",
    "            result.down = self.merge(a,b.down)\n",
    " \n",
    "        result.right = None\n",
    "        return result\n",
    " \n",
    "    def flatten(self, root):\n",
    " \n",
    "        # Base Case\n",
    "        if(root == None or root.right == None):\n",
    "            return root\n",
    "        # recur for list on right\n",
    " \n",
    "        root.right = self.flatten(root.right)\n",
    " \n",
    "        # now merge\n",
    "        root = self.merge(root, root.right)\n",
    " \n",
    "        # return the root\n",
    "        # it will be in turn merged with its left\n",
    "        return root\n",
    "    \n",
    "    def sorted_merge(self, left, right):\n",
    "        i, j, = 0, 0\n",
    "        array = []\n",
    "        while i < len(left) and j < len(right):\n",
    "            if left[i] < right[j]:\n",
    "                array.append(left[i])\n",
    "                i += 1\n",
    "            else:\n",
    "                array.append(right[j])\n",
    "                j += 1\n",
    "        while i < len(left):\n",
    "            array.append(left[i])\n",
    "            i += 1\n",
    "        while j < len(right):\n",
    "            array.append(right[j])\n",
    "            j += 1\n",
    "        return array\n",
    "            \n",
    "        \n",
    "    def flatten(self, head):\n",
    "        temp = head\n",
    "        l1 = []\n",
    "        while temp != None:\n",
    "            initial = temp\n",
    "            l2 = []\n",
    "            while temp != None:\n",
    "                l2.append(temp.data)\n",
    "                temp = temp.down\n",
    "            l1 = self.sorted_merge(l1, l2)\n",
    "            temp = initial.right\n",
    "        return l1\n",
    "    \n",
    " \n",
    "# Driver program to test above functions\n",
    "L = LinkedList()\n",
    " \n",
    "'''\n",
    "Let us create the following linked list\n",
    "            5 -> 10 -> 19 -> 28\n",
    "            |    |     |     |\n",
    "            V    V     V     V\n",
    "            7    20    22    35\n",
    "            |          |     |\n",
    "            V          V     V\n",
    "            8          50    40\n",
    "            |                |\n",
    "            V                V\n",
    "            30               45\n",
    "'''\n",
    "L.head = L.push(L.head, 30);\n",
    "L.head = L.push(L.head, 8);\n",
    "L.head = L.push(L.head, 7);\n",
    "L.head = L.push(L.head, 5);\n",
    " \n",
    "L.head.right = L.push(L.head.right, 20);\n",
    "L.head.right = L.push(L.head.right, 10);\n",
    " \n",
    "L.head.right.right = L.push(L.head.right.right, 50);\n",
    "L.head.right.right = L.push(L.head.right.right, 22);\n",
    "L.head.right.right = L.push(L.head.right.right, 19);\n",
    " \n",
    "L.head.right.right.right = L.push(L.head.right.right.right, 45);\n",
    "L.head.right.right.right = L.push(L.head.right.right.right, 40);\n",
    "L.head.right.right.right = L.push(L.head.right.right.right, 35);\n",
    "L.head.right.right.right = L.push(L.head.right.right.right, 20);\n",
    " \n"
   ]
  },
  {
   "cell_type": "code",
   "execution_count": 42,
   "metadata": {},
   "outputs": [
    {
     "data": {
      "text/plain": [
       "[5, 7, 8, 10, 19, 20, 20, 22, 30, 35, 40, 45, 50]"
      ]
     },
     "execution_count": 42,
     "metadata": {},
     "output_type": "execute_result"
    }
   ],
   "source": [
    "L.flatten(L.head) # 5 7 8 10 19 20 20 22 30 35 40 45 50"
   ]
  },
  {
   "cell_type": "code",
   "execution_count": 43,
   "metadata": {},
   "outputs": [],
   "source": [
    "L.head = L.push(L.head, 30);\n",
    "L.head = L.push(L.head, 8);\n",
    "L.head = L.push(L.head, 7);\n",
    "L.head = L.push(L.head, 5);\n",
    " \n",
    "L.head.right = L.push(L.head.right, 20);\n",
    "L.head.right = L.push(L.head.right, 10);\n",
    " \n",
    "L.head.right.right = L.push(L.head.right.right, 50);\n",
    "L.head.right.right = L.push(L.head.right.right, 22);\n",
    "L.head.right.right = L.push(L.head.right.right, 19);\n",
    " \n",
    "L.head.right.right.right = L.push(L.head.right.right.right, 45);\n",
    "L.head.right.right.right = L.push(L.head.right.right.right, 40);\n",
    "L.head.right.right.right = L.push(L.head.right.right.right, 35);\n",
    "L.head.right.right.right = L.push(L.head.right.right.right, 20);\n",
    " "
   ]
  },
  {
   "cell_type": "code",
   "execution_count": null,
   "metadata": {},
   "outputs": [],
   "source": []
  }
 ],
 "metadata": {
  "kernelspec": {
   "display_name": "Python 3",
   "language": "python",
   "name": "python3"
  },
  "language_info": {
   "codemirror_mode": {
    "name": "ipython",
    "version": 3
   },
   "file_extension": ".py",
   "mimetype": "text/x-python",
   "name": "python",
   "nbconvert_exporter": "python",
   "pygments_lexer": "ipython3",
   "version": "3.8.3"
  }
 },
 "nbformat": 4,
 "nbformat_minor": 4
}
