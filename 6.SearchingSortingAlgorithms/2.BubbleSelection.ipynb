{
 "cells": [
  {
   "cell_type": "markdown",
   "metadata": {},
   "source": [
    "### Sorting Algorithms\n",
    "\n",
    "    1. Bubble Sort\n",
    "    2. Selection Sort\n",
    "    3. Insertion Sort\n",
    "    4. Quick Sort\n",
    "    5. Merge Sort"
   ]
  },
  {
   "cell_type": "code",
   "execution_count": 1,
   "metadata": {},
   "outputs": [],
   "source": [
    "def bubble_pass(arr, n):\n",
    "    i = 0\n",
    "    while i < n - 1:\n",
    "        print(arr[i], arr[i+1])\n",
    "        i += 1\n",
    "        "
   ]
  },
  {
   "cell_type": "code",
   "execution_count": 4,
   "metadata": {},
   "outputs": [],
   "source": [
    "def bubble_pass(arr, n):\n",
    "    i = 0\n",
    "    while i < n - 1:\n",
    "        if arr[i] > arr[i+1]:\n",
    "            arr[i], arr[i+1] = arr[i+1], arr[i] # python logic to swap two numbers\n",
    "        print(arr)\n",
    "        i += 1\n",
    "        "
   ]
  },
  {
   "cell_type": "code",
   "execution_count": 8,
   "metadata": {},
   "outputs": [],
   "source": [
    "arr = [ 6, 4, 3, 5, 2, 8]"
   ]
  },
  {
   "cell_type": "code",
   "execution_count": 9,
   "metadata": {},
   "outputs": [
    {
     "name": "stdout",
     "output_type": "stream",
     "text": [
      "[6, 4, 3, 5, 2, 8]\n",
      "[4, 6, 3, 5, 2, 8]\n",
      "[4, 3, 6, 5, 2, 8]\n",
      "[4, 3, 5, 6, 2, 8]\n",
      "[4, 3, 5, 2, 6, 8]\n",
      "[4, 3, 5, 2, 6, 8]\n"
     ]
    }
   ],
   "source": [
    "print(arr)\n",
    "bubble_pass(arr, len(arr))"
   ]
  },
  {
   "cell_type": "code",
   "execution_count": 10,
   "metadata": {},
   "outputs": [
    {
     "name": "stdout",
     "output_type": "stream",
     "text": [
      "[4, 3, 5, 2, 6, 8]\n",
      "[3, 4, 5, 2, 6, 8]\n",
      "[3, 4, 5, 2, 6, 8]\n",
      "[3, 4, 2, 5, 6, 8]\n",
      "[3, 4, 2, 5, 6, 8]\n",
      "[3, 4, 2, 5, 6, 8]\n"
     ]
    }
   ],
   "source": [
    "print(arr)\n",
    "bubble_pass(arr, len(arr))"
   ]
  },
  {
   "cell_type": "code",
   "execution_count": 11,
   "metadata": {},
   "outputs": [
    {
     "name": "stdout",
     "output_type": "stream",
     "text": [
      "[3, 4, 2, 5, 6, 8]\n",
      "[3, 4, 2, 5, 6, 8]\n",
      "[3, 2, 4, 5, 6, 8]\n",
      "[3, 2, 4, 5, 6, 8]\n",
      "[3, 2, 4, 5, 6, 8]\n",
      "[3, 2, 4, 5, 6, 8]\n"
     ]
    }
   ],
   "source": [
    "print(arr)\n",
    "bubble_pass(arr, len(arr))"
   ]
  },
  {
   "cell_type": "code",
   "execution_count": 12,
   "metadata": {},
   "outputs": [
    {
     "name": "stdout",
     "output_type": "stream",
     "text": [
      "[3, 2, 4, 5, 6, 8]\n",
      "[2, 3, 4, 5, 6, 8]\n",
      "[2, 3, 4, 5, 6, 8]\n",
      "[2, 3, 4, 5, 6, 8]\n",
      "[2, 3, 4, 5, 6, 8]\n",
      "[2, 3, 4, 5, 6, 8]\n"
     ]
    }
   ],
   "source": [
    "print(arr)\n",
    "bubble_pass(arr, len(arr))"
   ]
  },
  {
   "cell_type": "code",
   "execution_count": 27,
   "metadata": {},
   "outputs": [
    {
     "name": "stdout",
     "output_type": "stream",
     "text": [
      "[6, 4, 3, 5, 2, 8]\n",
      "Pass-1: \n",
      "[4, 3, 5, 2, 6, 8]\n",
      "Pass-2: \n",
      "[3, 4, 2, 5, 6, 8]\n",
      "Pass-3: \n",
      "[3, 2, 4, 5, 6, 8]\n",
      "Pass-4: \n",
      "[2, 3, 4, 5, 6, 8]\n",
      "Pass-5: \n",
      "[2, 3, 4, 5, 6, 8]\n",
      "Pass-6: \n",
      "[2, 3, 4, 5, 6, 8]\n"
     ]
    }
   ],
   "source": [
    "arr = [ 6, 4, 3, 5, 2, 8]\n",
    "def bubble_pass(arr, n):\n",
    "    i = 0\n",
    "    while i < n - 1:\n",
    "        if arr[i] > arr[i+1]:\n",
    "            arr[i], arr[i+1] = arr[i+1], arr[i] # python logic to swap two numbers\n",
    "        i += 1\n",
    "        \n",
    "print(arr)\n",
    "for i in range(len(arr)):\n",
    "    print(f\"Pass-{i+1}: \")\n",
    "    bubble_pass(arr, len(arr))\n",
    "    print(arr)"
   ]
  },
  {
   "cell_type": "code",
   "execution_count": 13,
   "metadata": {},
   "outputs": [],
   "source": [
    "def bubble_sort(arr, n):\n",
    "    for _ in range(n): # n\n",
    "        for i in range(0, n-1): # n\n",
    "            if arr[i] > arr[i+1]:\n",
    "                arr[i], arr[i+1] = arr[i+1], arr[i]\n",
    "                \n",
    "# T(n) = O(n^2)"
   ]
  },
  {
   "cell_type": "code",
   "execution_count": 17,
   "metadata": {},
   "outputs": [
    {
     "name": "stdout",
     "output_type": "stream",
     "text": [
      "[2, 3, 4, 5, 6, 8]\n"
     ]
    }
   ],
   "source": [
    "arr = [ 6, 4, 3, 5, 2, 8]\n",
    "bubble_sort(arr, len(arr))\n",
    "print(arr)"
   ]
  },
  {
   "cell_type": "code",
   "execution_count": 21,
   "metadata": {},
   "outputs": [],
   "source": [
    "def bubble_sort(arr, n):\n",
    "    for i in range(n): # n\n",
    "        for i in range(0, n-1): # n\n",
    "            if arr[i] > arr[i+1]:\n",
    "                arr[i], arr[i+1] = arr[i+1], arr[i]\n",
    "                \n",
    "# T(n) = O(n^2)"
   ]
  },
  {
   "cell_type": "code",
   "execution_count": 24,
   "metadata": {},
   "outputs": [],
   "source": [
    "def bubble_sort(arr, n):\n",
    "    i = 0\n",
    "    while i < n:\n",
    "        j = 0\n",
    "        while j < n - i - 1: # i = 0, pass-1, j=0, n-2, i=1, pass=2, j=0, n-3, pass=3, i=2, j=0, n-4\n",
    "            if arr[j] > arr[j+1]:\n",
    "                arr[j], arr[j+1] = arr[j+1], arr[j]\n",
    "            j += 1\n",
    "        i += 1\n",
    "        \n",
    "# T(n) = O(n^2)"
   ]
  },
  {
   "cell_type": "code",
   "execution_count": 25,
   "metadata": {},
   "outputs": [
    {
     "name": "stdout",
     "output_type": "stream",
     "text": [
      "[6, 4, 3, 5, 2, 8]\n",
      "[2, 3, 4, 5, 6, 8]\n"
     ]
    }
   ],
   "source": [
    "arr = [ 6, 4, 3, 5, 2, 8]\n",
    "print(arr)\n",
    "bubble_sort(arr, len(arr))\n",
    "print(arr)"
   ]
  },
  {
   "cell_type": "code",
   "execution_count": 28,
   "metadata": {},
   "outputs": [
    {
     "name": "stdout",
     "output_type": "stream",
     "text": [
      "[6, 4, 3, 5, 2, 8]\n",
      "[2, 3, 4, 5, 6, 8]\n"
     ]
    }
   ],
   "source": [
    "def bubble_sort(arr, n):\n",
    "    for i in range(n):\n",
    "        #swap = False\n",
    "        for j in range(0, n-i-1): # i = 0, pass-1, j=0, n-2, i=1, pass=2, j=0, n-3, pass=3, i=2, j=0, n-4\n",
    "            if arr[j] > arr[j+1]:\n",
    "                arr[j], arr[j+1] = arr[j+1], arr[j]\n",
    "                #swap = True\n",
    "        #if swap == False:\n",
    "        #    break\n",
    "        \n",
    "arr = [ 6, 4, 3, 5, 2, 8]\n",
    "print(arr)\n",
    "bubble_sort(arr, len(arr))\n",
    "print(arr)\n",
    "        \n",
    "# T(n) = O(n^2)"
   ]
  },
  {
   "cell_type": "code",
   "execution_count": 31,
   "metadata": {},
   "outputs": [
    {
     "name": "stdout",
     "output_type": "stream",
     "text": [
      "[2, 3, 4, 5, 6, 8]\n",
      "[2, 3, 4, 5, 6, 8]\n"
     ]
    }
   ],
   "source": [
    "arr = [2, 3, 4, 5, 6, 8] # sorted -> swaping\n",
    "print(arr)\n",
    "bubble_sort(arr, len(arr))\n",
    "print(arr)"
   ]
  },
  {
   "cell_type": "code",
   "execution_count": 43,
   "metadata": {},
   "outputs": [
    {
     "name": "stdout",
     "output_type": "stream",
     "text": [
      "[6, 4, 3, 5, 2, 8, 10]\n",
      "Count total:  21\n",
      "[2, 3, 4, 5, 6, 8, 10]\n"
     ]
    }
   ],
   "source": [
    "def bubble_sort(arr, n):\n",
    "    c = 0\n",
    "    for i in range(n):\n",
    "        #swap = False\n",
    "        for j in range(0, n-i-1): # i = 0, pass-1, j=0, n-2, i=1, pass=2, j=0, n-3, pass=3, i=2, j=0, n-4\n",
    "            if arr[j] > arr[j+1]:\n",
    "                arr[j], arr[j+1] = arr[j+1], arr[j]\n",
    "            c += 1\n",
    "                #swap = True\n",
    "        #if swap == False:\n",
    "        #    break\n",
    "    print(\"Count total: \", c)\n",
    "        \n",
    "arr = [ 6, 4, 3, 5, 2, 8, 10 ]\n",
    "print(arr)\n",
    "bubble_sort(arr, len(arr))\n",
    "print(arr)\n",
    "        \n",
    "# T(n) = O(n^2)"
   ]
  },
  {
   "cell_type": "code",
   "execution_count": 44,
   "metadata": {},
   "outputs": [
    {
     "name": "stdout",
     "output_type": "stream",
     "text": [
      "[6, 4, 3, 5, 2, 8, 10]\n",
      "Count total:  20\n",
      "[2, 3, 4, 5, 6, 8, 10]\n",
      "Count total:  6\n"
     ]
    }
   ],
   "source": [
    "def bubble_sort(arr, n):\n",
    "    c = 0\n",
    "    for i in range(n):\n",
    "        swap = False\n",
    "        for j in range(0, n-i-1): # i = 0, pass-1, j=0, n-2, i=1, pass=2, j=0, n-3, pass=3, i=2, j=0, n-4\n",
    "            if arr[j] > arr[j+1]:\n",
    "                arr[j], arr[j+1] = arr[j+1], arr[j] # hardrive no of writes\n",
    "                swap = True\n",
    "            c += 1\n",
    "        if swap == False:\n",
    "            break\n",
    "    print(\"Count total: \", c)\n",
    "        \n",
    "arr = [ 6, 4, 3, 5, 2, 8, 10]\n",
    "print(arr)\n",
    "bubble_sort(arr, len(arr))\n",
    "print(arr)\n",
    "        \n",
    "# T(n) = O(n^2)\n",
    "\n",
    "bubble_sort(arr, len(arr))"
   ]
  },
  {
   "cell_type": "markdown",
   "metadata": {},
   "source": [
    "    swap -> n^2\n",
    "    Time complexity -> O(n^2)\n",
    "    Space Complexity -> O(1)"
   ]
  },
  {
   "cell_type": "code",
   "execution_count": 45,
   "metadata": {},
   "outputs": [
    {
     "name": "stdout",
     "output_type": "stream",
     "text": [
      "[6, 4, 3, 5, 2, 8]\n",
      "[8, 6, 5, 4, 3, 2]\n"
     ]
    }
   ],
   "source": [
    "def bubble_sort(arr, n):\n",
    "    for i in range(n):\n",
    "        #swap = False\n",
    "        for j in range(0, n-i-1): # i = 0, pass-1, j=0, n-2, i=1, pass=2, j=0, n-3, pass=3, i=2, j=0, n-4\n",
    "            if arr[j] < arr[j+1]:\n",
    "                arr[j], arr[j+1] = arr[j+1], arr[j]\n",
    "                #swap = True\n",
    "        #if swap == False:\n",
    "        #    break\n",
    "        \n",
    "arr = [ 6, 4, 3, 5, 2, 8]\n",
    "print(arr)\n",
    "bubble_sort(arr, len(arr))\n",
    "print(arr)\n",
    "        \n",
    "# T(n) = O(n^2)"
   ]
  },
  {
   "cell_type": "markdown",
   "metadata": {},
   "source": [
    "### Selection Sort"
   ]
  },
  {
   "cell_type": "code",
   "execution_count": 48,
   "metadata": {},
   "outputs": [],
   "source": [
    "arr = [ 6, 4, 3, 5, 2, 8]\n",
    "\n",
    "def selection(arr, n, s):\n",
    "    loc = s\n",
    "    for i in range(s+1, n):\n",
    "        if arr[i] < arr[loc]:\n",
    "            loc = i\n",
    "        i += 1\n",
    "    arr[s], arr[loc] = arr[loc], arr[s]\n",
    "    "
   ]
  },
  {
   "cell_type": "code",
   "execution_count": 53,
   "metadata": {},
   "outputs": [
    {
     "name": "stdout",
     "output_type": "stream",
     "text": [
      "[6, 9, 3, 5, 7, 8, 4]\n",
      "[3, 9, 6, 5, 7, 8, 4]\n"
     ]
    }
   ],
   "source": [
    "arr = [ 6, 9, 3, 5, 7, 8, 4]\n",
    "print(arr)\n",
    "selection(arr, len(arr), 0)\n",
    "print(arr)"
   ]
  },
  {
   "cell_type": "code",
   "execution_count": 54,
   "metadata": {},
   "outputs": [
    {
     "name": "stdout",
     "output_type": "stream",
     "text": [
      "[3, 9, 6, 5, 7, 8, 4]\n",
      "[3, 4, 6, 5, 7, 8, 9]\n"
     ]
    }
   ],
   "source": [
    "print(arr)\n",
    "selection(arr, len(arr), 1)\n",
    "print(arr)"
   ]
  },
  {
   "cell_type": "code",
   "execution_count": 55,
   "metadata": {},
   "outputs": [
    {
     "name": "stdout",
     "output_type": "stream",
     "text": [
      "[3, 4, 6, 5, 7, 8, 9]\n",
      "[3, 4, 5, 6, 7, 8, 9]\n"
     ]
    }
   ],
   "source": [
    "print(arr)\n",
    "selection(arr, len(arr), 2)\n",
    "print(arr)"
   ]
  },
  {
   "cell_type": "code",
   "execution_count": null,
   "metadata": {},
   "outputs": [],
   "source": [
    "def selection_sort(arr, n):\n",
    "    i = 0\n",
    "    while i < n-1:\n",
    "        loc = i\n",
    "        j = i + 1\n",
    "        while j < n:\n",
    "            if arr[j] < arr[loc]:\n",
    "                loc = j\n",
    "        arr[i], arr[loc] = arr[loc], arr[i]\n",
    "        j += 1\n",
    "    i += 1\n",
    "# T(n) = O(n^2)\n",
    "# S(n) = O(1)\n",
    "# no Swap = n"
   ]
  },
  {
   "cell_type": "code",
   "execution_count": 56,
   "metadata": {},
   "outputs": [],
   "source": [
    "def selection_sort(arr, n):\n",
    "    for i in range(0, n-1):\n",
    "        loc = i\n",
    "        for j in range(i+1, n):\n",
    "            if arr[j] < arr[loc]:\n",
    "                loc = j\n",
    "        arr[i], arr[loc] = arr[loc], arr[i]\n",
    "# T(n) = O(n^2)\n",
    "# S(n) = O(1)\n",
    "# no Swap = n"
   ]
  },
  {
   "cell_type": "code",
   "execution_count": 60,
   "metadata": {},
   "outputs": [],
   "source": [
    "import random "
   ]
  },
  {
   "cell_type": "code",
   "execution_count": 64,
   "metadata": {},
   "outputs": [
    {
     "name": "stdout",
     "output_type": "stream",
     "text": [
      "[12, 40, 38, 23, 40, 41, 33, 4, 13, 41]\n",
      "[4, 12, 13, 23, 33, 38, 40, 40, 41, 41]\n"
     ]
    }
   ],
   "source": [
    "arr = [ random.randint(1, 50) for _ in range(10) ]\n",
    "print(arr)\n",
    "selection_sort(arr, len(arr))\n",
    "print(arr)"
   ]
  },
  {
   "cell_type": "markdown",
   "metadata": {},
   "source": [
    "### Insertion Sort \n",
    "### Quick Sort\n",
    "### Merge Sort"
   ]
  },
  {
   "cell_type": "code",
   "execution_count": null,
   "metadata": {},
   "outputs": [],
   "source": []
  }
 ],
 "metadata": {
  "kernelspec": {
   "display_name": "Python 3",
   "language": "python",
   "name": "python3"
  },
  "language_info": {
   "codemirror_mode": {
    "name": "ipython",
    "version": 3
   },
   "file_extension": ".py",
   "mimetype": "text/x-python",
   "name": "python",
   "nbconvert_exporter": "python",
   "pygments_lexer": "ipython3",
   "version": "3.8.3"
  }
 },
 "nbformat": 4,
 "nbformat_minor": 4
}
