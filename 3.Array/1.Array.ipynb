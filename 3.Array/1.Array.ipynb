{
 "cells": [
  {
   "cell_type": "markdown",
   "metadata": {},
   "source": [
    "### Array\n",
    "\n",
    "    Linear Data Structure.\n",
    "\n",
    "    Collection of Similary/ Homogenous Data Types.\n",
    "    \n",
    "    Elements in an Array are stored in contiguous memory blocks/subsequent memory blocks in primary memory.\n",
    "    \n",
    "    Orderd Data Type.\n",
    "    \n",
    "    Arrays are of fixed size, but we can also create dynamic arrays."
   ]
  },
  {
   "cell_type": "markdown",
   "metadata": {},
   "source": [
    "Arrays in Python\n",
    "\n",
    "    1. We can use list data type as array\n",
    "    2. Libraries - array, numpy, cupy, tensorflow, pytorch \n",
    "    3. Custom Implementation using OOPs"
   ]
  },
  {
   "cell_type": "markdown",
   "metadata": {},
   "source": [
    "#### Array Structure  in Memory \n",
    "\n",
    "#### Operations\n",
    "\n",
    "    Access\n",
    "    Update\n",
    "    Delete\n",
    "    \n",
    "    search\n",
    "    sort"
   ]
  },
  {
   "cell_type": "markdown",
   "metadata": {},
   "source": [
    "### Implementation of Array using list as backend"
   ]
  },
  {
   "cell_type": "code",
   "execution_count": 1,
   "metadata": {},
   "outputs": [],
   "source": [
    "class Array:\n",
    "    def __init__(self, size):\n",
    "        self.size = size\n",
    "        self.data = [ None for _ in range(size) ]\n",
    "    def __str__(self):\n",
    "        items = \"\"\n",
    "        for item in self.data:\n",
    "            if item is None:\n",
    "                break\n",
    "            items += str(item) + ', '\n",
    "        return f\"Array({items})\""
   ]
  },
  {
   "cell_type": "code",
   "execution_count": 2,
   "metadata": {},
   "outputs": [],
   "source": [
    "arr = Array(5)"
   ]
  },
  {
   "cell_type": "code",
   "execution_count": 3,
   "metadata": {},
   "outputs": [
    {
     "name": "stdout",
     "output_type": "stream",
     "text": [
      "Array()\n"
     ]
    }
   ],
   "source": [
    "print(arr)"
   ]
  },
  {
   "cell_type": "code",
   "execution_count": 4,
   "metadata": {},
   "outputs": [
    {
     "data": {
      "text/plain": [
       "[None, None, None, None, None]"
      ]
     },
     "execution_count": 4,
     "metadata": {},
     "output_type": "execute_result"
    }
   ],
   "source": [
    "arr.data"
   ]
  },
  {
   "cell_type": "code",
   "execution_count": 5,
   "metadata": {},
   "outputs": [],
   "source": [
    "arr.data[0] = 50"
   ]
  },
  {
   "cell_type": "code",
   "execution_count": 6,
   "metadata": {},
   "outputs": [],
   "source": [
    "arr.data[1] = 90"
   ]
  },
  {
   "cell_type": "code",
   "execution_count": 7,
   "metadata": {},
   "outputs": [
    {
     "name": "stdout",
     "output_type": "stream",
     "text": [
      "Array(50, 90, )\n"
     ]
    }
   ],
   "source": [
    "print(arr)"
   ]
  },
  {
   "cell_type": "code",
   "execution_count": 12,
   "metadata": {},
   "outputs": [],
   "source": [
    "class Array:\n",
    "    def __init__(self, size):\n",
    "        self.__size = size\n",
    "        self.__data = [ None for _ in range(size) ]\n",
    "    def __str__(self):\n",
    "        items = \"\"\n",
    "        for item in self.__data:\n",
    "            if item is None:\n",
    "                break\n",
    "            items += str(item) + ', '\n",
    "        return f\"Array({items})\"\n",
    "    "
   ]
  },
  {
   "cell_type": "code",
   "execution_count": 13,
   "metadata": {},
   "outputs": [
    {
     "name": "stdout",
     "output_type": "stream",
     "text": [
      "Array()\n"
     ]
    }
   ],
   "source": [
    "arr = Array(5)\n",
    "print(arr)"
   ]
  },
  {
   "cell_type": "markdown",
   "metadata": {},
   "source": [
    "#### Insertion Operation \n",
    "\n",
    "\n",
    "    1. Append - add element at the end of array\n",
    "    2. Insert - add element at specific location by shifting element to their right\n",
    "    "
   ]
  },
  {
   "cell_type": "code",
   "execution_count": 14,
   "metadata": {},
   "outputs": [],
   "source": [
    "class StackOverflowError(OverflowError):\n",
    "    pass"
   ]
  },
  {
   "cell_type": "code",
   "execution_count": 15,
   "metadata": {},
   "outputs": [],
   "source": [
    "class Array:\n",
    "    def __init__(self, size):\n",
    "        self.__size = size\n",
    "        self.__data = [ None for _ in range(size) ]\n",
    "    def __str__(self):\n",
    "        items = \"\"\n",
    "        for item in self.__data:\n",
    "            if item is None:\n",
    "                break\n",
    "            items += str(item) + ', '\n",
    "        return f\"Array({items})\"\n",
    "    def append(self, element):\n",
    "        i = 0\n",
    "        while i < self.__size:\n",
    "            if self.__data[i] is None:\n",
    "                self.__data[i] = element # O(n)\n",
    "                break\n",
    "            i += 1\n",
    "        else:\n",
    "            raise StackOverflowError(f\"Array is full... can't append {element}\")"
   ]
  },
  {
   "cell_type": "code",
   "execution_count": 16,
   "metadata": {},
   "outputs": [],
   "source": [
    "arr = Array(5)"
   ]
  },
  {
   "cell_type": "code",
   "execution_count": 17,
   "metadata": {},
   "outputs": [
    {
     "name": "stdout",
     "output_type": "stream",
     "text": [
      "Array()\n"
     ]
    }
   ],
   "source": [
    "print(arr)"
   ]
  },
  {
   "cell_type": "code",
   "execution_count": 18,
   "metadata": {},
   "outputs": [],
   "source": [
    "arr.append(10)"
   ]
  },
  {
   "cell_type": "code",
   "execution_count": 19,
   "metadata": {},
   "outputs": [
    {
     "name": "stdout",
     "output_type": "stream",
     "text": [
      "Array(10, )\n"
     ]
    }
   ],
   "source": [
    "print(arr)"
   ]
  },
  {
   "cell_type": "code",
   "execution_count": 20,
   "metadata": {},
   "outputs": [],
   "source": [
    "arr.append(20)"
   ]
  },
  {
   "cell_type": "code",
   "execution_count": 21,
   "metadata": {},
   "outputs": [
    {
     "name": "stdout",
     "output_type": "stream",
     "text": [
      "Array(10, 20, )\n"
     ]
    }
   ],
   "source": [
    "print(arr)"
   ]
  },
  {
   "cell_type": "code",
   "execution_count": 22,
   "metadata": {},
   "outputs": [],
   "source": [
    "arr.append(40)"
   ]
  },
  {
   "cell_type": "code",
   "execution_count": 23,
   "metadata": {},
   "outputs": [
    {
     "name": "stdout",
     "output_type": "stream",
     "text": [
      "Array(10, 20, 40, )\n"
     ]
    }
   ],
   "source": [
    "print(arr)"
   ]
  },
  {
   "cell_type": "code",
   "execution_count": 24,
   "metadata": {},
   "outputs": [
    {
     "name": "stdout",
     "output_type": "stream",
     "text": [
      "Array(10, 20, 40, 60, )\n"
     ]
    }
   ],
   "source": [
    "arr.append(60)\n",
    "print(arr)"
   ]
  },
  {
   "cell_type": "code",
   "execution_count": 25,
   "metadata": {},
   "outputs": [],
   "source": [
    "arr.append(90)"
   ]
  },
  {
   "cell_type": "code",
   "execution_count": 26,
   "metadata": {},
   "outputs": [
    {
     "name": "stdout",
     "output_type": "stream",
     "text": [
      "Array(10, 20, 40, 60, 90, )\n"
     ]
    }
   ],
   "source": [
    "print(arr)"
   ]
  },
  {
   "cell_type": "code",
   "execution_count": 27,
   "metadata": {},
   "outputs": [
    {
     "ename": "StackOverflowError",
     "evalue": "Array is full... can't append 100",
     "output_type": "error",
     "traceback": [
      "\u001b[1;31m---------------------------------------------------------------------------\u001b[0m",
      "\u001b[1;31mStackOverflowError\u001b[0m                        Traceback (most recent call last)",
      "\u001b[1;32m<ipython-input-27-c8a43b1933e2>\u001b[0m in \u001b[0;36m<module>\u001b[1;34m\u001b[0m\n\u001b[1;32m----> 1\u001b[1;33m \u001b[0marr\u001b[0m\u001b[1;33m.\u001b[0m\u001b[0mappend\u001b[0m\u001b[1;33m(\u001b[0m\u001b[1;36m100\u001b[0m\u001b[1;33m)\u001b[0m\u001b[1;33m\u001b[0m\u001b[1;33m\u001b[0m\u001b[0m\n\u001b[0m",
      "\u001b[1;32m<ipython-input-15-4634f4af1434>\u001b[0m in \u001b[0;36mappend\u001b[1;34m(self, element)\u001b[0m\n\u001b[0;32m     18\u001b[0m             \u001b[0mi\u001b[0m \u001b[1;33m+=\u001b[0m \u001b[1;36m1\u001b[0m\u001b[1;33m\u001b[0m\u001b[1;33m\u001b[0m\u001b[0m\n\u001b[0;32m     19\u001b[0m         \u001b[1;32melse\u001b[0m\u001b[1;33m:\u001b[0m\u001b[1;33m\u001b[0m\u001b[1;33m\u001b[0m\u001b[0m\n\u001b[1;32m---> 20\u001b[1;33m             \u001b[1;32mraise\u001b[0m \u001b[0mStackOverflowError\u001b[0m\u001b[1;33m(\u001b[0m\u001b[1;34mf\"Array is full... can't append {element}\"\u001b[0m\u001b[1;33m)\u001b[0m\u001b[1;33m\u001b[0m\u001b[1;33m\u001b[0m\u001b[0m\n\u001b[0m",
      "\u001b[1;31mStackOverflowError\u001b[0m: Array is full... can't append 100"
     ]
    }
   ],
   "source": [
    "arr.append(100)"
   ]
  },
  {
   "cell_type": "code",
   "execution_count": 28,
   "metadata": {},
   "outputs": [
    {
     "ename": "TypeError",
     "evalue": "'Array' object is not subscriptable",
     "output_type": "error",
     "traceback": [
      "\u001b[1;31m---------------------------------------------------------------------------\u001b[0m",
      "\u001b[1;31mTypeError\u001b[0m                                 Traceback (most recent call last)",
      "\u001b[1;32m<ipython-input-28-d3e0db857085>\u001b[0m in \u001b[0;36m<module>\u001b[1;34m\u001b[0m\n\u001b[1;32m----> 1\u001b[1;33m \u001b[0marr\u001b[0m\u001b[1;33m[\u001b[0m\u001b[1;36m0\u001b[0m\u001b[1;33m]\u001b[0m\u001b[1;33m\u001b[0m\u001b[1;33m\u001b[0m\u001b[0m\n\u001b[0m",
      "\u001b[1;31mTypeError\u001b[0m: 'Array' object is not subscriptable"
     ]
    }
   ],
   "source": [
    "arr[0]"
   ]
  },
  {
   "cell_type": "code",
   "execution_count": 29,
   "metadata": {},
   "outputs": [
    {
     "ename": "TypeError",
     "evalue": "'Array' object is not subscriptable",
     "output_type": "error",
     "traceback": [
      "\u001b[1;31m---------------------------------------------------------------------------\u001b[0m",
      "\u001b[1;31mTypeError\u001b[0m                                 Traceback (most recent call last)",
      "\u001b[1;32m<ipython-input-29-be4e4a3bab70>\u001b[0m in \u001b[0;36m<module>\u001b[1;34m\u001b[0m\n\u001b[1;32m----> 1\u001b[1;33m \u001b[0marr\u001b[0m\u001b[1;33m[\u001b[0m\u001b[1;36m1\u001b[0m\u001b[1;33m]\u001b[0m\u001b[1;33m\u001b[0m\u001b[1;33m\u001b[0m\u001b[0m\n\u001b[0m",
      "\u001b[1;31mTypeError\u001b[0m: 'Array' object is not subscriptable"
     ]
    }
   ],
   "source": [
    "arr[1]"
   ]
  },
  {
   "cell_type": "code",
   "execution_count": 34,
   "metadata": {},
   "outputs": [],
   "source": [
    "class Array:\n",
    "    def __init__(self, size):\n",
    "        self.__size = size\n",
    "        self.__ci = -1\n",
    "        self.__data = [ None for _ in range(size) ]\n",
    "    def __str__(self):\n",
    "        items = \"\"\n",
    "        for item in self.__data:\n",
    "            if item is None:\n",
    "                break\n",
    "            items += str(item) + ', '\n",
    "        return f\"Array({items})\"\n",
    "    def is_full(self):\n",
    "        if self.__ci == (self.__size - 1):\n",
    "            return True\n",
    "        return False\n",
    "    def append(self, element):\n",
    "        if self.is_full():\n",
    "            raise StackOverflowError(f\"Aray is Full...Can not add {element}\")\n",
    "        self.__ci += 1\n",
    "        self.__data[self.__ci] = element # O(1)\n",
    "        "
   ]
  },
  {
   "cell_type": "code",
   "execution_count": 35,
   "metadata": {},
   "outputs": [],
   "source": [
    "arr = Array(5)"
   ]
  },
  {
   "cell_type": "code",
   "execution_count": 36,
   "metadata": {},
   "outputs": [],
   "source": [
    "arr.append(10)"
   ]
  },
  {
   "cell_type": "code",
   "execution_count": 37,
   "metadata": {},
   "outputs": [
    {
     "name": "stdout",
     "output_type": "stream",
     "text": [
      "Array(10, )\n"
     ]
    }
   ],
   "source": [
    "print(arr)"
   ]
  },
  {
   "cell_type": "code",
   "execution_count": 38,
   "metadata": {},
   "outputs": [],
   "source": [
    "arr.append(30)"
   ]
  },
  {
   "cell_type": "code",
   "execution_count": 39,
   "metadata": {},
   "outputs": [
    {
     "name": "stdout",
     "output_type": "stream",
     "text": [
      "Array(10, 30, )\n"
     ]
    }
   ],
   "source": [
    "print(arr)"
   ]
  },
  {
   "cell_type": "code",
   "execution_count": 40,
   "metadata": {},
   "outputs": [],
   "source": [
    "arr.append(90)"
   ]
  },
  {
   "cell_type": "code",
   "execution_count": 41,
   "metadata": {},
   "outputs": [
    {
     "name": "stdout",
     "output_type": "stream",
     "text": [
      "Array(10, 30, 90, )\n"
     ]
    }
   ],
   "source": [
    "print(arr)"
   ]
  },
  {
   "cell_type": "code",
   "execution_count": 42,
   "metadata": {},
   "outputs": [],
   "source": [
    "arr.append(100)"
   ]
  },
  {
   "cell_type": "code",
   "execution_count": 43,
   "metadata": {},
   "outputs": [
    {
     "name": "stdout",
     "output_type": "stream",
     "text": [
      "Array(10, 30, 90, 100, )\n"
     ]
    }
   ],
   "source": [
    "print(arr)"
   ]
  },
  {
   "cell_type": "code",
   "execution_count": 44,
   "metadata": {},
   "outputs": [],
   "source": [
    "arr.append(120)"
   ]
  },
  {
   "cell_type": "code",
   "execution_count": 45,
   "metadata": {},
   "outputs": [
    {
     "name": "stdout",
     "output_type": "stream",
     "text": [
      "Array(10, 30, 90, 100, 120, )\n"
     ]
    }
   ],
   "source": [
    "print(arr)"
   ]
  },
  {
   "cell_type": "code",
   "execution_count": 1,
   "metadata": {},
   "outputs": [
    {
     "ename": "NameError",
     "evalue": "name 'arr' is not defined",
     "output_type": "error",
     "traceback": [
      "\u001b[1;31m---------------------------------------------------------------------------\u001b[0m",
      "\u001b[1;31mNameError\u001b[0m                                 Traceback (most recent call last)",
      "\u001b[1;32m<ipython-input-1-33da572d6e9a>\u001b[0m in \u001b[0;36m<module>\u001b[1;34m\u001b[0m\n\u001b[1;32m----> 1\u001b[1;33m \u001b[0marr\u001b[0m\u001b[1;33m.\u001b[0m\u001b[0mappend\u001b[0m\u001b[1;33m(\u001b[0m\u001b[1;36m0\u001b[0m\u001b[1;33m)\u001b[0m\u001b[1;33m\u001b[0m\u001b[1;33m\u001b[0m\u001b[0m\n\u001b[0m",
      "\u001b[1;31mNameError\u001b[0m: name 'arr' is not defined"
     ]
    }
   ],
   "source": [
    "arr.append(0)"
   ]
  },
  {
   "cell_type": "markdown",
   "metadata": {},
   "source": [
    "## Operations"
   ]
  },
  {
   "cell_type": "markdown",
   "metadata": {},
   "source": [
    "## Fixed Size Array"
   ]
  },
  {
   "cell_type": "code",
   "execution_count": 8,
   "metadata": {},
   "outputs": [],
   "source": [
    "class StackOverflowError(OverflowError):\n",
    "    pass"
   ]
  },
  {
   "cell_type": "code",
   "execution_count": 2,
   "metadata": {},
   "outputs": [],
   "source": [
    "class Array:\n",
    "    def __init__(self, size):\n",
    "        self.__size = size\n",
    "        self.__rear = -1\n",
    "        self.__data = [ None for _ in range(size) ]\n",
    "    def __str__(self):\n",
    "        \"\"\"display -> O(n)\"\"\"\n",
    "        items = \"\"\n",
    "        for item in self.__data:\n",
    "            if item is None:\n",
    "                break\n",
    "            items += str(item) + ', '\n",
    "        return f\"Array({items})\"\n",
    "    def is_full(self):\n",
    "        if self.__rear == (self.__size - 1):\n",
    "            return True\n",
    "        return False\n",
    "    def append(self, element):\n",
    "        if self.is_full():\n",
    "            raise StackOverflowError(f\"Aray is Full...Can not add {element}\")\n",
    "        self.__rear += 1\n",
    "        self.__data[self.__rear] = element # O(1)\n",
    "        "
   ]
  },
  {
   "cell_type": "code",
   "execution_count": 3,
   "metadata": {},
   "outputs": [],
   "source": [
    "arr = Array(5)"
   ]
  },
  {
   "cell_type": "code",
   "execution_count": 4,
   "metadata": {},
   "outputs": [
    {
     "name": "stdout",
     "output_type": "stream",
     "text": [
      "Array(0, )\n",
      "Array(0, 1, )\n",
      "Array(0, 1, 4, )\n",
      "Array(0, 1, 4, 9, )\n"
     ]
    }
   ],
   "source": [
    "for i in range(4):\n",
    "    arr.append(i**2)\n",
    "    print(arr)"
   ]
  },
  {
   "cell_type": "code",
   "execution_count": 5,
   "metadata": {},
   "outputs": [],
   "source": [
    "arr.append(25)"
   ]
  },
  {
   "cell_type": "code",
   "execution_count": 6,
   "metadata": {},
   "outputs": [
    {
     "name": "stdout",
     "output_type": "stream",
     "text": [
      "Array(0, 1, 4, 9, 25, )\n"
     ]
    }
   ],
   "source": [
    "print(arr)"
   ]
  },
  {
   "cell_type": "code",
   "execution_count": 9,
   "metadata": {},
   "outputs": [
    {
     "ename": "StackOverflowError",
     "evalue": "Aray is Full...Can not add 36",
     "output_type": "error",
     "traceback": [
      "\u001b[1;31m---------------------------------------------------------------------------\u001b[0m",
      "\u001b[1;31mStackOverflowError\u001b[0m                        Traceback (most recent call last)",
      "\u001b[1;32m<ipython-input-9-096f9c279e54>\u001b[0m in \u001b[0;36m<module>\u001b[1;34m\u001b[0m\n\u001b[1;32m----> 1\u001b[1;33m \u001b[0marr\u001b[0m\u001b[1;33m.\u001b[0m\u001b[0mappend\u001b[0m\u001b[1;33m(\u001b[0m\u001b[1;36m36\u001b[0m\u001b[1;33m)\u001b[0m\u001b[1;33m\u001b[0m\u001b[1;33m\u001b[0m\u001b[0m\n\u001b[0m",
      "\u001b[1;32m<ipython-input-2-aa5b0b9f39d6>\u001b[0m in \u001b[0;36mappend\u001b[1;34m(self, element)\u001b[0m\n\u001b[0;32m     18\u001b[0m     \u001b[1;32mdef\u001b[0m \u001b[0mappend\u001b[0m\u001b[1;33m(\u001b[0m\u001b[0mself\u001b[0m\u001b[1;33m,\u001b[0m \u001b[0melement\u001b[0m\u001b[1;33m)\u001b[0m\u001b[1;33m:\u001b[0m\u001b[1;33m\u001b[0m\u001b[1;33m\u001b[0m\u001b[0m\n\u001b[0;32m     19\u001b[0m         \u001b[1;32mif\u001b[0m \u001b[0mself\u001b[0m\u001b[1;33m.\u001b[0m\u001b[0mis_full\u001b[0m\u001b[1;33m(\u001b[0m\u001b[1;33m)\u001b[0m\u001b[1;33m:\u001b[0m\u001b[1;33m\u001b[0m\u001b[1;33m\u001b[0m\u001b[0m\n\u001b[1;32m---> 20\u001b[1;33m             \u001b[1;32mraise\u001b[0m \u001b[0mStackOverflowError\u001b[0m\u001b[1;33m(\u001b[0m\u001b[1;34mf\"Aray is Full...Can not add {element}\"\u001b[0m\u001b[1;33m)\u001b[0m\u001b[1;33m\u001b[0m\u001b[1;33m\u001b[0m\u001b[0m\n\u001b[0m\u001b[0;32m     21\u001b[0m         \u001b[0mself\u001b[0m\u001b[1;33m.\u001b[0m\u001b[0m__rear\u001b[0m \u001b[1;33m+=\u001b[0m \u001b[1;36m1\u001b[0m\u001b[1;33m\u001b[0m\u001b[1;33m\u001b[0m\u001b[0m\n\u001b[0;32m     22\u001b[0m         \u001b[0mself\u001b[0m\u001b[1;33m.\u001b[0m\u001b[0m__data\u001b[0m\u001b[1;33m[\u001b[0m\u001b[0mself\u001b[0m\u001b[1;33m.\u001b[0m\u001b[0m__rear\u001b[0m\u001b[1;33m]\u001b[0m \u001b[1;33m=\u001b[0m \u001b[0melement\u001b[0m \u001b[1;31m# O(1)\u001b[0m\u001b[1;33m\u001b[0m\u001b[1;33m\u001b[0m\u001b[0m\n",
      "\u001b[1;31mStackOverflowError\u001b[0m: Aray is Full...Can not add 36"
     ]
    }
   ],
   "source": [
    "arr.append(36)"
   ]
  },
  {
   "cell_type": "code",
   "execution_count": 44,
   "metadata": {},
   "outputs": [],
   "source": [
    "l = [ 1, 2, 3]"
   ]
  },
  {
   "cell_type": "code",
   "execution_count": 45,
   "metadata": {},
   "outputs": [
    {
     "name": "stdout",
     "output_type": "stream",
     "text": [
      "[1, 2, 3, 10]\n"
     ]
    }
   ],
   "source": [
    "l.insert(1000, 10)\n",
    "print(l)"
   ]
  },
  {
   "cell_type": "code",
   "execution_count": 46,
   "metadata": {},
   "outputs": [],
   "source": [
    "class Array:\n",
    "    def __init__(self, size):\n",
    "        self.__size = size\n",
    "        self.__rear = -1\n",
    "        self.__data = [ None for _ in range(size) ]\n",
    "    def __str__(self):\n",
    "        \"\"\"display -> O(n)\"\"\"\n",
    "        items = \"\"\n",
    "        for item in self.__data:\n",
    "            if item is None:\n",
    "                break\n",
    "            items += str(item) + ', '\n",
    "        return f\"Array({items})\"\n",
    "    def is_full(self):\n",
    "        if self.__rear == (self.__size - 1):\n",
    "            return True\n",
    "        return False\n",
    "    def append(self, element):\n",
    "        if self.is_full():\n",
    "            self.resize_array()\n",
    "        self.__rear += 1\n",
    "        self.__data[self.__rear] = element # O(1)\n",
    "    def resize_array(self):\n",
    "        new_data = [ None for _ in range(2*self.__size) ] # [N, N, N, .......]\n",
    "        for i in range(self.__size):\n",
    "            new_data[i] = self.__data[i]\n",
    "        self.__data = new_data # over-riding existing array\n",
    "        self.__size = 2 * self.__size\n",
    "    def insert(self, loc, item):\n",
    "        if self.is_full():\n",
    "            self.resize_array()\n",
    "        if loc > self.__rear:\n",
    "            self.append(item)\n",
    "        elif loc < 0:\n",
    "            raise IndexError(\"negative index values are not allowed\")\n",
    "        else:\n",
    "            j = self.__rear\n",
    "            self.__rear += 1\n",
    "            while j >= loc:\n",
    "                self.__data[j+1] = self.__data[j]\n",
    "                j = j - 1\n",
    "            self.__data[loc] = item\n",
    "        \n",
    "    @property   \n",
    "    def data(self):\n",
    "        return self.__data\n",
    "    @property\n",
    "    def size(self):\n",
    "        return self.__size\n",
    "        "
   ]
  },
  {
   "cell_type": "code",
   "execution_count": 34,
   "metadata": {},
   "outputs": [],
   "source": [
    "arr = Array(2)"
   ]
  },
  {
   "cell_type": "code",
   "execution_count": 35,
   "metadata": {},
   "outputs": [
    {
     "name": "stdout",
     "output_type": "stream",
     "text": [
      "Array()\n",
      "[None, None]\n",
      "2\n"
     ]
    }
   ],
   "source": [
    "print(arr)\n",
    "print(arr.data)\n",
    "print(arr.size)"
   ]
  },
  {
   "cell_type": "code",
   "execution_count": 36,
   "metadata": {},
   "outputs": [],
   "source": [
    "arr.append(10)"
   ]
  },
  {
   "cell_type": "code",
   "execution_count": 37,
   "metadata": {},
   "outputs": [
    {
     "name": "stdout",
     "output_type": "stream",
     "text": [
      "Array(10, )\n"
     ]
    }
   ],
   "source": [
    "print(arr)"
   ]
  },
  {
   "cell_type": "code",
   "execution_count": 38,
   "metadata": {},
   "outputs": [],
   "source": [
    "arr.append(20)"
   ]
  },
  {
   "cell_type": "code",
   "execution_count": 39,
   "metadata": {},
   "outputs": [
    {
     "name": "stdout",
     "output_type": "stream",
     "text": [
      "Array(10, 20, )\n",
      "[10, 20]\n",
      "2\n"
     ]
    }
   ],
   "source": [
    "print(arr)\n",
    "print(arr.data)\n",
    "print(arr.size)"
   ]
  },
  {
   "cell_type": "code",
   "execution_count": 40,
   "metadata": {},
   "outputs": [],
   "source": [
    "arr.append(30) # Dyanmic Array"
   ]
  },
  {
   "cell_type": "code",
   "execution_count": 41,
   "metadata": {},
   "outputs": [
    {
     "name": "stdout",
     "output_type": "stream",
     "text": [
      "Array(10, 20, 30, )\n",
      "[10, 20, 30, None]\n",
      "4\n"
     ]
    }
   ],
   "source": [
    "print(arr)\n",
    "print(arr.data)\n",
    "print(arr.size)"
   ]
  },
  {
   "cell_type": "code",
   "execution_count": 42,
   "metadata": {},
   "outputs": [],
   "source": [
    "arr.append(50)"
   ]
  },
  {
   "cell_type": "code",
   "execution_count": 43,
   "metadata": {},
   "outputs": [
    {
     "name": "stdout",
     "output_type": "stream",
     "text": [
      "[10, 20, 30, 50, 100, None, None, None]\n",
      "8\n"
     ]
    }
   ],
   "source": [
    "arr.append(100)\n",
    "print(arr.data)\n",
    "print(arr.size)"
   ]
  },
  {
   "cell_type": "code",
   "execution_count": 47,
   "metadata": {},
   "outputs": [],
   "source": [
    "class Array:\n",
    "    def __init__(self, size):\n",
    "        self.__size = size\n",
    "        self.__rear = -1\n",
    "        self.__data = [ None for _ in range(size) ]\n",
    "    def __str__(self):\n",
    "        \"\"\"display -> O(n)\"\"\"\n",
    "        items = \"\"\n",
    "        for item in self.__data:\n",
    "            if item is None:\n",
    "                break\n",
    "            items += str(item) + ', '\n",
    "        return f\"Array({items})\"\n",
    "    def is_full(self):\n",
    "        if self.__rear == (self.__size - 1):\n",
    "            return True\n",
    "        return False\n",
    "    def append(self, element):\n",
    "        if self.is_full():\n",
    "            self.resize_array()\n",
    "        self.__rear += 1\n",
    "        self.__data[self.__rear] = element # O(1)\n",
    "    def resize_array(self):\n",
    "        new_data = [ None for _ in range(2*self.__size) ] # [N, N, N, .......]\n",
    "        for i in range(self.__size):\n",
    "            new_data[i] = self.__data[i]\n",
    "        self.__data = new_data # over-riding existing array\n",
    "        self.__size = 2 * self.__size\n",
    "    def insert(self, loc, item): # O(n)\n",
    "        if self.is_full():\n",
    "            self.resize_array()\n",
    "        if loc > self.__rear:\n",
    "            self.append(item)\n",
    "        elif loc < 0:\n",
    "            raise IndexError(\"negative index values are not allowed\")\n",
    "        else:\n",
    "            j = self.__rear\n",
    "            self.__rear += 1\n",
    "            while j >= loc:\n",
    "                self.__data[j+1] = self.__data[j]\n",
    "                j = j - 1\n",
    "            self.__data[loc] = item\n",
    "        \n",
    "    @property   \n",
    "    def data(self):\n",
    "        return self.__data\n",
    "    @property\n",
    "    def size(self):\n",
    "        return self.__size\n",
    "        "
   ]
  },
  {
   "cell_type": "code",
   "execution_count": 49,
   "metadata": {},
   "outputs": [
    {
     "name": "stdout",
     "output_type": "stream",
     "text": [
      "3\n",
      "[None, None, None]\n"
     ]
    }
   ],
   "source": [
    "arr = Array(3)\n",
    "print(arr.size, arr.data, sep='\\n')\n"
   ]
  },
  {
   "cell_type": "code",
   "execution_count": 50,
   "metadata": {},
   "outputs": [],
   "source": [
    "arr.insert(10, 100)"
   ]
  },
  {
   "cell_type": "code",
   "execution_count": 52,
   "metadata": {},
   "outputs": [
    {
     "name": "stdout",
     "output_type": "stream",
     "text": [
      "Array(100, )\n",
      "3\n",
      "[100, None, None]\n"
     ]
    }
   ],
   "source": [
    "print(arr)\n",
    "print(arr.size, arr.data, sep='\\n')"
   ]
  },
  {
   "cell_type": "code",
   "execution_count": 53,
   "metadata": {},
   "outputs": [
    {
     "name": "stdout",
     "output_type": "stream",
     "text": [
      "3\n",
      "[30, 100, None]\n"
     ]
    }
   ],
   "source": [
    "arr.insert(0, 30)\n",
    "print(arr.size, arr.data, sep='\\n')"
   ]
  },
  {
   "cell_type": "code",
   "execution_count": 54,
   "metadata": {},
   "outputs": [
    {
     "name": "stdout",
     "output_type": "stream",
     "text": [
      "3\n",
      "[30, 50, 100]\n"
     ]
    }
   ],
   "source": [
    "arr.insert(1, 50)\n",
    "print(arr.size, arr.data, sep='\\n')"
   ]
  },
  {
   "cell_type": "code",
   "execution_count": 55,
   "metadata": {},
   "outputs": [
    {
     "name": "stdout",
     "output_type": "stream",
     "text": [
      "6\n",
      "[20, 30, 50, 100, None, None]\n"
     ]
    }
   ],
   "source": [
    "arr.insert(0, 20)\n",
    "print(arr.size, arr.data, sep='\\n')"
   ]
  },
  {
   "cell_type": "code",
   "execution_count": 56,
   "metadata": {},
   "outputs": [],
   "source": [
    "class StackUnderFlowError(OverflowError):\n",
    "    pass"
   ]
  },
  {
   "cell_type": "code",
   "execution_count": 57,
   "metadata": {},
   "outputs": [],
   "source": [
    "class Array:\n",
    "    def __init__(self, size):\n",
    "        self.__size = size\n",
    "        self.__rear = -1\n",
    "        self.__data = [ None for _ in range(size) ]\n",
    "    def __str__(self):\n",
    "        \"\"\"display -> O(n)\"\"\"\n",
    "        items = \"\"\n",
    "        for item in self.__data:\n",
    "            if item is None:\n",
    "                break\n",
    "            items += str(item) + ', '\n",
    "        return f\"Array({items})\"\n",
    "    def is_empty(self):\n",
    "        if self.__rear == -1:\n",
    "            return True\n",
    "        return False\n",
    "    def is_full(self):\n",
    "        if self.__rear == (self.__size - 1):\n",
    "            return True\n",
    "        return False\n",
    "    def append(self, element):\n",
    "        if self.is_full():\n",
    "            self.resize_array()\n",
    "        self.__rear += 1\n",
    "        self.__data[self.__rear] = element # O(1)\n",
    "    def resize_array(self):\n",
    "        new_data = [ None for _ in range(2*self.__size) ] # [N, N, N, .......]\n",
    "        for i in range(self.__size):\n",
    "            new_data[i] = self.__data[i]\n",
    "        self.__data = new_data # over-riding existing array\n",
    "        self.__size = 2 * self.__size\n",
    "    def insert(self, loc, item): # O(n)\n",
    "        if self.is_full():\n",
    "            self.resize_array()\n",
    "        if loc > self.__rear:\n",
    "            self.append(item)\n",
    "        elif loc < 0:\n",
    "            raise IndexError(\"negative index values are not allowed\")\n",
    "        else:\n",
    "            j = self.__rear\n",
    "            self.__rear += 1\n",
    "            while j >= loc:\n",
    "                self.__data[j+1] = self.__data[j]\n",
    "                j = j - 1\n",
    "            self.__data[loc] = item\n",
    "    \n",
    "    def pop(self, loc=None):\n",
    "        if self.is_empty():\n",
    "            raise StackUnderFlowError(\"Array is Empty\")\n",
    "        if loc is None:\n",
    "            # delete last element\n",
    "            item = self.__data[self.__rear]\n",
    "            self.__data[self.__rear] = None\n",
    "            self.__rear -= 1\n",
    "            return item\n",
    "            \n",
    "    @property   \n",
    "    def data(self):\n",
    "        return self.__data\n",
    "    @property\n",
    "    def size(self):\n",
    "        return self.__size\n",
    "        "
   ]
  },
  {
   "cell_type": "code",
   "execution_count": 58,
   "metadata": {},
   "outputs": [],
   "source": [
    "arr = Array(5)\n",
    "for i in range(1, 6):\n",
    "    arr.append(i**2)"
   ]
  },
  {
   "cell_type": "code",
   "execution_count": 59,
   "metadata": {},
   "outputs": [
    {
     "data": {
      "text/plain": [
       "[1, 4, 9, 16, 25]"
      ]
     },
     "execution_count": 59,
     "metadata": {},
     "output_type": "execute_result"
    }
   ],
   "source": [
    "arr.data"
   ]
  },
  {
   "cell_type": "code",
   "execution_count": 60,
   "metadata": {},
   "outputs": [
    {
     "name": "stdout",
     "output_type": "stream",
     "text": [
      "25\n"
     ]
    }
   ],
   "source": [
    "item = arr.pop()\n",
    "print(item)"
   ]
  },
  {
   "cell_type": "code",
   "execution_count": 61,
   "metadata": {},
   "outputs": [
    {
     "data": {
      "text/plain": [
       "[1, 4, 9, 16, None]"
      ]
     },
     "execution_count": 61,
     "metadata": {},
     "output_type": "execute_result"
    }
   ],
   "source": [
    "arr.data"
   ]
  },
  {
   "cell_type": "code",
   "execution_count": 62,
   "metadata": {},
   "outputs": [
    {
     "name": "stdout",
     "output_type": "stream",
     "text": [
      "16 deleted from array\n",
      "[1, 4, 9, None, None]\n",
      "9 deleted from array\n",
      "[1, 4, None, None, None]\n",
      "4 deleted from array\n",
      "[1, None, None, None, None]\n"
     ]
    }
   ],
   "source": [
    "for _ in range(3):\n",
    "    print(arr.pop(), \"deleted from array\")\n",
    "    print(arr.data)"
   ]
  },
  {
   "cell_type": "code",
   "execution_count": 63,
   "metadata": {},
   "outputs": [
    {
     "data": {
      "text/plain": [
       "1"
      ]
     },
     "execution_count": 63,
     "metadata": {},
     "output_type": "execute_result"
    }
   ],
   "source": [
    "arr.pop()"
   ]
  },
  {
   "cell_type": "code",
   "execution_count": 64,
   "metadata": {},
   "outputs": [
    {
     "data": {
      "text/plain": [
       "[None, None, None, None, None]"
      ]
     },
     "execution_count": 64,
     "metadata": {},
     "output_type": "execute_result"
    }
   ],
   "source": [
    "arr.data"
   ]
  },
  {
   "cell_type": "code",
   "execution_count": 65,
   "metadata": {},
   "outputs": [
    {
     "name": "stdout",
     "output_type": "stream",
     "text": [
      "Array()\n"
     ]
    }
   ],
   "source": [
    "print(arr)"
   ]
  },
  {
   "cell_type": "code",
   "execution_count": 66,
   "metadata": {},
   "outputs": [
    {
     "ename": "StackUnderFlowError",
     "evalue": "Array is Empty",
     "output_type": "error",
     "traceback": [
      "\u001b[1;31m---------------------------------------------------------------------------\u001b[0m",
      "\u001b[1;31mStackUnderFlowError\u001b[0m                       Traceback (most recent call last)",
      "\u001b[1;32m<ipython-input-66-8d5d508e3423>\u001b[0m in \u001b[0;36m<module>\u001b[1;34m\u001b[0m\n\u001b[1;32m----> 1\u001b[1;33m \u001b[0marr\u001b[0m\u001b[1;33m.\u001b[0m\u001b[0mpop\u001b[0m\u001b[1;33m(\u001b[0m\u001b[1;33m)\u001b[0m\u001b[1;33m\u001b[0m\u001b[1;33m\u001b[0m\u001b[0m\n\u001b[0m",
      "\u001b[1;32m<ipython-input-57-188f93108ed1>\u001b[0m in \u001b[0;36mpop\u001b[1;34m(self, loc)\u001b[0m\n\u001b[0;32m     48\u001b[0m     \u001b[1;32mdef\u001b[0m \u001b[0mpop\u001b[0m\u001b[1;33m(\u001b[0m\u001b[0mself\u001b[0m\u001b[1;33m,\u001b[0m \u001b[0mloc\u001b[0m\u001b[1;33m=\u001b[0m\u001b[1;32mNone\u001b[0m\u001b[1;33m)\u001b[0m\u001b[1;33m:\u001b[0m\u001b[1;33m\u001b[0m\u001b[1;33m\u001b[0m\u001b[0m\n\u001b[0;32m     49\u001b[0m         \u001b[1;32mif\u001b[0m \u001b[0mself\u001b[0m\u001b[1;33m.\u001b[0m\u001b[0mis_empty\u001b[0m\u001b[1;33m(\u001b[0m\u001b[1;33m)\u001b[0m\u001b[1;33m:\u001b[0m\u001b[1;33m\u001b[0m\u001b[1;33m\u001b[0m\u001b[0m\n\u001b[1;32m---> 50\u001b[1;33m             \u001b[1;32mraise\u001b[0m \u001b[0mStackUnderFlowError\u001b[0m\u001b[1;33m(\u001b[0m\u001b[1;34m\"Array is Empty\"\u001b[0m\u001b[1;33m)\u001b[0m\u001b[1;33m\u001b[0m\u001b[1;33m\u001b[0m\u001b[0m\n\u001b[0m\u001b[0;32m     51\u001b[0m         \u001b[1;32mif\u001b[0m \u001b[0mloc\u001b[0m \u001b[1;32mis\u001b[0m \u001b[1;32mNone\u001b[0m\u001b[1;33m:\u001b[0m\u001b[1;33m\u001b[0m\u001b[1;33m\u001b[0m\u001b[0m\n\u001b[0;32m     52\u001b[0m             \u001b[1;31m# delete last element\u001b[0m\u001b[1;33m\u001b[0m\u001b[1;33m\u001b[0m\u001b[1;33m\u001b[0m\u001b[0m\n",
      "\u001b[1;31mStackUnderFlowError\u001b[0m: Array is Empty"
     ]
    }
   ],
   "source": [
    "arr.pop()"
   ]
  },
  {
   "cell_type": "code",
   "execution_count": 67,
   "metadata": {},
   "outputs": [],
   "source": [
    "l = [ 1, 2 ]"
   ]
  },
  {
   "cell_type": "code",
   "execution_count": 68,
   "metadata": {},
   "outputs": [],
   "source": [
    "l.insert(100, 100)"
   ]
  },
  {
   "cell_type": "code",
   "execution_count": 69,
   "metadata": {},
   "outputs": [
    {
     "data": {
      "text/plain": [
       "[1, 2, 100]"
      ]
     },
     "execution_count": 69,
     "metadata": {},
     "output_type": "execute_result"
    }
   ],
   "source": [
    "l"
   ]
  },
  {
   "cell_type": "code",
   "execution_count": 70,
   "metadata": {},
   "outputs": [
    {
     "ename": "IndexError",
     "evalue": "pop index out of range",
     "output_type": "error",
     "traceback": [
      "\u001b[1;31m---------------------------------------------------------------------------\u001b[0m",
      "\u001b[1;31mIndexError\u001b[0m                                Traceback (most recent call last)",
      "\u001b[1;32m<ipython-input-70-593dc6fd75d7>\u001b[0m in \u001b[0;36m<module>\u001b[1;34m\u001b[0m\n\u001b[1;32m----> 1\u001b[1;33m \u001b[0ml\u001b[0m\u001b[1;33m.\u001b[0m\u001b[0mpop\u001b[0m\u001b[1;33m(\u001b[0m\u001b[1;36m100\u001b[0m\u001b[1;33m)\u001b[0m\u001b[1;33m\u001b[0m\u001b[1;33m\u001b[0m\u001b[0m\n\u001b[0m",
      "\u001b[1;31mIndexError\u001b[0m: pop index out of range"
     ]
    }
   ],
   "source": [
    "l.pop(100)"
   ]
  },
  {
   "cell_type": "code",
   "execution_count": 71,
   "metadata": {},
   "outputs": [],
   "source": [
    "class Array:\n",
    "    def __init__(self, size):\n",
    "        self.__size = size\n",
    "        self.__rear = -1\n",
    "        self.__data = [ None for _ in range(size) ]\n",
    "    def __str__(self):\n",
    "        \"\"\"display -> O(n)\"\"\"\n",
    "        items = \"\"\n",
    "        for item in self.__data:\n",
    "            if item is None:\n",
    "                break\n",
    "            items += str(item) + ', '\n",
    "        return f\"Array({items})\"\n",
    "    def is_empty(self):\n",
    "        if self.__rear == -1:\n",
    "            return True\n",
    "        return False\n",
    "    def is_full(self):\n",
    "        if self.__rear == (self.__size - 1):\n",
    "            return True\n",
    "        return False\n",
    "    def append(self, element):\n",
    "        if self.is_full():\n",
    "            self.resize_array()\n",
    "        self.__rear += 1\n",
    "        self.__data[self.__rear] = element # O(1)\n",
    "    def resize_array(self):\n",
    "        new_data = [ None for _ in range(2*self.__size) ] # [N, N, N, .......]\n",
    "        for i in range(self.__size):\n",
    "            new_data[i] = self.__data[i]\n",
    "        self.__data = new_data # over-riding existing array\n",
    "        self.__size = 2 * self.__size\n",
    "    def insert(self, loc, item): # O(n)\n",
    "        if self.is_full():\n",
    "            self.resize_array()\n",
    "        if loc > self.__rear:\n",
    "            self.append(item)\n",
    "        elif loc < 0:\n",
    "            raise IndexError(\"negative index values are not allowed\")\n",
    "        else:\n",
    "            j = self.__rear\n",
    "            self.__rear += 1\n",
    "            while j >= loc:\n",
    "                self.__data[j+1] = self.__data[j]\n",
    "                j = j - 1\n",
    "            self.__data[loc] = item\n",
    "    \n",
    "    def pop(self, loc=None):\n",
    "        if self.is_empty():\n",
    "            raise StackUnderFlowError(\"Array is Empty\")\n",
    "        if loc is None:\n",
    "            # delete last element\n",
    "            item = self.__data[self.__rear] # O(1)\n",
    "            self.__data[self.__rear] = None\n",
    "            self.__rear -= 1\n",
    "            return item\n",
    "        else:\n",
    "            if loc < 0 or loc > self.__rear:\n",
    "                raise IndexError(\"Array index out of range\")\n",
    "            item = self.__data[loc]\n",
    "            while loc < self.__rear: # O(n)\n",
    "                self.__data[loc] = self.__data[loc+1]\n",
    "                loc += 1\n",
    "            self.__rear -= 1\n",
    "            self.__data[loc] = None\n",
    "            return item\n",
    "            \n",
    "    @property   \n",
    "    def data(self):\n",
    "        return self.__data\n",
    "    @property\n",
    "    def size(self):\n",
    "        return self.__size\n",
    "        "
   ]
  },
  {
   "cell_type": "code",
   "execution_count": 72,
   "metadata": {},
   "outputs": [],
   "source": [
    "arr = Array(10)\n",
    "\n",
    "for i in range(1, 11):\n",
    "    arr.append(i**2)"
   ]
  },
  {
   "cell_type": "code",
   "execution_count": 73,
   "metadata": {},
   "outputs": [
    {
     "data": {
      "text/plain": [
       "[1, 4, 9, 16, 25, 36, 49, 64, 81, 100]"
      ]
     },
     "execution_count": 73,
     "metadata": {},
     "output_type": "execute_result"
    }
   ],
   "source": [
    "arr.data"
   ]
  },
  {
   "cell_type": "code",
   "execution_count": 74,
   "metadata": {},
   "outputs": [
    {
     "data": {
      "text/plain": [
       "1"
      ]
     },
     "execution_count": 74,
     "metadata": {},
     "output_type": "execute_result"
    }
   ],
   "source": [
    "arr.pop(0)"
   ]
  },
  {
   "cell_type": "code",
   "execution_count": 75,
   "metadata": {},
   "outputs": [
    {
     "data": {
      "text/plain": [
       "[4, 9, 16, 25, 36, 49, 64, 81, 100, None]"
      ]
     },
     "execution_count": 75,
     "metadata": {},
     "output_type": "execute_result"
    }
   ],
   "source": [
    "arr.data"
   ]
  },
  {
   "cell_type": "code",
   "execution_count": 76,
   "metadata": {},
   "outputs": [
    {
     "data": {
      "text/plain": [
       "25"
      ]
     },
     "execution_count": 76,
     "metadata": {},
     "output_type": "execute_result"
    }
   ],
   "source": [
    "arr.pop(3)"
   ]
  },
  {
   "cell_type": "code",
   "execution_count": 77,
   "metadata": {},
   "outputs": [
    {
     "data": {
      "text/plain": [
       "[4, 9, 16, 36, 49, 64, 81, 100, None, None]"
      ]
     },
     "execution_count": 77,
     "metadata": {},
     "output_type": "execute_result"
    }
   ],
   "source": [
    "arr.data"
   ]
  },
  {
   "cell_type": "code",
   "execution_count": 5,
   "metadata": {},
   "outputs": [],
   "source": [
    "class A:\n",
    "    def __init__(self, name):\n",
    "        self.__name = name\n",
    "    \n",
    "    def get_name(self): # getter \n",
    "        return self.__name\n",
    "    \n",
    "    # property -> a variable as a function / method\n",
    "    @property\n",
    "    def name(self):\n",
    "        print(\"You are accessing name property\")\n",
    "        return self.__name"
   ]
  },
  {
   "cell_type": "code",
   "execution_count": 6,
   "metadata": {},
   "outputs": [],
   "source": [
    "a = A('sachin')"
   ]
  },
  {
   "cell_type": "code",
   "execution_count": 7,
   "metadata": {},
   "outputs": [
    {
     "data": {
      "text/plain": [
       "'sachin'"
      ]
     },
     "execution_count": 7,
     "metadata": {},
     "output_type": "execute_result"
    }
   ],
   "source": [
    "a.get_name()"
   ]
  },
  {
   "cell_type": "code",
   "execution_count": 8,
   "metadata": {},
   "outputs": [
    {
     "name": "stdout",
     "output_type": "stream",
     "text": [
      "You are accessing name property\n"
     ]
    },
    {
     "data": {
      "text/plain": [
       "'sachin'"
      ]
     },
     "execution_count": 8,
     "metadata": {},
     "output_type": "execute_result"
    }
   ],
   "source": [
    "a.name"
   ]
  },
  {
   "cell_type": "code",
   "execution_count": 10,
   "metadata": {},
   "outputs": [],
   "source": [
    "class StackUnderFlowError(OverflowError):\n",
    "    pass\n",
    "\n",
    "class Array:\n",
    "    def __init__(self, size):\n",
    "        self.__size = size\n",
    "        self.__rear = -1\n",
    "        self.__data = [ None for _ in range(size) ]\n",
    "    def __str__(self):\n",
    "        \"\"\"display -> O(n)\"\"\"\n",
    "        items = \"\"\n",
    "        for item in self.__data:\n",
    "            if item is None:\n",
    "                break\n",
    "            items += str(item) + ', '\n",
    "        return f\"Array({items})\"\n",
    "    def is_empty(self):\n",
    "        if self.__rear == -1:\n",
    "            return True\n",
    "        return False\n",
    "    def is_full(self):\n",
    "        if self.__rear == (self.__size - 1):\n",
    "            return True\n",
    "        return False\n",
    "    def append(self, element):\n",
    "        if self.is_full():\n",
    "            self.resize_array()\n",
    "        self.__rear += 1\n",
    "        self.__data[self.__rear] = element # O(1)\n",
    "    def resize_array(self):\n",
    "        new_data = [ None for _ in range(2*self.__size) ] # [N, N, N, .......]\n",
    "        for i in range(self.__size):\n",
    "            new_data[i] = self.__data[i]\n",
    "        self.__data = new_data # over-riding existing array\n",
    "        self.__size = 2 * self.__size\n",
    "    def insert(self, loc, item): # O(n)\n",
    "        if self.is_full():\n",
    "            self.resize_array()\n",
    "        if loc > self.__rear:\n",
    "            self.append(item)\n",
    "        elif loc < 0:\n",
    "            raise IndexError(\"negative index values are not allowed\")\n",
    "        else:\n",
    "            j = self.__rear\n",
    "            self.__rear += 1\n",
    "            while j >= loc:\n",
    "                self.__data[j+1] = self.__data[j]\n",
    "                j = j - 1\n",
    "            self.__data[loc] = item\n",
    "    \n",
    "    def pop(self, loc=None):\n",
    "        if self.is_empty():\n",
    "            raise StackUnderFlowError(\"Array is Empty\")\n",
    "        if loc is None:\n",
    "            # delete last element\n",
    "            item = self.__data[self.__rear] # O(1)\n",
    "            self.__data[self.__rear] = None\n",
    "            self.__rear -= 1\n",
    "            return item\n",
    "        else:\n",
    "            if loc < 0 or loc > self.__rear:\n",
    "                raise IndexError(\"Array index out of range\")\n",
    "            item = self.__data[loc]\n",
    "            while loc < self.__rear: # O(n)\n",
    "                self.__data[loc] = self.__data[loc+1]\n",
    "                loc += 1\n",
    "            self.__rear -= 1\n",
    "            self.__data[loc] = None\n",
    "            return item\n",
    "            \n",
    "    @property   \n",
    "    def data(self):\n",
    "        return self.__data\n",
    "    @property\n",
    "    def size(self):\n",
    "        return self.__size\n",
    "    \n",
    "    def search(self, key):\n",
    "        for i in range(self.__size): #0 to n-1\n",
    "            if self.__data[i] == key:\n",
    "                return i\n",
    "        return -1\n",
    "        "
   ]
  },
  {
   "cell_type": "code",
   "execution_count": 11,
   "metadata": {},
   "outputs": [],
   "source": [
    "import random"
   ]
  },
  {
   "cell_type": "code",
   "execution_count": 12,
   "metadata": {},
   "outputs": [],
   "source": [
    "arr = Array(5)\n",
    "\n",
    "for _ in range(5):\n",
    "    arr.append(random.randint(1, 50))"
   ]
  },
  {
   "cell_type": "code",
   "execution_count": 13,
   "metadata": {},
   "outputs": [
    {
     "data": {
      "text/plain": [
       "[1, 24, 28, 8, 45]"
      ]
     },
     "execution_count": 13,
     "metadata": {},
     "output_type": "execute_result"
    }
   ],
   "source": [
    "arr.data"
   ]
  },
  {
   "cell_type": "code",
   "execution_count": 14,
   "metadata": {},
   "outputs": [
    {
     "data": {
      "text/plain": [
       "3"
      ]
     },
     "execution_count": 14,
     "metadata": {},
     "output_type": "execute_result"
    }
   ],
   "source": [
    "arr.search(8)"
   ]
  },
  {
   "cell_type": "code",
   "execution_count": 15,
   "metadata": {},
   "outputs": [
    {
     "data": {
      "text/plain": [
       "0"
      ]
     },
     "execution_count": 15,
     "metadata": {},
     "output_type": "execute_result"
    }
   ],
   "source": [
    "arr.search(1)"
   ]
  },
  {
   "cell_type": "code",
   "execution_count": 16,
   "metadata": {},
   "outputs": [
    {
     "data": {
      "text/plain": [
       "-1"
      ]
     },
     "execution_count": 16,
     "metadata": {},
     "output_type": "execute_result"
    }
   ],
   "source": [
    "arr.search(100)"
   ]
  },
  {
   "cell_type": "code",
   "execution_count": 21,
   "metadata": {},
   "outputs": [],
   "source": [
    "class Employee:\n",
    "    def __init__(self, name, job_title, salary):\n",
    "        self.name = name\n",
    "        self.job_title = job_title\n",
    "        self.salary = salary\n",
    "    def __str__(self):\n",
    "        info = f\"\"\"\n",
    "        Name = {self.name}\n",
    "        Role = {self.job_title}\n",
    "        Salary ={self.salary}\n",
    "        \"\"\"\n",
    "        return info"
   ]
  },
  {
   "cell_type": "code",
   "execution_count": 36,
   "metadata": {},
   "outputs": [
    {
     "data": {
      "text/plain": [
       "'ram'"
      ]
     },
     "execution_count": 36,
     "metadata": {},
     "output_type": "execute_result"
    }
   ],
   "source": [
    "e1 = Employee('ram', 'db', 30000)\n",
    "e1.name"
   ]
  },
  {
   "cell_type": "code",
   "execution_count": 23,
   "metadata": {},
   "outputs": [
    {
     "name": "stdout",
     "output_type": "stream",
     "text": [
      "Writing emps.csv\n"
     ]
    }
   ],
   "source": [
    "%%writefile emps.csv\n",
    "Ram,DBA,35000\n",
    "Shyam,DS,60000\n",
    "Hari,ML,80000\n",
    "Seeta,WebDeveloper,50000"
   ]
  },
  {
   "cell_type": "code",
   "execution_count": 30,
   "metadata": {},
   "outputs": [],
   "source": [
    "arr = Array(10)"
   ]
  },
  {
   "cell_type": "code",
   "execution_count": 31,
   "metadata": {},
   "outputs": [],
   "source": [
    "for line in open('emps.csv'):\n",
    "    line = line.split(',')\n",
    "    line[-1] = int(line[-1])\n",
    "    e = Employee(*line)\n",
    "    arr.append(e)"
   ]
  },
  {
   "cell_type": "code",
   "execution_count": 34,
   "metadata": {},
   "outputs": [
    {
     "data": {
      "text/plain": [
       "[<__main__.Employee at 0x233281939d0>,\n",
       " <__main__.Employee at 0x23328193880>,\n",
       " <__main__.Employee at 0x23328193b20>,\n",
       " <__main__.Employee at 0x233281a9b80>,\n",
       " None,\n",
       " None,\n",
       " None,\n",
       " None,\n",
       " None,\n",
       " None]"
      ]
     },
     "execution_count": 34,
     "metadata": {},
     "output_type": "execute_result"
    }
   ],
   "source": [
    "arr.data"
   ]
  },
  {
   "cell_type": "code",
   "execution_count": 43,
   "metadata": {},
   "outputs": [
    {
     "name": "stdout",
     "output_type": "stream",
     "text": [
      "\n",
      "        Name = Ram\n",
      "        Role = DBA\n",
      "        Salary =35000\n",
      "        \n"
     ]
    }
   ],
   "source": [
    "print(arr.data[0])"
   ]
  },
  {
   "cell_type": "code",
   "execution_count": 42,
   "metadata": {},
   "outputs": [
    {
     "data": {
      "text/plain": [
       "<__main__.Employee at 0x233281939d0>"
      ]
     },
     "execution_count": 42,
     "metadata": {},
     "output_type": "execute_result"
    }
   ],
   "source": [
    "arr.data[0] # self , e1"
   ]
  },
  {
   "cell_type": "code",
   "execution_count": 54,
   "metadata": {},
   "outputs": [],
   "source": [
    "def search(arr, size, key):\n",
    "    \"\"\"\n",
    "    if key in arr then return loc of key in array \n",
    "    else return -1\n",
    "    \"\"\"\n",
    "    for i in range(size):\n",
    "        emp = arr.data[i]\n",
    "        if emp is None:\n",
    "            break\n",
    "        if emp.name.lower() == key.lower():\n",
    "            return i\n",
    "    return -1"
   ]
  },
  {
   "cell_type": "code",
   "execution_count": 55,
   "metadata": {},
   "outputs": [
    {
     "name": "stdout",
     "output_type": "stream",
     "text": [
      "\n",
      "        Name = Hari\n",
      "        Role = ML\n",
      "        Salary =80000\n",
      "        \n"
     ]
    }
   ],
   "source": [
    "if (ans:=search(arr, arr.size, 'hari')) != -1:\n",
    "    print(arr.data[ans])\n",
    "else:\n",
    "    print(\"object not found\")\n"
   ]
  },
  {
   "cell_type": "code",
   "execution_count": 56,
   "metadata": {},
   "outputs": [
    {
     "name": "stdout",
     "output_type": "stream",
     "text": [
      "employee: \n",
      "object not found\n"
     ]
    }
   ],
   "source": [
    "if (ans:=search(arr, arr.size, input('employee: '))) != -1:\n",
    "    print(arr.data[ans])\n",
    "else:\n",
    "    print(\"object not found\")\n"
   ]
  },
  {
   "cell_type": "code",
   "execution_count": 57,
   "metadata": {},
   "outputs": [
    {
     "name": "stdout",
     "output_type": "stream",
     "text": [
      "employee: sachin\n",
      "object not found\n"
     ]
    }
   ],
   "source": [
    "if (ans:=search(arr, arr.size, input('employee: '))) != -1:\n",
    "    print(arr.data[ans])\n",
    "else:\n",
    "    print(\"object not found\")\n"
   ]
  },
  {
   "cell_type": "code",
   "execution_count": 58,
   "metadata": {},
   "outputs": [],
   "source": [
    "arr = []\n",
    "for line in open('emps.csv'):\n",
    "    line = line.split(',')\n",
    "    line[-1] = int(line[-1])\n",
    "    e = Employee(*line)\n",
    "    arr.append(e)"
   ]
  },
  {
   "cell_type": "code",
   "execution_count": 59,
   "metadata": {},
   "outputs": [
    {
     "data": {
      "text/plain": [
       "[<__main__.Employee at 0x23328a6cfd0>,\n",
       " <__main__.Employee at 0x23328a6c7f0>,\n",
       " <__main__.Employee at 0x23328a8d9d0>,\n",
       " <__main__.Employee at 0x233289826d0>]"
      ]
     },
     "execution_count": 59,
     "metadata": {},
     "output_type": "execute_result"
    }
   ],
   "source": [
    "arr"
   ]
  },
  {
   "cell_type": "code",
   "execution_count": 63,
   "metadata": {},
   "outputs": [
    {
     "data": {
      "text/plain": [
       "1"
      ]
     },
     "execution_count": 63,
     "metadata": {},
     "output_type": "execute_result"
    }
   ],
   "source": [
    "def search(arr, size, key):\n",
    "    \"\"\"\n",
    "    if key in arr then return loc of key in array \n",
    "    else return -1\n",
    "    \"\"\"\n",
    "    for i in range(size):\n",
    "        emp = arr[i]\n",
    "        if emp is None:\n",
    "            break\n",
    "        if emp.name.lower() == key.lower():\n",
    "            return i\n",
    "    return -1\n",
    "search(arr, len(arr), 'shyam')"
   ]
  },
  {
   "cell_type": "code",
   "execution_count": 64,
   "metadata": {},
   "outputs": [
    {
     "name": "stdout",
     "output_type": "stream",
     "text": [
      "\n",
      "        Name = Shyam\n",
      "        Role = DS\n",
      "        Salary =60000\n",
      "        \n"
     ]
    }
   ],
   "source": [
    "print(arr[1])"
   ]
  },
  {
   "cell_type": "code",
   "execution_count": 65,
   "metadata": {},
   "outputs": [],
   "source": [
    "data = [\n",
    "    ('sachin', 25), # tuple -> object of Player\n",
    "    ('simran', 23),\n",
    "    ('ravi', 22),\n",
    "    ('rajat', 35)\n",
    "]"
   ]
  },
  {
   "cell_type": "code",
   "execution_count": 66,
   "metadata": {},
   "outputs": [
    {
     "data": {
      "text/plain": [
       "[('rajat', 35), ('sachin', 25), ('simran', 23), ('ravi', 22)]"
      ]
     },
     "execution_count": 66,
     "metadata": {},
     "output_type": "execute_result"
    }
   ],
   "source": [
    "def func(value):\n",
    "    return value[1]\n",
    "data.sort(reverse=True, key=func)\n",
    "\n",
    "data"
   ]
  },
  {
   "cell_type": "code",
   "execution_count": null,
   "metadata": {},
   "outputs": [],
   "source": [
    "#lex_auth_0127426391777280001519\n",
    "\n",
    "class Player:\n",
    "    def __init__(self,name,experience):\n",
    "        self.__name=name\n",
    "        self.__experience=experience\n",
    "\n",
    "    def get_name(self):\n",
    "        return self.__name\n",
    "\n",
    "    def get_experience(self):\n",
    "        return self.__experience\n",
    "\n",
    "    def __str__(self):\n",
    "        return(self.__name+\" \"+(str)(self.__experience))\n",
    "\n",
    "#Implement Game class here\n",
    "class Game:\n",
    "    pass\n",
    "player1=Player(\"Dhoni\",15)\n",
    "player2=Player(\"Virat\",10)\n",
    "player3=Player(\"Rohit\",12)\n",
    "player4=Player(\"Raina\",11)\n",
    "player5=Player(\"Jadeja\",13)\n",
    "player6=Player(\"Ishant\",9)\n",
    "player7=Player(\"Shikhar\",8)\n",
    "player8=Player(\"Axar\",7.5)\n",
    "player9=Player(\"Ashwin\",6)\n",
    "player10=Player(\"Stuart\",7)\n",
    "player11=Player(\"Bhuvneshwar\",5)\n",
    "#Add different values to the list and test the program\n",
    "players_list=[player1,player2,player3,player4,player5,player6,player7,player8,player9,player10,player11]\n",
    "#Create object of Game class, invoke the methods and test your program\n",
    "\n",
    "\n"
   ]
  },
  {
   "cell_type": "markdown",
   "metadata": {},
   "source": [
    "### Linked List \n",
    "\n"
   ]
  },
  {
   "cell_type": "code",
   "execution_count": null,
   "metadata": {},
   "outputs": [],
   "source": []
  }
 ],
 "metadata": {
  "kernelspec": {
   "display_name": "Python 3",
   "language": "python",
   "name": "python3"
  },
  "language_info": {
   "codemirror_mode": {
    "name": "ipython",
    "version": 3
   },
   "file_extension": ".py",
   "mimetype": "text/x-python",
   "name": "python",
   "nbconvert_exporter": "python",
   "pygments_lexer": "ipython3",
   "version": "3.8.3"
  }
 },
 "nbformat": 4,
 "nbformat_minor": 4
}
