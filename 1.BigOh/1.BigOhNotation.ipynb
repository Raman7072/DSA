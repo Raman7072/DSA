{
 "cells": [
  {
   "cell_type": "markdown",
   "metadata": {},
   "source": [
    "## Do this Question using recursion..\n",
    "# Ques:\n",
    "    You are a bank account hacker.Initially you have 1 rupee in your account, and you want exactly N rupees in your \n",
    "    account.You wrote two hacks, First hack can multiply the amount of money you own by 10, while the second can multiply\n",
    "    it by 20. These hacks can be used any number of time . Can you achieve the desired amount N using these hacks.\n",
    "    \n",
    "# Constraints:\n",
    "    1<=T<=100\n",
    "    1<=N<=10^12\n",
    "\n",
    "# Input:\n",
    "    The first line of the input contains a single integer T denoting the number of test cases.\n",
    "    The description of T test cases follows.The first and only line of each test case contains a single integer N.  \n",
    "\n",
    "# Output:\n",
    "    For each test case, print a single line containing the string \"Yes\" if you can make exactly N rupees or \"No\" otherwise.\n",
    "\n",
    "# SAMPLE INPUT: \n",
    "    5\n",
    "    1\n",
    "    2\n",
    "    10\n",
    "    25\n",
    "    200\n",
    "\n",
    "# SAMPLE OUTPUT: \n",
    "    Yes\n",
    "    No\n",
    "    Yes\n",
    "    No\n",
    "    Yes\n",
    "\n",
    "# Explanation:\n",
    "    In the last case hacker can get Rs. 200 by first using 10x hack and then using 20x hack once. 1 -> 10 -> 200"
   ]
  },
  {
   "cell_type": "code",
   "execution_count": 6,
   "metadata": {},
   "outputs": [
    {
     "name": "stdout",
     "output_type": "stream",
     "text": [
      "yes\n"
     ]
    }
   ],
   "source": [
    "amount = 400\n",
    "if amount == 1 or (amount % 10 == 0 or amount % 20 == 0):\n",
    "    print('yes')"
   ]
  },
  {
   "cell_type": "code",
   "execution_count": null,
   "metadata": {},
   "outputs": [],
   "source": [
    "curr = 1\n",
    "\n",
    "amount = 200\n",
    "\n",
    "amount / curr * 20 == 0:\n",
    "    curr = curr * 20\n"
   ]
  },
  {
   "cell_type": "markdown",
   "metadata": {},
   "source": [
    "    100\n",
    "\n",
    "    1 * 10 -> 10 * 10 -> 100\n",
    "    \n",
    "    1 * 10 -> 10 * 20 -> 200\n",
    "    \n",
    "    1 * 20 -> 20 * \n",
    "    \n",
    "    1 * 10 -> 10"
   ]
  },
  {
   "cell_type": "code",
   "execution_count": 45,
   "metadata": {},
   "outputs": [],
   "source": [
    "def check_hack(amount):\n",
    "    curr = 1\n",
    "    if amount == 100:\n",
    "        return 'Yes'\n",
    "    while curr < amount:\n",
    "        if amount % (curr * 20) == 0:\n",
    "            curr = curr * 20\n",
    "        else:\n",
    "            curr = curr * 10\n",
    "    if amount == curr:\n",
    "        return 'Yes'\n",
    "    return 'No'\n",
    "\n",
    "        "
   ]
  },
  {
   "cell_type": "code",
   "execution_count": 59,
   "metadata": {},
   "outputs": [
    {
     "data": {
      "text/plain": [
       "5"
      ]
     },
     "execution_count": 59,
     "metadata": {},
     "output_type": "execute_result"
    }
   ],
   "source": [
    "100 // 20"
   ]
  },
  {
   "cell_type": "code",
   "execution_count": 60,
   "metadata": {},
   "outputs": [
    {
     "data": {
      "text/plain": [
       "15"
      ]
     },
     "execution_count": 60,
     "metadata": {},
     "output_type": "execute_result"
    }
   ],
   "source": [
    "300 // 20"
   ]
  },
  {
   "cell_type": "code",
   "execution_count": 61,
   "metadata": {},
   "outputs": [
    {
     "data": {
      "text/plain": [
       "1"
      ]
     },
     "execution_count": 61,
     "metadata": {},
     "output_type": "execute_result"
    }
   ],
   "source": [
    "15 // 10"
   ]
  },
  {
   "cell_type": "code",
   "execution_count": null,
   "metadata": {},
   "outputs": [],
   "source": [
    "300\n",
    "\n",
    "2\n",
    "\n",
    "2\n",
    "\n",
    "2\n",
    "\n",
    "2\n",
    "\n",
    "5\n"
   ]
  },
  {
   "cell_type": "code",
   "execution_count": null,
   "metadata": {},
   "outputs": [],
   "source": [
    "200 \n",
    "\n",
    "2\n",
    "\n",
    "2\n",
    "\n",
    "2\n",
    "\n",
    "5\n",
    "\n",
    "5"
   ]
  },
  {
   "cell_type": "code",
   "execution_count": null,
   "metadata": {},
   "outputs": [],
   "source": [
    "800\n",
    "\n",
    "8"
   ]
  },
  {
   "cell_type": "code",
   "execution_count": 68,
   "metadata": {},
   "outputs": [
    {
     "data": {
      "text/plain": [
       "20000"
      ]
     },
     "execution_count": 68,
     "metadata": {},
     "output_type": "execute_result"
    }
   ],
   "source": [
    "10 * 10 * 10 * 20"
   ]
  },
  {
   "cell_type": "code",
   "execution_count": 66,
   "metadata": {},
   "outputs": [],
   "source": [
    "def check_hack(amount):\n",
    "    while amount > 1:\n",
    "        if amount % 20 == 0:\n",
    "            amount = amount // 20\n",
    "        elif amount % 10 == 0:\n",
    "            amount = amount // 10\n",
    "        else:\n",
    "            return 'No'\n",
    "    if amount == 1:\n",
    "        return \"Yes\"\n",
    "    return \"No\""
   ]
  },
  {
   "cell_type": "code",
   "execution_count": 67,
   "metadata": {},
   "outputs": [
    {
     "name": "stdout",
     "output_type": "stream",
     "text": [
      "1 ----> Yes\n",
      "10 ----> Yes\n",
      "80 ----> No\n",
      "60 ----> No\n",
      "100 ----> No\n",
      "200 ----> Yes\n",
      "300 ----> No\n",
      "400 ----> Yes\n",
      "600 ----> No\n",
      "800 ----> No\n",
      "900 ----> No\n",
      "2000 ----> No\n",
      "4000 ----> Yes\n"
     ]
    }
   ],
   "source": [
    "for amount in [1, 10, 80, 60, 100, 200, 300, 400, 600, 800, 900,2000,  4000]:\n",
    "    print(f\"{amount} ----> {check_hack(amount)}\")"
   ]
  },
  {
   "cell_type": "code",
   "execution_count": 55,
   "metadata": {},
   "outputs": [
    {
     "data": {
      "text/plain": [
       "4000"
      ]
     },
     "execution_count": 55,
     "metadata": {},
     "output_type": "execute_result"
    }
   ],
   "source": [
    "20 * 20 * 10"
   ]
  },
  {
   "cell_type": "code",
   "execution_count": 56,
   "metadata": {},
   "outputs": [
    {
     "data": {
      "text/plain": [
       "200"
      ]
     },
     "execution_count": 56,
     "metadata": {},
     "output_type": "execute_result"
    }
   ],
   "source": [
    "4000 // 20"
   ]
  },
  {
   "cell_type": "code",
   "execution_count": 50,
   "metadata": {},
   "outputs": [
    {
     "data": {
      "text/plain": [
       "100"
      ]
     },
     "execution_count": 50,
     "metadata": {},
     "output_type": "execute_result"
    }
   ],
   "source": [
    "2000 // 20"
   ]
  },
  {
   "cell_type": "code",
   "execution_count": 52,
   "metadata": {},
   "outputs": [
    {
     "data": {
      "text/plain": [
       "0"
      ]
     },
     "execution_count": 52,
     "metadata": {},
     "output_type": "execute_result"
    }
   ],
   "source": [
    "100 % 10"
   ]
  },
  {
   "cell_type": "code",
   "execution_count": 53,
   "metadata": {},
   "outputs": [
    {
     "data": {
      "text/plain": [
       "10"
      ]
     },
     "execution_count": 53,
     "metadata": {},
     "output_type": "execute_result"
    }
   ],
   "source": [
    "100 // 10"
   ]
  },
  {
   "cell_type": "code",
   "execution_count": 54,
   "metadata": {},
   "outputs": [
    {
     "data": {
      "text/plain": [
       "1"
      ]
     },
     "execution_count": 54,
     "metadata": {},
     "output_type": "execute_result"
    }
   ],
   "source": [
    "10 // 10"
   ]
  },
  {
   "cell_type": "code",
   "execution_count": 46,
   "metadata": {},
   "outputs": [
    {
     "data": {
      "text/plain": [
       "0"
      ]
     },
     "execution_count": 46,
     "metadata": {},
     "output_type": "execute_result"
    }
   ],
   "source": [
    "2000 % (20*20)"
   ]
  },
  {
   "cell_type": "code",
   "execution_count": 47,
   "metadata": {},
   "outputs": [
    {
     "data": {
      "text/plain": [
       "2000"
      ]
     },
     "execution_count": 47,
     "metadata": {},
     "output_type": "execute_result"
    }
   ],
   "source": [
    "10 * 10 * 20"
   ]
  },
  {
   "cell_type": "code",
   "execution_count": 48,
   "metadata": {},
   "outputs": [
    {
     "name": "stdout",
     "output_type": "stream",
     "text": [
      "1 ----> Yes\n",
      "10 ----> Yes\n",
      "80 ----> No\n",
      "60 ----> No\n",
      "100 ----> Yes\n",
      "200 ----> Yes\n",
      "300 ----> No\n",
      "400 ----> Yes\n",
      "600 ----> No\n",
      "800 ----> No\n",
      "900 ----> No\n",
      "2000 ----> No\n",
      "4000 ----> Yes\n"
     ]
    }
   ],
   "source": [
    "for amount in [1, 10, 80, 60, 100, 200, 300, 400, 600, 800, 900,2000,  4000]:\n",
    "    print(f\"{amount} ----> {check_hack(amount)}\")"
   ]
  },
  {
   "cell_type": "code",
   "execution_count": null,
   "metadata": {},
   "outputs": [],
   "source": []
  },
  {
   "cell_type": "code",
   "execution_count": null,
   "metadata": {},
   "outputs": [],
   "source": []
  },
  {
   "cell_type": "code",
   "execution_count": null,
   "metadata": {},
   "outputs": [],
   "source": []
  },
  {
   "cell_type": "code",
   "execution_count": 7,
   "metadata": {},
   "outputs": [],
   "source": [
    "def check_hack(amount, own=1):\n",
    "    if own == amount:\n",
    "        return 'Yes'\n",
    "    elif own > amount:\n",
    "        return 'No'\n",
    "    else:\n",
    "        if amount % 2 == 0\n",
    "        return check_hack(amount, own=own*10)\n",
    "# 100"
   ]
  },
  {
   "cell_type": "code",
   "execution_count": 8,
   "metadata": {},
   "outputs": [
    {
     "data": {
      "text/plain": [
       "'Yes'"
      ]
     },
     "execution_count": 8,
     "metadata": {},
     "output_type": "execute_result"
    }
   ],
   "source": [
    "check_hack(10)"
   ]
  },
  {
   "cell_type": "code",
   "execution_count": 9,
   "metadata": {},
   "outputs": [
    {
     "data": {
      "text/plain": [
       "'No'"
      ]
     },
     "execution_count": 9,
     "metadata": {},
     "output_type": "execute_result"
    }
   ],
   "source": [
    "check_hack(200)"
   ]
  },
  {
   "cell_type": "markdown",
   "metadata": {},
   "source": [
    "`Properties of Good Program`\n",
    "\n",
    "    1. Readable (no ambiguity, precise, clear)\n",
    "    2. Scalable \n",
    "    \n",
    "        Time -> program should be optimized to finish execution in less time (time efficient)\n",
    "        \n",
    "        Space"
   ]
  },
  {
   "cell_type": "markdown",
   "metadata": {},
   "source": [
    "### Big Oh Notation \n",
    "\n",
    "\n",
    "    no of inputs -> n \n",
    "    \n",
    "    \n",
    " O(n), O($n^2$) "
   ]
  },
  {
   "cell_type": "markdown",
   "metadata": {},
   "source": [
    "    why we don't measure time complexity in terms of time units like seconds or minutes ? "
   ]
  },
  {
   "cell_type": "markdown",
   "metadata": {},
   "source": [
    "     program-1           laptop 2nd gen 2gb ram              2hr\n",
    "    \n",
    "    \n",
    "    \n",
    "     program-1          laptop 5th gen   4gb ram             35 min\n",
    "        \n",
    "        \n",
    "        \n",
    "     Program-1          laptop  i11 gen   16gb ram            3 min     "
   ]
  },
  {
   "cell_type": "markdown",
   "metadata": {},
   "source": [
    "    to generalize the time of a program we use notation\n",
    "    \n",
    "    we count no of key comparisions or no of steps we need to execute to solve problem\n",
    "    \n",
    "    no of steps -> in terms of input size (n)"
   ]
  },
  {
   "cell_type": "markdown",
   "metadata": {},
   "source": [
    "    1 instruction (logical step) --> 1 unit of time (key operations)"
   ]
  },
  {
   "cell_type": "code",
   "execution_count": 69,
   "metadata": {},
   "outputs": [],
   "source": [
    "def sum_of_n(n):\n",
    "    s = 0\n",
    "    for i in range(1, n+1):\n",
    "        s += i\n",
    "    print(f\"sum of {n} numbers = {s}\")"
   ]
  },
  {
   "cell_type": "code",
   "execution_count": 71,
   "metadata": {},
   "outputs": [
    {
     "name": "stdout",
     "output_type": "stream",
     "text": [
      "sum of 10 numbers = 55\n"
     ]
    }
   ],
   "source": [
    "sum_of_n(10) # 10 -> input size, n = 10"
   ]
  },
  {
   "cell_type": "code",
   "execution_count": 72,
   "metadata": {},
   "outputs": [
    {
     "name": "stdout",
     "output_type": "stream",
     "text": [
      "sum of 20 numbers = 210\n"
     ]
    }
   ],
   "source": [
    "sum_of_n(20) # 20 -> input size, n = 20"
   ]
  },
  {
   "cell_type": "code",
   "execution_count": 82,
   "metadata": {},
   "outputs": [
    {
     "name": "stdout",
     "output_type": "stream",
     "text": [
      "sum of 10000000 numbers = 50000005000000\n",
      "Running Time:  1.9084267616271973\n"
     ]
    }
   ],
   "source": [
    "t1 = time.time()\n",
    "sum_of_n(10000000)\n",
    "t2 = time.time()\n",
    "\n",
    "t = t2 - t1\n",
    "print(\"Running Time: \", t)"
   ]
  },
  {
   "cell_type": "code",
   "execution_count": 83,
   "metadata": {},
   "outputs": [
    {
     "name": "stdout",
     "output_type": "stream",
     "text": [
      "sum of 10000000 numbers = 50000005000000\n",
      "Running Time:  1.4942057132720947\n"
     ]
    }
   ],
   "source": [
    "t1 = time.time()\n",
    "sum_of_n(10000000)\n",
    "t2 = time.time()\n",
    "\n",
    "t = t2 - t1\n",
    "print(\"Running Time: \", t)"
   ]
  },
  {
   "cell_type": "code",
   "execution_count": 85,
   "metadata": {},
   "outputs": [
    {
     "name": "stdout",
     "output_type": "stream",
     "text": [
      "sum of 10000000 numbers = 50000005000000\n",
      "Running Time:  2.038195848464966\n"
     ]
    }
   ],
   "source": [
    "t1 = time.time()\n",
    "sum_of_n(10000000)\n",
    "t2 = time.time()\n",
    "\n",
    "t = t2 - t1\n",
    "print(\"Running Time: \", t)"
   ]
  },
  {
   "cell_type": "code",
   "execution_count": 84,
   "metadata": {},
   "outputs": [
    {
     "name": "stdout",
     "output_type": "stream",
     "text": [
      "sum of 10000000 numbers = 50000005000000\n",
      "Running Time:  1.2654130458831787\n"
     ]
    }
   ],
   "source": [
    "t1 = time.time()\n",
    "sum_of_n(10000000)\n",
    "t2 = time.time()\n",
    "\n",
    "t = t2 - t1\n",
    "print(\"Running Time: \", t)"
   ]
  },
  {
   "cell_type": "code",
   "execution_count": 73,
   "metadata": {},
   "outputs": [],
   "source": [
    "import time"
   ]
  },
  {
   "cell_type": "code",
   "execution_count": 74,
   "metadata": {},
   "outputs": [
    {
     "data": {
      "text/plain": [
       "1627470590.5722308"
      ]
     },
     "execution_count": 74,
     "metadata": {},
     "output_type": "execute_result"
    }
   ],
   "source": [
    "time.time()"
   ]
  },
  {
   "cell_type": "code",
   "execution_count": 75,
   "metadata": {},
   "outputs": [
    {
     "data": {
      "text/plain": [
       "1627470598.9984615"
      ]
     },
     "execution_count": 75,
     "metadata": {},
     "output_type": "execute_result"
    }
   ],
   "source": [
    "time.time()"
   ]
  },
  {
   "cell_type": "code",
   "execution_count": 86,
   "metadata": {},
   "outputs": [],
   "source": [
    "def sum_of_n(n):\n",
    "    s = 0\n",
    "    for i in range(1, n+1):\n",
    "        s += i\n",
    "    return s\n"
   ]
  },
  {
   "cell_type": "markdown",
   "metadata": {},
   "source": [
    "    generalize -> 10000 -> average"
   ]
  },
  {
   "cell_type": "code",
   "execution_count": 87,
   "metadata": {},
   "outputs": [
    {
     "name": "stdout",
     "output_type": "stream",
     "text": [
      "19.4 ms ± 3.63 ms per loop (mean ± std. dev. of 7 runs, 100 loops each)\n"
     ]
    }
   ],
   "source": [
    "%%timeit\n",
    "sum_of_n(100000)"
   ]
  },
  {
   "cell_type": "code",
   "execution_count": 88,
   "metadata": {},
   "outputs": [
    {
     "name": "stdout",
     "output_type": "stream",
     "text": [
      "18.3 ms ± 1.6 ms per loop (mean ± std. dev. of 7 runs, 100 loops each)\n"
     ]
    }
   ],
   "source": [
    "%%timeit\n",
    "sum_of_n(100000)"
   ]
  },
  {
   "cell_type": "markdown",
   "metadata": {},
   "source": [
    "#### Performance of Program \n",
    "\n",
    "\n",
    "    Time Complexity  => no of key steps you need execute to solve problem\n",
    "    \n",
    "        "
   ]
  },
  {
   "cell_type": "markdown",
   "metadata": {},
   "source": [
    "    Using Notation we can easily compare two function to decide which is one is better "
   ]
  },
  {
   "cell_type": "markdown",
   "metadata": {},
   "source": [
    "#### Big Oh, Omega, Theta Notation"
   ]
  },
  {
   "cell_type": "code",
   "execution_count": 89,
   "metadata": {},
   "outputs": [],
   "source": [
    "def sum_of_n(n):\n",
    "    s = 0 # 1\n",
    "    for i in range(1, n+1): # 1, 2, 3, 4, ..., n\n",
    "        s += i # n\n",
    "    print(f\"sum of {n} numbers = {s}\")# 1\n",
    "    \n",
    "# T(n) = O(1 + n + 1) = O(n + 2)"
   ]
  },
  {
   "cell_type": "code",
   "execution_count": 97,
   "metadata": {},
   "outputs": [
    {
     "name": "stdout",
     "output_type": "stream",
     "text": [
      "sum of 100 numbers = 5050\n"
     ]
    }
   ],
   "source": [
    "sum_of_n(100)"
   ]
  },
  {
   "cell_type": "code",
   "execution_count": 95,
   "metadata": {},
   "outputs": [],
   "source": [
    "def sum_num(n):\n",
    "    s = int(n*(n +1) / 2) # 1\n",
    "    print(f\"sum of {n} numbers = {s}\")# 1\n",
    "    \n",
    "# T(n) = O(1 + 1 ) -> O( 2)"
   ]
  },
  {
   "cell_type": "code",
   "execution_count": 98,
   "metadata": {},
   "outputs": [
    {
     "name": "stdout",
     "output_type": "stream",
     "text": [
      "sum of 100 numbers = 5050\n"
     ]
    }
   ],
   "source": [
    "sum_num(100)"
   ]
  },
  {
   "cell_type": "code",
   "execution_count": 99,
   "metadata": {},
   "outputs": [],
   "source": [
    "def sum_of_n(n):\n",
    "    s = 0 # 1\n",
    "    for i in range(1, n+1): # 1, 2, 3, 4, ..., n\n",
    "        s += i # n\n",
    "    #print(f\"sum of {n} numbers = {s}\")# 1\n",
    "    return s\n",
    "# T(n) = O(1 + n + 1) = O(n + 2) -> O(n)"
   ]
  },
  {
   "cell_type": "code",
   "execution_count": 100,
   "metadata": {},
   "outputs": [
    {
     "name": "stdout",
     "output_type": "stream",
     "text": [
      "168 µs ± 15.7 µs per loop (mean ± std. dev. of 7 runs, 10000 loops each)\n"
     ]
    }
   ],
   "source": [
    "%%timeit\n",
    "sum_of_n(1000)"
   ]
  },
  {
   "cell_type": "code",
   "execution_count": 101,
   "metadata": {},
   "outputs": [],
   "source": [
    "def sum_num(n):\n",
    "    s = int(n*(n +1) / 2) # 1\n",
    "    #print(f\"sum of {n} numbers = {s}\")# 1\n",
    "    return s\n",
    "# T(n) = O(1 + 1 ) -> O( 2) -> O(1)"
   ]
  },
  {
   "cell_type": "code",
   "execution_count": 102,
   "metadata": {},
   "outputs": [
    {
     "name": "stdout",
     "output_type": "stream",
     "text": [
      "769 ns ± 83.4 ns per loop (mean ± std. dev. of 7 runs, 1000000 loops each)\n"
     ]
    }
   ],
   "source": [
    "%%timeit\n",
    "sum_num(1000)"
   ]
  },
  {
   "cell_type": "markdown",
   "metadata": {},
   "source": [
    "![graph](graph.jpg)"
   ]
  },
  {
   "cell_type": "code",
   "execution_count": null,
   "metadata": {},
   "outputs": [],
   "source": []
  }
 ],
 "metadata": {
  "kernelspec": {
   "display_name": "Python 3",
   "language": "python",
   "name": "python3"
  },
  "language_info": {
   "codemirror_mode": {
    "name": "ipython",
    "version": 3
   },
   "file_extension": ".py",
   "mimetype": "text/x-python",
   "name": "python",
   "nbconvert_exporter": "python",
   "pygments_lexer": "ipython3",
   "version": "3.8.3"
  }
 },
 "nbformat": 4,
 "nbformat_minor": 4
}
