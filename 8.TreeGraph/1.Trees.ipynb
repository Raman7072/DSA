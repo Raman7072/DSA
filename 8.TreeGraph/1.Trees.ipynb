{
 "cells": [
  {
   "cell_type": "markdown",
   "metadata": {},
   "source": [
    "## Tree \n"
   ]
  },
  {
   "cell_type": "markdown",
   "metadata": {},
   "source": [
    "    Tree is non-linear Data Structure used to store hierarchical Data"
   ]
  },
  {
   "cell_type": "markdown",
   "metadata": {},
   "source": [
    "### Binary Search Tree Implementation "
   ]
  },
  {
   "cell_type": "code",
   "execution_count": 2,
   "metadata": {},
   "outputs": [],
   "source": [
    "class Node:\n",
    "    def __init__(self, data):\n",
    "        self.data = data\n",
    "        self.left = None\n",
    "        self.right = None"
   ]
  },
  {
   "cell_type": "code",
   "execution_count": 3,
   "metadata": {},
   "outputs": [],
   "source": [
    "a = Node(50)\n",
    "b = Node(40)\n",
    "c = Node(60)\n",
    "d = Node(30)\n",
    "e = Node(45)\n",
    "f = Node(55)\n",
    "g = Node(70)\n",
    "h = Node(20)\n",
    "i = Node(35)\n",
    "\n",
    "root       = a\n",
    "a.left     = b\n",
    "a.right    = c\n",
    "b.left     = d\n",
    "b.right    = e\n",
    "d.left     = h\n",
    "d.right    = i\n",
    "\n",
    "c.left     = f\n",
    "c.right    = g\n",
    "\n",
    "del a, b, c, d, e ,f, g, h, i"
   ]
  },
  {
   "cell_type": "code",
   "execution_count": 4,
   "metadata": {},
   "outputs": [
    {
     "data": {
      "text/plain": [
       "<__main__.Node at 0x1ebce0eeb50>"
      ]
     },
     "execution_count": 4,
     "metadata": {},
     "output_type": "execute_result"
    }
   ],
   "source": [
    "root"
   ]
  },
  {
   "cell_type": "code",
   "execution_count": 17,
   "metadata": {},
   "outputs": [],
   "source": [
    "def In_order(root):\n",
    "    if root is None:\n",
    "        return \n",
    "    In_order(root.left)\n",
    "    print(root.data, end='->')\n",
    "    In_order(root.right)\n",
    "    "
   ]
  },
  {
   "cell_type": "code",
   "execution_count": 18,
   "metadata": {},
   "outputs": [
    {
     "name": "stdout",
     "output_type": "stream",
     "text": [
      "20->30->35->40->45->50->55->60->70->"
     ]
    }
   ],
   "source": [
    "In_order(root)"
   ]
  },
  {
   "cell_type": "code",
   "execution_count": 5,
   "metadata": {},
   "outputs": [],
   "source": [
    "def Pre_Order(root):\n",
    "    if root is None:\n",
    "        return \n",
    "    print(root.data, end='-> ')\n",
    "    Pre_Order(root.left)\n",
    "    Pre_Order(root.right)\n",
    "    "
   ]
  },
  {
   "cell_type": "code",
   "execution_count": 22,
   "metadata": {},
   "outputs": [
    {
     "name": "stdout",
     "output_type": "stream",
     "text": [
      "50->40->30->20->35->45->60->55->70->"
     ]
    }
   ],
   "source": [
    "Pre_Order(root)"
   ]
  },
  {
   "cell_type": "code",
   "execution_count": 23,
   "metadata": {},
   "outputs": [],
   "source": [
    "def Post_Order(root):\n",
    "    if root is None:\n",
    "        return \n",
    "    Post_Order(root.left)\n",
    "    Post_Order(root.right)\n",
    "    print(root.data, end='->')\n",
    "    "
   ]
  },
  {
   "cell_type": "code",
   "execution_count": 24,
   "metadata": {},
   "outputs": [
    {
     "name": "stdout",
     "output_type": "stream",
     "text": [
      "20->35->30->45->40->55->70->60->50->"
     ]
    }
   ],
   "source": [
    "Post_Order(root)"
   ]
  },
  {
   "cell_type": "markdown",
   "metadata": {},
   "source": [
    "### construct a binary search tree"
   ]
  },
  {
   "cell_type": "code",
   "execution_count": 15,
   "metadata": {},
   "outputs": [],
   "source": [
    "class Node:\n",
    "    def __init__(self, data):\n",
    "        self.data = data\n",
    "        self.left = None\n",
    "        self.right = None\n",
    "        \n",
    "class BST:\n",
    "    def __init__(self):\n",
    "        self.root = None\n",
    "    def insert(self, root, data):\n",
    "        if self.root is None:\n",
    "            node = Node(data)\n",
    "            self.root = node\n",
    "            return\n",
    "        \n",
    "        if root.data > data:\n",
    "            if root.left is None:\n",
    "                root.left = Node(data)\n",
    "            else:\n",
    "                self.insert(root.left, data)\n",
    "        else:\n",
    "            if root.right is None:\n",
    "                root.right = Node(data)\n",
    "            else:\n",
    "                self.insert(root.right, data)\n",
    "    def inorder(self, root):\n",
    "        if root is None:\n",
    "            return\n",
    "        self.inorder(root.left)\n",
    "        print(root.data, end='-> ')\n",
    "        self.inorder(root.right)\n",
    "    def preorder(self, root):\n",
    "        if root is None:\n",
    "            return\n",
    "        print(root.data, end='-> ')\n",
    "        self.preorder(root.left)\n",
    "        self.preorder(root.right)\n",
    "    def postorder(self, root):\n",
    "        if root is None:\n",
    "            return\n",
    "        self.postorder(root.left)\n",
    "        self.postorder(root.right)\n",
    "        print(root.data, end='-> ')\n",
    "        "
   ]
  },
  {
   "cell_type": "code",
   "execution_count": 19,
   "metadata": {},
   "outputs": [],
   "source": [
    "tree = BST()"
   ]
  },
  {
   "cell_type": "code",
   "execution_count": 21,
   "metadata": {},
   "outputs": [],
   "source": [
    "tree.preorder(tree.root)\n",
    "tree.inorder(tree.root)\n",
    "tree.postorder(tree.root)"
   ]
  },
  {
   "cell_type": "code",
   "execution_count": 22,
   "metadata": {},
   "outputs": [],
   "source": []
  },
  {
   "cell_type": "code",
   "execution_count": 23,
   "metadata": {},
   "outputs": [],
   "source": [
    "arr = [ 50, 30, 20, 10, 40, 70, 60, 90, 80, 100]\n",
    "for item in arr:\n",
    "    tree.insert(tree.root, item)\n"
   ]
  },
  {
   "cell_type": "code",
   "execution_count": 25,
   "metadata": {},
   "outputs": [
    {
     "name": "stdout",
     "output_type": "stream",
     "text": [
      "50-> 30-> 20-> 10-> 40-> 70-> 60-> 90-> 80-> 100-> "
     ]
    }
   ],
   "source": [
    "tree.preorder(tree.root)"
   ]
  },
  {
   "cell_type": "code",
   "execution_count": 26,
   "metadata": {},
   "outputs": [
    {
     "name": "stdout",
     "output_type": "stream",
     "text": [
      "10-> 20-> 30-> 40-> 50-> 60-> 70-> 80-> 90-> 100-> "
     ]
    }
   ],
   "source": [
    "tree.inorder(tree.root)"
   ]
  },
  {
   "cell_type": "code",
   "execution_count": 27,
   "metadata": {},
   "outputs": [
    {
     "name": "stdout",
     "output_type": "stream",
     "text": [
      "10-> 20-> 40-> 30-> 60-> 80-> 100-> 90-> 70-> 50-> "
     ]
    }
   ],
   "source": [
    "tree.postorder(tree.root)"
   ]
  },
  {
   "cell_type": "code",
   "execution_count": 28,
   "metadata": {},
   "outputs": [],
   "source": [
    "class Node:\n",
    "    def __init__(self, data):\n",
    "        self.data = data\n",
    "        self.left = None\n",
    "        self.right = None\n",
    "        \n",
    "class BST:\n",
    "    def __init__(self, data):\n",
    "        self.root = Node(data)\n",
    "    def insert(self, root, data):\n",
    "        if root.data > data:\n",
    "            if root.left is None:\n",
    "                root.left = Node(data)\n",
    "            else:\n",
    "                self.insert(root.left, data)\n",
    "        else:\n",
    "            if root.right is None:\n",
    "                root.right = Node(data)\n",
    "            else:\n",
    "                self.insert(root.right, data)\n",
    "    def inorder(self, root):\n",
    "        if root is None:\n",
    "            return\n",
    "        self.inorder(root.left)\n",
    "        print(root.data, end='-> ')\n",
    "        self.inorder(root.right)\n",
    "    def preorder(self, root):\n",
    "        if root is None:\n",
    "            return\n",
    "        print(root.data, end='-> ')\n",
    "        self.preorder(root.left)\n",
    "        self.preorder(root.right)\n",
    "    def postorder(self, root):\n",
    "        if root is None:\n",
    "            return\n",
    "        self.postorder(root.left)\n",
    "        self.postorder(root.right)\n",
    "        print(root.data, end='-> ')\n",
    "        "
   ]
  },
  {
   "cell_type": "code",
   "execution_count": 29,
   "metadata": {},
   "outputs": [],
   "source": [
    "tree = BST(50)"
   ]
  },
  {
   "cell_type": "code",
   "execution_count": 30,
   "metadata": {},
   "outputs": [],
   "source": [
    "arr = [ 30, 20, 10, 40, 70, 60, 90, 80, 100]\n",
    "for item in arr:\n",
    "    tree.insert(tree.root, item)\n"
   ]
  },
  {
   "cell_type": "code",
   "execution_count": 31,
   "metadata": {},
   "outputs": [
    {
     "name": "stdout",
     "output_type": "stream",
     "text": [
      "50-> 30-> 20-> 10-> 40-> 70-> 60-> 90-> 80-> 100-> "
     ]
    }
   ],
   "source": [
    "tree.preorder(tree.root)"
   ]
  },
  {
   "cell_type": "code",
   "execution_count": 32,
   "metadata": {},
   "outputs": [
    {
     "name": "stdout",
     "output_type": "stream",
     "text": [
      "10-> 20-> 40-> 30-> 60-> 80-> 100-> 90-> 70-> 50-> "
     ]
    }
   ],
   "source": [
    "tree.postorder(tree.root)"
   ]
  },
  {
   "cell_type": "code",
   "execution_count": 33,
   "metadata": {},
   "outputs": [
    {
     "name": "stdout",
     "output_type": "stream",
     "text": [
      "10-> 20-> 30-> 40-> 50-> 60-> 70-> 80-> 90-> 100-> "
     ]
    }
   ],
   "source": [
    "tree.inorder(tree.root)"
   ]
  },
  {
   "cell_type": "code",
   "execution_count": 37,
   "metadata": {},
   "outputs": [],
   "source": [
    "class BST:\n",
    "    def __init__(self, data):\n",
    "        self.info = data\n",
    "        self.left = None\n",
    "        self.right = None\n",
    "    def insert(self, data):\n",
    "        if self.info > data:\n",
    "            if self.left is None:\n",
    "                self.left = BST(data)\n",
    "            else:\n",
    "                self.left.insert(data)\n",
    "        else:\n",
    "            if self.right is None:\n",
    "                self.right = BST(data)\n",
    "            else:\n",
    "                self.right.insert(data)\n",
    "    def inorder(self):\n",
    "        if self.left is not None:\n",
    "            self.left.inorder()\n",
    "        print(self.info, end='-> ')\n",
    "        if self.right is not None:\n",
    "            self.right.inorder()\n",
    "        \n",
    "    def preorder(self):\n",
    "        print(self.info, end='-> ')\n",
    "        if self.left is not None:\n",
    "            self.left.preorder()\n",
    "        if self.right is not None:\n",
    "            self.right.preorder()\n",
    "            \n",
    "    def postorder(self):\n",
    "        if self.left is not None:\n",
    "            self.left.postorder()\n",
    "        if self.right is not None:\n",
    "            self.right.postorder()\n",
    "        print(self.info, end='-> ')"
   ]
  },
  {
   "cell_type": "code",
   "execution_count": 38,
   "metadata": {},
   "outputs": [],
   "source": [
    "tree = BST(50)\n",
    "arr = [ 30, 20, 10, 40, 70, 60, 90, 80, 100]\n",
    "for item in arr:\n",
    "    tree.insert(item)"
   ]
  },
  {
   "cell_type": "code",
   "execution_count": 39,
   "metadata": {},
   "outputs": [
    {
     "name": "stdout",
     "output_type": "stream",
     "text": [
      "50-> 30-> 20-> 10-> 40-> 70-> 60-> 90-> 80-> 100-> "
     ]
    }
   ],
   "source": [
    "tree.preorder()"
   ]
  },
  {
   "cell_type": "code",
   "execution_count": 40,
   "metadata": {},
   "outputs": [
    {
     "name": "stdout",
     "output_type": "stream",
     "text": [
      "10-> 20-> 40-> 30-> 60-> 80-> 100-> 90-> 70-> 50-> "
     ]
    }
   ],
   "source": [
    "tree.postorder()"
   ]
  },
  {
   "cell_type": "code",
   "execution_count": 41,
   "metadata": {},
   "outputs": [
    {
     "name": "stdout",
     "output_type": "stream",
     "text": [
      "10-> 20-> 30-> 40-> 50-> 60-> 70-> 80-> 90-> 100-> "
     ]
    }
   ],
   "source": [
    "tree.inorder()"
   ]
  },
  {
   "cell_type": "code",
   "execution_count": 1,
   "metadata": {},
   "outputs": [],
   "source": [
    "import sys"
   ]
  },
  {
   "cell_type": "code",
   "execution_count": 2,
   "metadata": {},
   "outputs": [
    {
     "data": {
      "text/plain": [
       "3000"
      ]
     },
     "execution_count": 2,
     "metadata": {},
     "output_type": "execute_result"
    }
   ],
   "source": [
    "sys.getrecursionlimit()"
   ]
  },
  {
   "cell_type": "code",
   "execution_count": 46,
   "metadata": {},
   "outputs": [],
   "source": [
    "class BST:\n",
    "    def __init__(self, value):\n",
    "        self.info = value\n",
    "        self.left = None\n",
    "        self.right = None\n",
    "    def insert(self, value):\n",
    "        tree = self\n",
    "        while True:\n",
    "            if tree.info > value:\n",
    "                # left sub tree\n",
    "                if tree.left is None:\n",
    "                    tree.left = BST(value)\n",
    "                    break\n",
    "                else:\n",
    "                    tree = tree.left\n",
    "            else:\n",
    "                # right sub tree\n",
    "                if tree.right is None:\n",
    "                    tree.right = BST(value)\n",
    "                    break\n",
    "                else:\n",
    "                    tree = tree.right\n",
    "                    \n",
    "    def inorder(self):\n",
    "        if self.left is not None:\n",
    "            self.left.inorder()\n",
    "        print(self.info, end='-> ')\n",
    "        if self.right is not None:\n",
    "            self.right.inorder()\n",
    "        "
   ]
  },
  {
   "cell_type": "code",
   "execution_count": 47,
   "metadata": {},
   "outputs": [],
   "source": [
    "tree = BST(50)\n",
    "arr = [ 30, 20, 10, 40, 70, 60, 90, 80, 100]\n",
    "for item in arr:\n",
    "    tree.insert(item)"
   ]
  },
  {
   "cell_type": "code",
   "execution_count": 48,
   "metadata": {},
   "outputs": [
    {
     "name": "stdout",
     "output_type": "stream",
     "text": [
      "10-> 20-> 30-> 40-> 50-> 60-> 70-> 80-> 90-> 100-> "
     ]
    }
   ],
   "source": [
    "tree.inorder()"
   ]
  },
  {
   "cell_type": "code",
   "execution_count": 26,
   "metadata": {},
   "outputs": [],
   "source": [
    "class BST:\n",
    "    def __init__(self, value):\n",
    "        self.info = value\n",
    "        self.left = None\n",
    "        self.right = None\n",
    "    def insert(self, value):\n",
    "        tree = self\n",
    "        while True:\n",
    "            if tree.info > value:\n",
    "                # left sub tree\n",
    "                if tree.left is None:\n",
    "                    tree.left = BST(value)\n",
    "                    break\n",
    "                else:\n",
    "                    tree = tree.left\n",
    "            else:\n",
    "                # right sub tree\n",
    "                if tree.right is None:\n",
    "                    tree.right = BST(value)\n",
    "                    break\n",
    "                else:\n",
    "                    tree = tree.right\n",
    "                    \n",
    "    def preorder(self):\n",
    "        root = self\n",
    "        stack = []\n",
    "        stack.append(root)\n",
    "        while len(stack) > 0:\n",
    "            top = stack.pop()\n",
    "            print(top.info, end='-> ')\n",
    "            if top.right : stack.append(top.right)\n",
    "            if top.left  : stack.append(top.left)\n",
    "                \n",
    "    def inorder(self):\n",
    "        root = self\n",
    "        stack = []\n",
    "        while True:\n",
    "            while root is not None:\n",
    "                stack.append(root)\n",
    "                root = root.left\n",
    "            if len(stack) > 0:\n",
    "                top = stack.pop()\n",
    "                print(top.info, end='-> ')\n",
    "                root = top.right\n",
    "            else:\n",
    "                break\n",
    "            \n",
    "    def search(self, key):\n",
    "        if self is None:\n",
    "            return -1\n",
    "        if self.info == key:\n",
    "            # root node matches\n",
    "            return self\n",
    "        elif key < self.info:\n",
    "            # left subtree\n",
    "            if self.left is not None:\n",
    "                return self.left.search(key)\n",
    "            else:\n",
    "                return -1\n",
    "            #search(root.left)\n",
    "        else:\n",
    "            if self.right is not None:\n",
    "                return self.right.search(key)\n",
    "            else:\n",
    "                return -1\n",
    "        \n",
    "        "
   ]
  },
  {
   "cell_type": "code",
   "execution_count": 27,
   "metadata": {},
   "outputs": [],
   "source": [
    "tree = BST(50)\n",
    "arr = [ 30, 20, 10, 40, 70, 60, 90, 80, 100]\n",
    "for item in arr:\n",
    "    tree.insert(item)"
   ]
  },
  {
   "cell_type": "code",
   "execution_count": 34,
   "metadata": {},
   "outputs": [
    {
     "data": {
      "text/plain": [
       "80"
      ]
     },
     "execution_count": 34,
     "metadata": {},
     "output_type": "execute_result"
    }
   ],
   "source": [
    "tree.search(90).left.info"
   ]
  },
  {
   "cell_type": "code",
   "execution_count": 35,
   "metadata": {},
   "outputs": [
    {
     "data": {
      "text/plain": [
       "90"
      ]
     },
     "execution_count": 35,
     "metadata": {},
     "output_type": "execute_result"
    }
   ],
   "source": [
    "tree.search(90).info"
   ]
  },
  {
   "cell_type": "code",
   "execution_count": 37,
   "metadata": {},
   "outputs": [
    {
     "data": {
      "text/plain": [
       "100"
      ]
     },
     "execution_count": 37,
     "metadata": {},
     "output_type": "execute_result"
    }
   ],
   "source": [
    "tree.search(90).right.info"
   ]
  },
  {
   "cell_type": "code",
   "execution_count": 11,
   "metadata": {},
   "outputs": [
    {
     "name": "stdout",
     "output_type": "stream",
     "text": [
      "50-> 30-> 20-> 10-> 40-> 70-> 60-> 90-> 80-> 100-> "
     ]
    }
   ],
   "source": [
    "tree.preorder()"
   ]
  },
  {
   "cell_type": "code",
   "execution_count": 12,
   "metadata": {},
   "outputs": [
    {
     "data": {
      "text/plain": [
       "(50, 30, 20, 10, 40, 70, 60, 90, 80, 100)"
      ]
     },
     "execution_count": 12,
     "metadata": {},
     "output_type": "execute_result"
    }
   ],
   "source": [
    "50, 30, 20, 10, 40, 70, 60, 90, 80, 100"
   ]
  },
  {
   "cell_type": "code",
   "execution_count": 13,
   "metadata": {},
   "outputs": [
    {
     "name": "stdout",
     "output_type": "stream",
     "text": [
      "10-> 20-> 30-> 40-> 50-> 60-> 70-> 80-> 90-> 100-> "
     ]
    }
   ],
   "source": [
    "tree.inorder()"
   ]
  },
  {
   "cell_type": "code",
   "execution_count": 1,
   "metadata": {},
   "outputs": [
    {
     "name": "stdout",
     "output_type": "stream",
     "text": [
      "Traversing PreOrder\n",
      "50-> 30-> 20-> 10-> 40-> 70-> 60-> 90-> 80-> 100-> Traversin InOrder\n",
      "10-> 20-> 30-> 40-> 50-> 60-> 70-> 80-> 90-> 100-> Traversing PostOrder\n"
     ]
    },
    {
     "ename": "AttributeError",
     "evalue": "'BST' object has no attribute 'postorder'",
     "output_type": "error",
     "traceback": [
      "\u001b[1;31m---------------------------------------------------------------------------\u001b[0m",
      "\u001b[1;31mAttributeError\u001b[0m                            Traceback (most recent call last)",
      "\u001b[1;32m<ipython-input-1-de158c750103>\u001b[0m in \u001b[0;36m<module>\u001b[1;34m\u001b[0m\n\u001b[0;32m     71\u001b[0m \u001b[0mtree\u001b[0m\u001b[1;33m.\u001b[0m\u001b[0minorder\u001b[0m\u001b[1;33m(\u001b[0m\u001b[1;33m)\u001b[0m\u001b[1;33m\u001b[0m\u001b[1;33m\u001b[0m\u001b[0m\n\u001b[0;32m     72\u001b[0m \u001b[0mprint\u001b[0m\u001b[1;33m(\u001b[0m\u001b[1;34m\"Traversing PostOrder\"\u001b[0m\u001b[1;33m)\u001b[0m\u001b[1;33m\u001b[0m\u001b[1;33m\u001b[0m\u001b[0m\n\u001b[1;32m---> 73\u001b[1;33m \u001b[0mtree\u001b[0m\u001b[1;33m.\u001b[0m\u001b[0mpostorder\u001b[0m\u001b[1;33m(\u001b[0m\u001b[1;33m)\u001b[0m\u001b[1;33m\u001b[0m\u001b[1;33m\u001b[0m\u001b[0m\n\u001b[0m",
      "\u001b[1;31mAttributeError\u001b[0m: 'BST' object has no attribute 'postorder'"
     ]
    }
   ],
   "source": [
    "class BST:\n",
    "    def __init__(self, value):\n",
    "        self.info = value\n",
    "        self.left = None\n",
    "        self.right = None\n",
    "    def insert(self, value):\n",
    "        tree = self\n",
    "        while True:\n",
    "            if tree.info > value:\n",
    "                # left sub tree\n",
    "                if tree.left is None:\n",
    "                    tree.left = BST(value)\n",
    "                    break\n",
    "                else:\n",
    "                    tree = tree.left\n",
    "            else:\n",
    "                # right sub tree\n",
    "                if tree.right is None:\n",
    "                    tree.right = BST(value)\n",
    "                    break\n",
    "                else:\n",
    "                    tree = tree.right\n",
    "                    \n",
    "    def preorder(self):\n",
    "        root = self\n",
    "        stack = []\n",
    "        stack.append(root)\n",
    "        while len(stack) > 0:\n",
    "            top = stack.pop()\n",
    "            print(top.info, end='-> ')\n",
    "            if top.right : stack.append(top.right)\n",
    "            if top.left  : stack.append(top.left)\n",
    "                \n",
    "    def inorder(self):\n",
    "        root = self\n",
    "        stack = []\n",
    "        while True:\n",
    "            while root is not None:\n",
    "                stack.append(root)\n",
    "                root = root.left\n",
    "            if len(stack) > 0:\n",
    "                top = stack.pop()\n",
    "                print(top.info, end='-> ')\n",
    "                root = top.right\n",
    "            else:\n",
    "                break\n",
    "    def postorder(self):\n",
    "        root = self\n",
    "        \n",
    "            \n",
    "    def search(self, key):\n",
    "        root = self\n",
    "        while True:\n",
    "            if root is None:\n",
    "                return -1\n",
    "            if root.info == key:\n",
    "                return root\n",
    "            if key < root.info:\n",
    "                # search in left sub tree\n",
    "                root = root.left\n",
    "            else:\n",
    "                root = root.right\n",
    "        \n",
    "        \n",
    "        \n",
    "tree = BST(50)\n",
    "arr = [ 30, 20, 10, 40, 70, 60, 90, 80, 100]\n",
    "for item in arr:\n",
    "    tree.insert(item)\n",
    "    \n",
    "print(\"Traversing PreOrder\")\n",
    "tree.preorder()\n",
    "print(\"Traversin InOrder\")\n",
    "tree.inorder()\n",
    "print(\"Traversing PostOrder\")\n",
    "tree.postorder()"
   ]
  },
  {
   "cell_type": "code",
   "execution_count": 4,
   "metadata": {},
   "outputs": [
    {
     "name": "stdout",
     "output_type": "stream",
     "text": [
      "\n",
      "Traversing PreOrder\n",
      "50-> 30-> 20-> 10-> 40-> 70-> 60-> 90-> 80-> 100-> \n",
      "Traversin InOrder\n",
      "10-> 20-> 30-> 40-> 50-> 60-> 70-> 80-> 90-> 100-> \n",
      "Traversing PostOrder\n",
      "10-> 20-> 40-> 30-> 60-> 80-> 100-> 90-> 70-> 50-> "
     ]
    }
   ],
   "source": [
    "class BST:\n",
    "    def __init__(self, data):\n",
    "        self.info = data\n",
    "        self.left = None\n",
    "        self.right = None\n",
    "    def insert(self, data):\n",
    "        if self.info > data:\n",
    "            if self.left is None:\n",
    "                self.left = BST(data)\n",
    "            else:\n",
    "                self.left.insert(data)\n",
    "        else:\n",
    "            if self.right is None:\n",
    "                self.right = BST(data)\n",
    "            else:\n",
    "                self.right.insert(data)\n",
    "    def inorder(self):\n",
    "        if self.left is not None:\n",
    "            self.left.inorder()\n",
    "        print(self.info, end='-> ')\n",
    "        if self.right is not None:\n",
    "            self.right.inorder()\n",
    "        \n",
    "    def preorder(self):\n",
    "        print(self.info, end='-> ')\n",
    "        if self.left is not None:\n",
    "            self.left.preorder()\n",
    "        if self.right is not None:\n",
    "            self.right.preorder()\n",
    "            \n",
    "    def postorder(self):\n",
    "        if self.left is not None:\n",
    "            self.left.postorder()\n",
    "        if self.right is not None:\n",
    "            self.right.postorder()\n",
    "        print(self.info, end='-> ')\n",
    "    def search(self, key):\n",
    "        if self is None:\n",
    "            return -1\n",
    "        if self.info == key:\n",
    "            # root node matches\n",
    "            return self\n",
    "        elif key < self.info:\n",
    "            # left subtree\n",
    "            if self.left is not None:\n",
    "                return self.left.search(key)\n",
    "            else:\n",
    "                return -1\n",
    "            #search(root.left)\n",
    "        else:\n",
    "            if self.right is not None:\n",
    "                return self.right.search(key)\n",
    "            else:\n",
    "                return -1\n",
    "        \n",
    "        \n",
    "tree = BST(50)\n",
    "arr = [ 30, 20, 10, 40, 70, 60, 90, 80, 100]\n",
    "for item in arr:\n",
    "    tree.insert(item)\n",
    "    \n",
    "print(\"\\nTraversing PreOrder\")\n",
    "tree.preorder()\n",
    "print(\"\\nTraversin InOrder\")\n",
    "tree.inorder()\n",
    "print(\"\\nTraversing PostOrder\")\n",
    "tree.postorder()"
   ]
  },
  {
   "cell_type": "code",
   "execution_count": 48,
   "metadata": {},
   "outputs": [],
   "source": [
    "tree = BST(50)\n",
    "arr = [ 30, 20, 10, 40, 70, 60, 90, 80, 100]\n",
    "for item in arr:\n",
    "    tree.insert(item)"
   ]
  },
  {
   "cell_type": "code",
   "execution_count": 49,
   "metadata": {},
   "outputs": [
    {
     "data": {
      "text/plain": [
       "80"
      ]
     },
     "execution_count": 49,
     "metadata": {},
     "output_type": "execute_result"
    }
   ],
   "source": [
    "tree.search(90).left.info"
   ]
  },
  {
   "cell_type": "code",
   "execution_count": 50,
   "metadata": {},
   "outputs": [
    {
     "data": {
      "text/plain": [
       "90"
      ]
     },
     "execution_count": 50,
     "metadata": {},
     "output_type": "execute_result"
    }
   ],
   "source": [
    "tree.search(90).info"
   ]
  },
  {
   "cell_type": "code",
   "execution_count": 51,
   "metadata": {},
   "outputs": [
    {
     "data": {
      "text/plain": [
       "100"
      ]
     },
     "execution_count": 51,
     "metadata": {},
     "output_type": "execute_result"
    }
   ],
   "source": [
    "tree.search(90).right.info"
   ]
  },
  {
   "cell_type": "code",
   "execution_count": null,
   "metadata": {},
   "outputs": [],
   "source": []
  }
 ],
 "metadata": {
  "kernelspec": {
   "display_name": "Python 3",
   "language": "python",
   "name": "python3"
  },
  "language_info": {
   "codemirror_mode": {
    "name": "ipython",
    "version": 3
   },
   "file_extension": ".py",
   "mimetype": "text/x-python",
   "name": "python",
   "nbconvert_exporter": "python",
   "pygments_lexer": "ipython3",
   "version": "3.8.8"
  }
 },
 "nbformat": 4,
 "nbformat_minor": 4
}
